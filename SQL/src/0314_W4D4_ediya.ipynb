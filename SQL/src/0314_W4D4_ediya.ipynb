{
 "cells": [
  {
   "cell_type": "code",
   "execution_count": 2,
   "metadata": {},
   "outputs": [
    {
     "name": "stderr",
     "output_type": "stream",
     "text": [
      "/tmp/ipykernel_22024/1392742312.py:1: DeprecationWarning: \n",
      "Pyarrow will become a required dependency of pandas in the next major release of pandas (pandas 3.0),\n",
      "(to allow more performant data types, such as the Arrow string type, and better interoperability with other libraries)\n",
      "but was not found to be installed on your system.\n",
      "If this would cause problems for you,\n",
      "please provide us feedback at https://github.com/pandas-dev/pandas/issues/54466\n",
      "        \n",
      "  import pandas as pd\n"
     ]
    }
   ],
   "source": [
    "import pandas as pd\n",
    "import json\n",
    "import folium\n",
    "import numpy as np\n",
    "import re\n",
    "\n",
    "from selenium import webdriver\n",
    "from selenium.webdriver.chrome.service import Service\n",
    "from selenium.webdriver.common.by import By\n",
    "from selenium.webdriver.common.keys import Keys\n",
    "from bs4 import BeautifulSoup\n",
    "\n",
    "from tqdm.notebook import tqdm\n",
    "\n",
    "import time\n",
    "\n",
    "from geopy.geocoders import Nominatim\n",
    "geo_local = Nominatim(user_agent='South Korea')\n",
    "def geocoding(address):\n",
    "    try:\n",
    "        geo = geo_local.geocode(address)\n",
    "        x_y = [geo.latitude, geo.longitude]\n",
    "        return x_y\n",
    "\n",
    "    except:\n",
    "        return [0,0]"
   ]
  },
  {
   "cell_type": "code",
   "execution_count": 2,
   "metadata": {},
   "outputs": [],
   "source": [
    "ediya_driver = webdriver.Chrome(service=Service(\"../driver/chromedriver\"))\n",
    "ediya_driver.maximize_window()\n",
    "ediya_driver.get(\"https://www.ediya.com/contents/find_store.html#c\")\n"
   ]
  },
  {
   "cell_type": "code",
   "execution_count": 3,
   "metadata": {},
   "outputs": [],
   "source": [
    "gu_list = [\n",
    "    '강남구','강동구','강북구','강서구','관악구','광진구','구로구','금천구',\n",
    "    '노원구','도봉구','동대문구','동작구','마포구','서대문구','서초구','성동구',\n",
    "    '성북구','송파구','양천구','영등포구','용산구','은평구','종로구','중구','중랑구'\n",
    "    ]"
   ]
  },
  {
   "cell_type": "code",
   "execution_count": 4,
   "metadata": {},
   "outputs": [
    {
     "data": {
      "application/vnd.jupyter.widget-view+json": {
       "model_id": "6fc5ccdfd8824b74983cfb0db7da2238",
       "version_major": 2,
       "version_minor": 0
      },
      "text/plain": [
       "  0%|          | 0/25 [00:00<?, ?it/s]"
      ]
     },
     "metadata": {},
     "output_type": "display_data"
    }
   ],
   "source": [
    "ediya_stores = []\n",
    "\n",
    "for gu  in tqdm(gu_list) :\n",
    "\n",
    "    ediya_driver.find_element(By.XPATH,\"\"\"//*[@id=\"contentWrap\"]/div[3]/div/div[1]/ul/li[2]/a\"\"\").click()\n",
    "    time.sleep(1)\n",
    "    ediya_driver.find_element(By.ID,\"keyword\").send_keys(\"서울 \" + gu + Keys.ENTER)\n",
    "    time.sleep(1) \n",
    "\n",
    "    html = ediya_driver.page_source\n",
    "    soup = BeautifulSoup(html, 'html.parser')\n",
    "    ediya_store = soup.find_all(\"li\",\"item\")\n",
    "\n",
    "    for each in ediya_store :\n",
    "        ediya_store_info = [\n",
    "            gu, #re.search(\"\\s\\w+[ \\S]*\", each.text).group().split()[1],\n",
    "            re.search(\"\\w+ \", each.text).group()[:-1],\n",
    "            re.search(\"\\s\\w+[ \\S]*\", each.text).group()[1:].split(\"(\")[0],\n",
    "            ''\n",
    "        ]\n",
    "        \n",
    "        ediya_stores.append(ediya_store_info)"
   ]
  },
  {
   "cell_type": "code",
   "execution_count": 5,
   "metadata": {},
   "outputs": [
    {
     "data": {
      "application/vnd.jupyter.widget-view+json": {
       "model_id": "05159879d6464cbba913e39b93f53550",
       "version_major": 2,
       "version_minor": 0
      },
      "text/plain": [
       "  0%|          | 0/724 [00:00<?, ?it/s]"
      ]
     },
     "metadata": {},
     "output_type": "display_data"
    }
   ],
   "source": [
    "for i in tqdm(range(len(ediya_stores))):\n",
    "    lat_lng = geocoding(ediya_stores[i][2])\n",
    "    ediya_stores[i][2] = lat_lng[0]\n",
    "    ediya_stores[i][3] = lat_lng[1]"
   ]
  },
  {
   "cell_type": "code",
   "execution_count": 15,
   "metadata": {},
   "outputs": [
    {
     "data": {
      "text/html": [
       "<div>\n",
       "<style scoped>\n",
       "    .dataframe tbody tr th:only-of-type {\n",
       "        vertical-align: middle;\n",
       "    }\n",
       "\n",
       "    .dataframe tbody tr th {\n",
       "        vertical-align: top;\n",
       "    }\n",
       "\n",
       "    .dataframe thead th {\n",
       "        text-align: right;\n",
       "    }\n",
       "</style>\n",
       "<table border=\"1\" class=\"dataframe\">\n",
       "  <thead>\n",
       "    <tr style=\"text-align: right;\">\n",
       "      <th></th>\n",
       "      <th>0</th>\n",
       "      <th>1</th>\n",
       "      <th>2</th>\n",
       "      <th>3</th>\n",
       "    </tr>\n",
       "  </thead>\n",
       "  <tbody>\n",
       "    <tr>\n",
       "      <th>0</th>\n",
       "      <td>강남구</td>\n",
       "      <td>강남YMCA점</td>\n",
       "      <td>37.512302</td>\n",
       "      <td>127.029494</td>\n",
       "    </tr>\n",
       "    <tr>\n",
       "      <th>1</th>\n",
       "      <td>강남구</td>\n",
       "      <td>강남구청역아이티웨딩점</td>\n",
       "      <td>37.519970</td>\n",
       "      <td>127.056947</td>\n",
       "    </tr>\n",
       "    <tr>\n",
       "      <th>2</th>\n",
       "      <td>강남구</td>\n",
       "      <td>강남논현학동점</td>\n",
       "      <td>37.514393</td>\n",
       "      <td>127.029435</td>\n",
       "    </tr>\n",
       "    <tr>\n",
       "      <th>3</th>\n",
       "      <td>강남구</td>\n",
       "      <td>강남대치점</td>\n",
       "      <td>37.504118</td>\n",
       "      <td>127.059377</td>\n",
       "    </tr>\n",
       "    <tr>\n",
       "      <th>4</th>\n",
       "      <td>강남구</td>\n",
       "      <td>강남도산점</td>\n",
       "      <td>37.522084</td>\n",
       "      <td>127.031342</td>\n",
       "    </tr>\n",
       "  </tbody>\n",
       "</table>\n",
       "</div>"
      ],
      "text/plain": [
       "     0            1          2           3\n",
       "0  강남구      강남YMCA점  37.512302  127.029494\n",
       "1  강남구  강남구청역아이티웨딩점  37.519970  127.056947\n",
       "2  강남구      강남논현학동점  37.514393  127.029435\n",
       "3  강남구        강남대치점  37.504118  127.059377\n",
       "4  강남구        강남도산점  37.522084  127.031342"
      ]
     },
     "execution_count": 15,
     "metadata": {},
     "output_type": "execute_result"
    }
   ],
   "source": [
    "ediya = pd.DataFrame(ediya_stores)\n",
    "ediya.head()"
   ]
  },
  {
   "cell_type": "code",
   "execution_count": 1,
   "metadata": {},
   "outputs": [
    {
     "ename": "NameError",
     "evalue": "name 'folium' is not defined",
     "output_type": "error",
     "traceback": [
      "\u001b[0;31m---------------------------------------------------------------------------\u001b[0m",
      "\u001b[0;31mNameError\u001b[0m                                 Traceback (most recent call last)",
      "Cell \u001b[0;32mIn[1], line 1\u001b[0m\n\u001b[0;32m----> 1\u001b[0m mapping \u001b[38;5;241m=\u001b[39m \u001b[43mfolium\u001b[49m\u001b[38;5;241m.\u001b[39mMap(location\u001b[38;5;241m=\u001b[39m[\u001b[38;5;241m37.53\u001b[39m, \u001b[38;5;241m127\u001b[39m], width\u001b[38;5;241m=\u001b[39m\u001b[38;5;124m\"\u001b[39m\u001b[38;5;124m100\u001b[39m\u001b[38;5;124m%\u001b[39m\u001b[38;5;124m\"\u001b[39m, height\u001b[38;5;241m=\u001b[39m\u001b[38;5;124m\"\u001b[39m\u001b[38;5;124m100\u001b[39m\u001b[38;5;124m%\u001b[39m\u001b[38;5;124m\"\u001b[39m, zoom_start\u001b[38;5;241m=\u001b[39m\u001b[38;5;241m11.8\u001b[39m)\n\u001b[1;32m      3\u001b[0m \u001b[38;5;28;01mfor\u001b[39;00m idx, row \u001b[38;5;129;01min\u001b[39;00m starbucks\u001b[38;5;241m.\u001b[39miterrows():\n\u001b[1;32m      4\u001b[0m     folium\u001b[38;5;241m.\u001b[39mCircle(\n\u001b[1;32m      5\u001b[0m         location\u001b[38;5;241m=\u001b[39m[row[\u001b[38;5;241m1\u001b[39m], row[\u001b[38;5;241m2\u001b[39m]],\n\u001b[1;32m      6\u001b[0m         radius\u001b[38;5;241m=\u001b[39m\u001b[38;5;241m100\u001b[39m,\n\u001b[0;32m   (...)\u001b[0m\n\u001b[1;32m      9\u001b[0m         fill_color\u001b[38;5;241m=\u001b[39m\u001b[38;5;124m'\u001b[39m\u001b[38;5;124mgreen\u001b[39m\u001b[38;5;124m'\u001b[39m\n\u001b[1;32m     10\u001b[0m         )\u001b[38;5;241m.\u001b[39madd_to(mapping)\n",
      "\u001b[0;31mNameError\u001b[0m: name 'folium' is not defined"
     ]
    }
   ],
   "source": [
    "mapping = folium.Map(location=[37.53, 127], width=\"100%\", height=\"100%\", zoom_start=11.8)\n",
    "    \n",
    "for idx, row in ediya.iterrows():\n",
    "    folium.Circle(\n",
    "        location=[row[2], row[3]],\n",
    "        radius=100,\n",
    "        color='blue',\n",
    "        fill=True,\n",
    "        fill_color='blue'\n",
    "        ).add_to(mapping)\n",
    "\n",
    "mapping"
   ]
  },
  {
   "cell_type": "code",
   "execution_count": null,
   "metadata": {},
   "outputs": [],
   "source": []
  }
 ],
 "metadata": {
  "kernelspec": {
   "display_name": "eda_venv",
   "language": "python",
   "name": "python3"
  },
  "language_info": {
   "codemirror_mode": {
    "name": "ipython",
    "version": 3
   },
   "file_extension": ".py",
   "mimetype": "text/x-python",
   "name": "python",
   "nbconvert_exporter": "python",
   "pygments_lexer": "ipython3",
   "version": "3.10.12"
  }
 },
 "nbformat": 4,
 "nbformat_minor": 2
}
