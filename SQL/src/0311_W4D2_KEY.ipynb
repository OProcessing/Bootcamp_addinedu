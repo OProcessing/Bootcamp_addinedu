{
 "cells": [
  {
   "cell_type": "code",
   "execution_count": 1,
   "metadata": {},
   "outputs": [],
   "source": [
    "import mysql.connector\n"
   ]
  },
  {
   "cell_type": "code",
   "execution_count": 3,
   "metadata": {},
   "outputs": [],
   "source": [
    "conn = mysql.connector.connect(\n",
    "    host = \"database-1.c96mmei8egml.ap-northeast-2.rds.amazonaws.com\",\n",
    "    port = \"3306\",\n",
    "    user = \"robot\",\n",
    "    password = \" \",\n",
    "    database = \"amrbase\"\n",
    ")"
   ]
  },
  {
   "cell_type": "code",
   "execution_count": 4,
   "metadata": {},
   "outputs": [],
   "source": [
    "cursor = conn.cursor(buffered=True)"
   ]
  },
  {
   "cell_type": "code",
   "execution_count": 5,
   "metadata": {},
   "outputs": [
    {
     "name": "stdout",
     "output_type": "stream",
     "text": [
      "('강남', '서울특별시 강남구 테헤란로 114길 11')\n",
      "('강동', '서울특별시 강동구 성내로 33')\n",
      "('강북', '서울특별시 강북구 오패산로 406')\n",
      "('강서', '서울특별시 양천구 화곡로 73')\n",
      "('관악', '서울특별시 관악구 관악로5길 33')\n",
      "('광진', '서울특별시 광진구 광나루로 447 광진소방서 임시청사 (능동)')\n",
      "('구로', '서울특별시 구로구 가마산로 235')\n",
      "('금천', '서울특별시 관악구 남부순환로 1435')\n",
      "('남대문', '서울특별시 중구 한강대로 410')\n",
      "('노원', '서울특별시 노원구 노원로 283')\n",
      "('도봉', '서울특별시 도봉구 노해로 403')\n",
      "('동대문', '서울특별시 동대문구 약령시로 21길 29')\n",
      "('동작', '서울특별시 동작구 노량진로 148')\n",
      "('마포', '서울특별시 마포구 마포대로 183')\n",
      "('방배', '서울특별시 서초구 방배천로 54')\n",
      "('서대문', '서울특별시 서대문구 통일로 113')\n",
      "('서부', '서울특별시 은평구 은평로9길 15')\n",
      "('서초', '서울특별시 서초구 반포대로 179')\n",
      "('성동', '서울특별시 성동구 왕십리광장로 9')\n",
      "('성북', '서울특별시 성북구 보문로 170')\n",
      "('송파', '서울특별시 송파구 중대로 221')\n",
      "('수서', '서울특별시 강남구 개포로 617')\n",
      "('양천', '서울특별시 양천구 목동동로 99')\n",
      "('영등포', '서울특별시 영등포구 국회대로 608')\n",
      "('용산', '서울특별시 용산구 원효로89길 24')\n",
      "('은평', '서울특별시 은평구 연서로 365')\n",
      "('종로', '서울특별시 종로구 율곡로 46')\n",
      "('종암', '서울특별시 성북구 종암로 135')\n",
      "('중랑', '서울특별시 중랑구 중랑역로 137')\n",
      "('중부', '서울특별시 중구 수표로 27')\n",
      "('혜화', '서울특별시 종로구 창경궁로 112-16')\n"
     ]
    }
   ],
   "source": [
    "\n",
    "cursor.execute(\"SELECT c.police_station, p.address FROM crime_status c, police_station p WHERE c.reference = p.name group by c.police_station\")\n",
    "result = cursor.fetchall()\n",
    "for row in result:\n",
    "    print(row)"
   ]
  }
 ],
 "metadata": {
  "kernelspec": {
   "display_name": "eda_venv",
   "language": "python",
   "name": "python3"
  },
  "language_info": {
   "codemirror_mode": {
    "name": "ipython",
    "version": 3
   },
   "file_extension": ".py",
   "mimetype": "text/x-python",
   "name": "python",
   "nbconvert_exporter": "python",
   "pygments_lexer": "ipython3",
   "version": "3.10.12"
  }
 },
 "nbformat": 4,
 "nbformat_minor": 2
}
