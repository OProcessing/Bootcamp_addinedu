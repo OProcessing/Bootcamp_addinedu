{
 "cells": [
  {
   "cell_type": "code",
   "execution_count": null,
   "metadata": {},
   "outputs": [],
   "source": [
    "import pandas as pd\n",
    "import json\n",
    "import folium\n",
    "import numpy as np\n",
    "\n",
    "from selenium import webdriver\n",
    "from selenium.webdriver.chrome.service import Service\n",
    "from selenium.webdriver.common.by import By\n",
    "from selenium.webdriver.common.keys import Keys\n",
    "\n",
    "from tqdm.notebook import tqdm\n",
    "\n",
    "import time"
   ]
  },
  {
   "cell_type": "code",
   "execution_count": null,
   "metadata": {},
   "outputs": [],
   "source": [
    "starbucks_driver = webdriver.Chrome(service=Service(\"../driver/chromedriver\"))\n",
    "starbucks_driver.maximize_window()\n",
    "starbucks_driver.get(\"https://www.starbucks.co.kr/store/store_map.do\")\n",
    "starbucks_driver.implicitly_wait(5)"
   ]
  },
  {
   "cell_type": "code",
   "execution_count": null,
   "metadata": {},
   "outputs": [],
   "source": [
    "starbucks_driver.find_element(By.CLASS_NAME,\"loca_search\").click()\n",
    "time.sleep(1)\n",
    "starbucks_driver.find_element(By.CLASS_NAME,\"set_sido_cd_btn\").click()\n",
    "time.sleep(1)\n",
    "starbucks_driver.find_element(By.CLASS_NAME,\"set_gugun_cd_btn\").click()\n",
    "time.sleep(1)"
   ]
  },
  {
   "cell_type": "code",
   "execution_count": null,
   "metadata": {},
   "outputs": [],
   "source": [
    "starbucks_stores_box = starbucks_driver.find_element(By.CLASS_NAME,\"quickSearchResultBoxSidoGugun\")\n",
    "starbucks_stores = starbucks_stores_box.find_elements(By.CLASS_NAME,\"quickResultLstCon\")"
   ]
  },
  {
   "cell_type": "markdown",
   "metadata": {},
   "source": [
    "<li class=\"quickResultLstCon\" style=\"background:#fff\" data-lat=\"37.501087\" data-long=\"127.043069\" data-index=\"0\" data-name=\"역삼아레나빌딩\" data-code=\"3762\" data-storecd=\"1509\" data-hlytag=\"null\">\t<strong data-store=\"1509\" data-yn=\"N\" data-name=\"역삼아레나빌딩\" data-my_siren_order_store_yn=\"N\">역삼아레나빌딩  </strong>\t<p class=\"result_details\">서울특별시 강남구 언주로 425 (역삼동)<br>1522-3232</p>\t<i class=\"pin_general\">리저브 매장 2번</i></li>"
   ]
  },
  {
   "cell_type": "code",
   "execution_count": null,
   "metadata": {},
   "outputs": [],
   "source": [
    "starbucks_stores[0].get_attribute(\"data-index\")\n",
    "starbucks_stores[0].get_attribute(\"data-lat\")\n",
    "starbucks_stores[0].get_attribute(\"data-long\")\n",
    "starbucks_stores[0].get_attribute(\"data-name\")"
   ]
  },
  {
   "cell_type": "code",
   "execution_count": null,
   "metadata": {},
   "outputs": [],
   "source": [
    "starbucks_stores_info = []\n",
    "for each in starbucks_stores :\n",
    "    starbucks_store_info = [\n",
    "        each.get_attribute(\"data-name\"),\n",
    "        each.get_attribute(\"data-lat\"),\n",
    "        each.get_attribute(\"data-long\")\n",
    "    ]\n",
    "    starbucks_stores_info.append(starbucks_store_info)"
   ]
  },
  {
   "cell_type": "code",
   "execution_count": null,
   "metadata": {},
   "outputs": [],
   "source": [
    "df = pd.DataFrame(starbucks_stores_info)\n",
    "df"
   ]
  },
  {
   "cell_type": "code",
   "execution_count": null,
   "metadata": {},
   "outputs": [],
   "source": [
    "mapping = folium.Map(location=[37.53, 127], width=\"100%\", height=\"100%\", zoom_start=11.8)\n",
    "\n",
    "for idx, row in df.iterrows():\n",
    "    folium.Circle(\n",
    "        location=[row[1], row[2]],\n",
    "        radius=200,\n",
    "        color='green',\n",
    "        fill=True,\n",
    "        fill_color='green'\n",
    "        ).add_to(mapping)\n",
    "\n",
    "mapping"
   ]
  },
  {
   "cell_type": "code",
   "execution_count": null,
   "metadata": {},
   "outputs": [],
   "source": [
    "starbucks_driver.quit()"
   ]
  },
  {
   "cell_type": "code",
   "execution_count": null,
   "metadata": {},
   "outputs": [],
   "source": []
  }
 ],
 "metadata": {
  "kernelspec": {
   "display_name": "eda_venv",
   "language": "python",
   "name": "python3"
  },
  "language_info": {
   "codemirror_mode": {
    "name": "ipython",
    "version": 3
   },
   "file_extension": ".py",
   "mimetype": "text/x-python",
   "name": "python",
   "nbconvert_exporter": "python",
   "pygments_lexer": "ipython3",
   "version": "3.10.12"
  }
 },
 "nbformat": 4,
 "nbformat_minor": 2
}
