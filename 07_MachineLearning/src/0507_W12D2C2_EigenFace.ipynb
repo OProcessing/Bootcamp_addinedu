{
 "cells": [
  {
   "cell_type": "markdown",
   "metadata": {},
   "source": [
    "# PCA Eigen Face\n",
    "\n",
    "olivetti 데이터는 AT&T와 캠브릿지 대학의 공동연구 데이터이다. \\\n",
    "이 데이터 중에서 특정 인물의 데이터를 이용하여 PCA를 해본다."
   ]
  },
  {
   "cell_type": "code",
   "execution_count": null,
   "metadata": {},
   "outputs": [],
   "source": [
    "import numpy as np\n",
    "import pandas as pd\n",
    "import matplotlib.pyplot as plt\n",
    "from sklearn.datasets import fetch_olivetti_faces"
   ]
  },
  {
   "cell_type": "code",
   "execution_count": null,
   "metadata": {},
   "outputs": [],
   "source": [
    "faces_all = fetch_olivetti_faces()\n",
    "print(faces_all.DESCR)"
   ]
  },
  {
   "cell_type": "code",
   "execution_count": null,
   "metadata": {},
   "outputs": [],
   "source": [
    "K = 20\n",
    "faces = faces_all.images[faces_all.target == K]\n",
    "faces[:1]"
   ]
  },
  {
   "cell_type": "code",
   "execution_count": null,
   "metadata": {},
   "outputs": [],
   "source": [
    "N = 2\n",
    "M = 5\n",
    "fig = plt.figure(figsize=(10,5))\n",
    "plt.subplots_adjust(top=1, bottom=0, hspace=0, wspace=0.05)\n",
    "for n in range(N*M) :\n",
    "    ax = fig.add_subplot(N, M, n+1)\n",
    "    ax.imshow(faces[n], cmap=plt.cm.bone)\n",
    "    ax.grid(False)\n",
    "    ax.xaxis.set_ticks([])\n",
    "    ax.yaxis.set_ticks([])\n",
    "\n",
    "plt.suptitle(\"Olivetti\")\n",
    "plt.tight_layout()\n",
    "plt.show()"
   ]
  },
  {
   "cell_type": "code",
   "execution_count": null,
   "metadata": {},
   "outputs": [],
   "source": [
    "# 10개의 얼굴 이미지를 두 개의 성분으로 표현한다.\n",
    "from sklearn.decomposition import PCA\n",
    "\n",
    "pca = PCA(n_components=2)\n",
    "\n",
    "X = faces_all.data[faces_all.target == K]\n",
    "W = pca.fit_transform(X)\n",
    "\n",
    "X_inv = pca.inverse_transform(W)"
   ]
  },
  {
   "cell_type": "code",
   "execution_count": null,
   "metadata": {},
   "outputs": [],
   "source": [
    "N = 2\n",
    "M = 5\n",
    "fig = plt.figure(figsize=(10, 5))\n",
    "plt.subplots_adjust(top=1, bottom=0, hspace=0, wspace=0.05)\n",
    "for n in range(N*M) :\n",
    "    ax = fig.add_subplot(N, M, n+1)\n",
    "    ax.imshow(X_inv[n].reshape(64, 64), cmap=plt.cm.bone)\n",
    "    ax.grid(False)\n",
    "    ax.xaxis.set_ticks([])\n",
    "    ax.yaxis.set_ticks([])\n",
    "\n",
    "\n",
    "plt.suptitle(\"PCA Result\")\n",
    "plt.tight_layout()\n",
    "plt.show()"
   ]
  },
  {
   "cell_type": "code",
   "execution_count": null,
   "metadata": {},
   "outputs": [],
   "source": [
    "# 10장의 이미지는 아래 세 장으로 모두 표현할 수 있다.\n",
    "face_mean = pca.mean_.reshape(64, 64)\n",
    "face_p1 = pca.components_[0].reshape(64, 64)\n",
    "face_p2 = pca.components_[1].reshape(64, 64)\n",
    "\n",
    "plt.figure(figsize=(12,7))\n",
    "plt.subplot(131)\n",
    "plt.imshow(face_mean, cmap=plt.cm.bone)\n",
    "plt.grid(False); plt.xticks([]); plt.yticks([]); plt.title(\"mean\")\n",
    "plt.subplot(132)\n",
    "plt.imshow(face_p1, cmap=plt.cm.bone)\n",
    "plt.grid(False); plt.xticks([]); plt.yticks([]); plt.title(\"face_p1\")\n",
    "plt.subplot(133)\n",
    "plt.imshow(face_p2, cmap=plt.cm.bone)\n",
    "plt.grid(False); plt.xticks([]); plt.yticks([]); plt.title(\"face_p2\")\n",
    "plt.show()\n"
   ]
  },
  {
   "cell_type": "code",
   "execution_count": null,
   "metadata": {},
   "outputs": [],
   "source": [
    "N = 2\n",
    "M = 5\n",
    "w = np.linspace(-5, 10, N*M)\n",
    "w"
   ]
  },
  {
   "cell_type": "code",
   "execution_count": null,
   "metadata": {},
   "outputs": [],
   "source": [
    "fig = plt.figure(figsize=(10,5))\n",
    "plt.subplots_adjust(top=1, bottom=0, hspace=0, wspace=0.05)\n",
    "\n",
    "for n in range(N*M) :\n",
    "    ax = fig.add_subplot(N, M, n+1)\n",
    "    ax.imshow(face_mean + w[n] * face_p1, cmap=plt.cm.bone)\n",
    "    plt.grid(False); plt.xticks([]); plt.yticks([])\n",
    "    plt.title('Weight : ' + str(round(w[n])))\n",
    "\n",
    "plt.tight_layout()\n",
    "plt.show()"
   ]
  },
  {
   "cell_type": "code",
   "execution_count": null,
   "metadata": {},
   "outputs": [],
   "source": [
    "fig = plt.figure(figsize=(10,5))\n",
    "plt.subplots_adjust(top=1, bottom=0, hspace=0, wspace=0.05)\n",
    "\n",
    "for n in range(N*M) :\n",
    "    ax = fig.add_subplot(N, M, n+1)\n",
    "    ax.imshow(face_mean + w[n] * face_p2, cmap=plt.cm.bone)\n",
    "    plt.grid(False); plt.xticks([]); plt.yticks([])\n",
    "    plt.title('Weight : ' + str(round(w[n])))\n",
    "\n",
    "plt.tight_layout()\n",
    "plt.show()"
   ]
  },
  {
   "cell_type": "code",
   "execution_count": null,
   "metadata": {},
   "outputs": [],
   "source": [
    "nx, ny = (5,5)\n",
    "x = np.linspace(-5, 8, nx)\n",
    "y = np.linspace(-5, 8, ny)\n",
    "w1, w2 = np.meshgrid(x, y)\n",
    "w1 =  w1.reshape(-1,)\n",
    "w2 =  w2.reshape(-1,)"
   ]
  },
  {
   "cell_type": "code",
   "execution_count": null,
   "metadata": {},
   "outputs": [],
   "source": [
    "# 각 성분의 가중치 변화에 따른 얼굴 표\n",
    "\n",
    "fig = plt.figure(figsize=(12,10))\n",
    "plt.subplots_adjust(top=1, bottom=0, hspace=0, wspace=0.05)\n",
    "\n",
    "N = 5\n",
    "M = 5\n",
    "\n",
    "for n in range(N*M) :\n",
    "    ax = fig.add_subplot(N, M, n+1)\n",
    "    ax.imshow(face_mean + w1[n] * face_p1 + w2[n] * face_p2, cmap=plt.cm.bone)\n",
    "    plt.grid(False); plt.xticks([]); plt.yticks([])\n",
    "    plt.title('Weight : ' + str(round(w1[n])) + ', ' + str(round(w2[n])))\n",
    "\n",
    "plt.show()"
   ]
  }
 ],
 "metadata": {
  "kernelspec": {
   "display_name": "openCV_venv",
   "language": "python",
   "name": "python3"
  },
  "language_info": {
   "codemirror_mode": {
    "name": "ipython",
    "version": 3
   },
   "file_extension": ".py",
   "mimetype": "text/x-python",
   "name": "python",
   "nbconvert_exporter": "python",
   "pygments_lexer": "ipython3",
   "version": "3.10.12"
  }
 },
 "nbformat": 4,
 "nbformat_minor": 2
}
