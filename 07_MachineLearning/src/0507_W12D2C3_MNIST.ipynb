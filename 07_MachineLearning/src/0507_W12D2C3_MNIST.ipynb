{
 "cells": [
  {
   "cell_type": "markdown",
   "metadata": {},
   "source": [
    "# MNIST\n",
    "Modified National Institute of Standards and Technology\n",
    "\n",
    "28*28 픽셀의 0~9 사이의 숫자 이미지를 레이블로 구성한 데이터셋이다."
   ]
  },
  {
   "cell_type": "code",
   "execution_count": null,
   "metadata": {},
   "outputs": [],
   "source": [
    "import time\n",
    "import random\n",
    "import numpy as np\n",
    "import pandas as pd\n",
    "import matplotlib.pyplot as plt\n",
    "from sklearn.pipeline import Pipeline\n",
    "from sklearn.decomposition import PCA\n",
    "from sklearn.model_selection import GridSearchCV, StratifiedKFold\n",
    "from sklearn.metrics import accuracy_score\n",
    "from sklearn.neighbors import KNeighborsClassifier"
   ]
  },
  {
   "cell_type": "code",
   "execution_count": null,
   "metadata": {},
   "outputs": [],
   "source": [
    "df_train = pd.read_csv('/home/han/Desktop/Han_ws/00.Data/07.ML/data/mnist_train.csv')\n",
    "df_test = pd.read_csv('/home/han/Desktop/Han_ws/00.Data/07.ML/data/mnist_test.csv')\n",
    "df_train.shape, df_test.shape"
   ]
  },
  {
   "cell_type": "code",
   "execution_count": null,
   "metadata": {},
   "outputs": [],
   "source": [
    "x_train = np.array(df_train.iloc[:, 1:])\n",
    "y_train = np.array(df_train['label'])\n",
    "x_test = np.array(df_test.iloc[:, 1:])\n",
    "y_test = np.array(df_test['label'])\n",
    "\n",
    "x_train.shape, y_train.shape, x_test.shape, y_test.shape"
   ]
  },
  {
   "cell_type": "code",
   "execution_count": null,
   "metadata": {},
   "outputs": [],
   "source": [
    "# 랜덤으로 16개를 뽑아 확인해본다.\n",
    "\n",
    "\n",
    "samples = random.choices(population=range(0,60000), k=16)\n",
    "plt.figure(figsize=(14,12))\n",
    "for idx, n in enumerate(samples) :\n",
    "    plt.subplot(4, 4, idx+1)\n",
    "    plt.imshow(x_train[n].reshape(28,28), cmap='Greys', interpolation='nearest')\n",
    "    plt.title(y_train[n])\n",
    "\n",
    "plt.show()"
   ]
  },
  {
   "cell_type": "code",
   "execution_count": null,
   "metadata": {},
   "outputs": [],
   "source": [
    "start_time = time.time()\n",
    "clf = KNeighborsClassifier(n_neighbors=5)\n",
    "clf.fit(x_train, y_train)\n",
    "print('Fit time : ', time.time() - start_time)"
   ]
  },
  {
   "cell_type": "code",
   "execution_count": null,
   "metadata": {},
   "outputs": [],
   "source": [
    "start_time = time.time()\n",
    "pred = clf.predict(x_test)\n",
    "print('Fit time : ', time.time() - start_time)\n",
    "print(accuracy_score(y_test, pred))"
   ]
  },
  {
   "cell_type": "code",
   "execution_count": null,
   "metadata": {},
   "outputs": [],
   "source": [
    "# PCA를 사용하여 차원을 줄여준다.\n",
    "\n",
    "pipe = Pipeline([('pca', PCA()), ('clf', KNeighborsClassifier())])\n",
    "parameters = {'pca__n_components' : [2, 5, 10], 'clf__n_neighbors' : [5, 10, 15]}\n",
    "kf = StratifiedKFold(n_splits=5, shuffle=True, random_state=13)\n",
    "grid = GridSearchCV(pipe, parameters, cv=kf, n_jobs=-1, verbose=1)\n",
    "grid.fit(x_train, y_train)"
   ]
  },
  {
   "cell_type": "code",
   "execution_count": null,
   "metadata": {},
   "outputs": [],
   "source": [
    "print(\"Best score: %0.3f\" %grid.best_score_)\n",
    "print(\"Best parameters set : \")\n",
    "best_parameters = grid.best_estimator_.get_params()\n",
    "for param_name in sorted(parameters.keys()) :\n",
    "    print(\"\\t%s : %r \" %(param_name, best_parameters[param_name]))"
   ]
  },
  {
   "cell_type": "code",
   "execution_count": null,
   "metadata": {},
   "outputs": [],
   "source": [
    "accuracy_score(y_test, grid.best_estimator_.predict(x_test))"
   ]
  },
  {
   "cell_type": "code",
   "execution_count": null,
   "metadata": {},
   "outputs": [],
   "source": [
    "def result(y_pred, y_test) :\n",
    "    from sklearn.metrics import classification_report, confusion_matrix\n",
    "    print(classification_report(y_test, y_pred))\n",
    "\n",
    "result(grid.predict(x_train), y_train)"
   ]
  },
  {
   "cell_type": "code",
   "execution_count": null,
   "metadata": {},
   "outputs": [],
   "source": [
    "n = 4893\n",
    "plt.imshow(x_test[n].reshape(28,28), cmap='Greys', interpolation='nearest')\n",
    "plt.show()\n",
    "\n",
    "print('Answer is : ', grid.best_estimator_.predict(x_test[n].reshape(1, 784)))\n",
    "print('Real Label is : ', y_test[n])"
   ]
  },
  {
   "cell_type": "code",
   "execution_count": null,
   "metadata": {},
   "outputs": [],
   "source": [
    "preds = grid.best_estimator_.predict(x_test)\n"
   ]
  },
  {
   "cell_type": "code",
   "execution_count": null,
   "metadata": {},
   "outputs": [],
   "source": [
    "# 학습된 모델로 시험해서 틀린 데이터들이다.\n",
    "\n",
    "wrong_results = x_test[y_test != preds]\n",
    "samples = random.choices(population=range(0, wrong_results.shape[0]), k=16)\n",
    "plt.figure(figsize=(14,12))\n",
    "\n",
    "for idx, n in enumerate(samples) :\n",
    "    plt.subplot(4, 4, idx+1)\n",
    "    plt.imshow(wrong_results[n].reshape(28,28), cmap='Greys', interpolation='nearest')\n",
    "    plt.title(grid.best_estimator_.predict(wrong_results[n].reshape(1,784))[0])\n",
    "\n",
    "plt.show()"
   ]
  },
  {
   "cell_type": "code",
   "execution_count": null,
   "metadata": {},
   "outputs": [],
   "source": []
  }
 ],
 "metadata": {
  "kernelspec": {
   "display_name": "openCV_venv",
   "language": "python",
   "name": "python3"
  },
  "language_info": {
   "codemirror_mode": {
    "name": "ipython",
    "version": 3
   },
   "file_extension": ".py",
   "mimetype": "text/x-python",
   "name": "python",
   "nbconvert_exporter": "python",
   "pygments_lexer": "ipython3",
   "version": "3.10.12"
  }
 },
 "nbformat": 4,
 "nbformat_minor": 2
}
