{
 "cells": [
  {
   "cell_type": "markdown",
   "metadata": {},
   "source": [
    "# Principal Component Analysis\n",
    "\n",
    "PCA란 데이터 간의 차이를 가장 잘 나타내는 요소를 찾는 방법이다.\\\n",
    "주성분 찾기, 데이터 압축(차원 감소), 노이즈 제거 등 다양한 분야로 사용한다.\\\n",
    "PCA는 데이터의 분산을 최대한 보존하면서 서로 직교하는 새 기저를 찾아 \\\n",
    "고차원 공간의 표본들을 선형 연관성이 없는 저차원 공간으로 변환하는 기법이다."
   ]
  },
  {
   "cell_type": "code",
   "execution_count": null,
   "metadata": {},
   "outputs": [],
   "source": [
    "import numpy as np\n",
    "import pandas as pd\n",
    "import seaborn as sns\n",
    "import matplotlib.pyplot as plt\n",
    "from sklearn.ensemble import RandomForestClassifier\n",
    "from sklearn.model_selection import cross_val_score\n",
    "from sklearn.preprocessing import StandardScaler\n",
    "from sklearn.decomposition import PCA\n",
    "from sklearn.datasets import load_iris"
   ]
  },
  {
   "cell_type": "code",
   "execution_count": null,
   "metadata": {},
   "outputs": [],
   "source": [
    "iris = load_iris()\n",
    "iris_pd = pd.DataFrame(iris.data, columns=iris.feature_names)\n",
    "iris_pd['species'] = iris.target\n",
    "iris_pd.head()"
   ]
  },
  {
   "cell_type": "code",
   "execution_count": null,
   "metadata": {},
   "outputs": [],
   "source": [
    "sns.pairplot(iris_pd, hue='species', height=3, x_vars=['sepal length (cm)', 'petal width (cm)'], y_vars=['petal length (cm)', 'sepal width (cm)'], palette='Accent')"
   ]
  },
  {
   "cell_type": "code",
   "execution_count": null,
   "metadata": {},
   "outputs": [],
   "source": [
    "iris_ss = StandardScaler().fit_transform(iris.data)\n",
    "iris_ss[:3]"
   ]
  },
  {
   "cell_type": "code",
   "execution_count": null,
   "metadata": {},
   "outputs": [],
   "source": [
    "def get_pca_data(ss_data, n_components=2) :\n",
    "    pca = PCA(n_components=n_components)\n",
    "    pca.fit(ss_data)\n",
    "    return pca.transform(ss_data), pca"
   ]
  },
  {
   "cell_type": "code",
   "execution_count": null,
   "metadata": {},
   "outputs": [],
   "source": [
    "iris_pca, pca = get_pca_data(iris_ss, n_components=2)\n",
    "iris_pca.shape"
   ]
  },
  {
   "cell_type": "code",
   "execution_count": null,
   "metadata": {},
   "outputs": [],
   "source": [
    "pca.mean_"
   ]
  },
  {
   "cell_type": "code",
   "execution_count": null,
   "metadata": {},
   "outputs": [],
   "source": [
    "pca.components_"
   ]
  },
  {
   "cell_type": "code",
   "execution_count": null,
   "metadata": {},
   "outputs": [],
   "source": [
    "def get_pd_from_pca(pca_data, cols=['pca_component_1', 'pca_component_2']) :\n",
    "    return pd.DataFrame(pca_data, columns=cols)"
   ]
  },
  {
   "cell_type": "code",
   "execution_count": null,
   "metadata": {},
   "outputs": [],
   "source": [
    "iris_pd_pca = get_pd_from_pca(iris_pca)\n",
    "iris_pd_pca['species'] = iris.target\n",
    "iris_pd_pca.head(3)"
   ]
  },
  {
   "cell_type": "code",
   "execution_count": null,
   "metadata": {},
   "outputs": [],
   "source": [
    "# 네 개의 특성을 두 개로 정리했다.\n",
    "sns.pairplot(iris_pd_pca, hue='species', height=5, x_vars=['pca_component_1'], y_vars= ['pca_component_2'], palette='Accent')"
   ]
  },
  {
   "cell_type": "code",
   "execution_count": null,
   "metadata": {},
   "outputs": [],
   "source": [
    "# 두 개의 축으로 줄여도 전체의 95.8%를 표현할 수 있다.\n",
    "\n",
    "def print_variance_ratio(pca) :\n",
    "    print('variance_ratio : ', pca.explained_variance_ratio_)\n",
    "    print('sum of variance_ratio : ', np.sum(pca.explained_variance_ratio_))\n",
    "\n",
    "print_variance_ratio(pca)"
   ]
  },
  {
   "cell_type": "code",
   "execution_count": null,
   "metadata": {},
   "outputs": [],
   "source": [
    "def rf_scores(x, y, cv=5) :\n",
    "    rf = RandomForestClassifier(random_state=5, n_estimators=100)\n",
    "    scores_rf = cross_val_score(rf, x, y, scoring='accuracy', cv=cv)\n",
    "\n",
    "    print('Score : ', np.mean(scores_rf))\n",
    "\n",
    "rf_scores(iris_ss, iris.target)"
   ]
  },
  {
   "cell_type": "code",
   "execution_count": null,
   "metadata": {},
   "outputs": [],
   "source": [
    "pca_x = iris_pd_pca[['pca_component_1', 'pca_component_2']]\n",
    "rf_scores(pca_x, iris.target)"
   ]
  },
  {
   "cell_type": "markdown",
   "metadata": {},
   "source": [
    "# wine"
   ]
  },
  {
   "cell_type": "code",
   "execution_count": null,
   "metadata": {},
   "outputs": [],
   "source": [
    "red_url = 'https://raw.githubusercontent.com/PinkWink/forML_study_data/main/data/winequality-red.csv'\n",
    "white_url = 'https://raw.githubusercontent.com/PinkWink/forML_study_data/main/data/winequality-white.csv'\n",
    "\n",
    "red_wine = pd.read_csv(red_url, sep=';')\n",
    "white_wine = pd.read_csv(white_url, sep=';')\n",
    "red_wine['color']=1.\n",
    "white_wine['color']=0.\n",
    "wine = pd.concat([red_wine, white_wine])\n",
    "wine_y = wine['color']\n",
    "wine_x = wine.drop(['color'], axis=1)\n",
    "wine_ss = StandardScaler().fit_transform(wine_x)"
   ]
  },
  {
   "cell_type": "code",
   "execution_count": null,
   "metadata": {},
   "outputs": [],
   "source": [
    "# 주성분을 두 개로 줄이면 전체 데이터의 50%가 안된다.\n",
    "pca_wine, pca = get_pca_data(wine_ss, n_components=2)\n",
    "print_variance_ratio(pca)"
   ]
  },
  {
   "cell_type": "code",
   "execution_count": null,
   "metadata": {},
   "outputs": [],
   "source": [
    "pca_columns = ['pca_component_1', 'pca_component_2']\n",
    "pca_wine_pd = pd.DataFrame(pca_wine, columns=pca_columns)\n",
    "pca_wine_pd['color'] = wine_y.values\n",
    "sns.pairplot(pca_wine_pd, hue='color', height=5, x_vars=['pca_component_1'], y_vars=['pca_component_2']);"
   ]
  },
  {
   "cell_type": "code",
   "execution_count": null,
   "metadata": {},
   "outputs": [],
   "source": [
    "rf_scores(wine_ss, wine_y)"
   ]
  },
  {
   "cell_type": "code",
   "execution_count": null,
   "metadata": {},
   "outputs": [],
   "source": [
    "pca_x = pca_wine_pd[['pca_component_1', 'pca_component_2']]\n",
    "rf_scores(pca_x, wine_y)"
   ]
  },
  {
   "cell_type": "code",
   "execution_count": null,
   "metadata": {},
   "outputs": [],
   "source": [
    "# 주 성분을 세 개로 표현하면 98% 이상을 표현할 수 있다.\n",
    "pca_wine, pca = get_pca_data(wine_ss, n_components=3)\n",
    "print_variance_ratio(pca)\n",
    "cols = ['pca_1', 'pca_2', 'pca_3']\n",
    "pca_wine_pd = get_pd_from_pca(pca_wine, cols=cols)\n",
    "pca_x = pca_wine_pd[cols]\n",
    "rf_scores(pca_x, wine_y)"
   ]
  },
  {
   "cell_type": "code",
   "execution_count": null,
   "metadata": {},
   "outputs": [],
   "source": [
    "pca_wine_plot = pca_x\n",
    "pca_wine_plot['color'] = wine_y.values\n",
    "pca_wine_plot.head()"
   ]
  },
  {
   "cell_type": "code",
   "execution_count": null,
   "metadata": {},
   "outputs": [],
   "source": [
    "from mpl_toolkits.mplot3d import Axes3D\n",
    "\n",
    "markers = ['^', 'o']\n",
    "\n",
    "fig = plt.figure(figsize=(10,8))\n",
    "ax = fig.add_subplot(111, projection='3d')\n",
    "\n",
    "for i, marker in enumerate(markers) :\n",
    "    x_axis_data = pca_wine_plot[pca_wine_plot['color']==i]['pca_1']\n",
    "    y_axis_data = pca_wine_plot[pca_wine_plot['color']==i]['pca_2']\n",
    "    z_axis_data = pca_wine_plot[pca_wine_plot['color']==i]['pca_3']\n",
    "\n",
    "    ax.scatter(x_axis_data, y_axis_data, z_axis_data, s=20, alpha=0.5, marker=marker)\n",
    "\n",
    "ax.view_init(30, 80)\n",
    "plt.show()"
   ]
  },
  {
   "cell_type": "code",
   "execution_count": null,
   "metadata": {},
   "outputs": [],
   "source": [
    "import plotly.express as px\n",
    "\n",
    "fig = px.scatter_3d(pca_wine_plot, x='pca_1', y='pca_2', z='pca_3', color='color', symbol='color', opacity=0.4)\n",
    "fig.update_layout(margin=dict(l=0, r=0, b=0, t=0))\n",
    "fig.show()"
   ]
  },
  {
   "cell_type": "code",
   "execution_count": null,
   "metadata": {},
   "outputs": [],
   "source": []
  }
 ],
 "metadata": {
  "kernelspec": {
   "display_name": "openCV_venv",
   "language": "python",
   "name": "python3"
  },
  "language_info": {
   "codemirror_mode": {
    "name": "ipython",
    "version": 3
   },
   "file_extension": ".py",
   "mimetype": "text/x-python",
   "name": "python",
   "nbconvert_exporter": "python",
   "pygments_lexer": "ipython3",
   "version": "3.10.12"
  }
 },
 "nbformat": 4,
 "nbformat_minor": 2
}
