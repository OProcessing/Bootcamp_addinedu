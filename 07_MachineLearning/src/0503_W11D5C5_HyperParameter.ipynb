{
 "cells": [
  {
   "cell_type": "markdown",
   "metadata": {},
   "source": [
    "테스트 데이터는 표본이 크지 않기에 테스트 데이터로 학습한 모델은 신뢰도가 높지 않다.\\\n",
    "테스트 데이터를 변경해가며 과적합을 방지하고 신뢰도를 올리기 위해 교차검증을 진행해본다.\n",
    "\n",
    "KFold는 표본 데이터에서 여러개의 테스트 데이터를 만들어 모델 평가를 진행한다.\\\n",
    "validation이 끝난 후 테스트 데이터로 최종 평가하여 최적의 케이스를 알아본다.\n",
    "\n",
    "hyperparameter optimization은 모델 학습 과정에서 변수를 다양하게 설정하여 최적의 성능을 찾는 방법이다.\\\n",
    "여기서는 decision tree에서 max_depth를 바꿔가며 테스트하고 최고 성능의 경우를 알아본다."
   ]
  },
  {
   "cell_type": "code",
   "execution_count": null,
   "metadata": {},
   "outputs": [],
   "source": [
    "import numpy as np\n",
    "import pandas as pd\n",
    "import seaborn as sns\n",
    "import matplotlib.pyplot as plt\n",
    "from sklearn import tree\n",
    "from sklearn.pipeline import Pipeline\n",
    "from sklearn.tree import DecisionTreeClassifier\n",
    "from sklearn.preprocessing import StandardScaler\n",
    "from sklearn.model_selection import train_test_split\n",
    "from sklearn.model_selection import StratifiedKFold\n",
    "from sklearn.model_selection import KFold\n",
    "from sklearn.linear_model import LogisticRegression\n",
    "from sklearn.metrics import roc_curve\n",
    "from sklearn.metrics import accuracy_score\n",
    "from sklearn.metrics import accuracy_score, precision_score, recall_score, f1_score, roc_auc_score, roc_curve\n"
   ]
  },
  {
   "cell_type": "code",
   "execution_count": null,
   "metadata": {},
   "outputs": [],
   "source": [
    "red_url = 'https://raw.githubusercontent.com/PinkWink/forML_study_data/main/data/winequality-red.csv'\n",
    "white_url = 'https://raw.githubusercontent.com/PinkWink/forML_study_data/main/data/winequality-white.csv'\n",
    "\n",
    "red_wine = pd.read_csv(red_url, sep=';')\n",
    "white_wine = pd.read_csv(white_url, sep=';')\n",
    "red_wine['color']=1.\n",
    "white_wine['color']=0.\n",
    "wine = pd.concat([red_wine, white_wine])\n",
    "wine['taste'] = [1. if grade > 5 else 0. for grade in wine['quality']]\n",
    "x = wine.drop(['taste', 'quality'], axis=1)\n",
    "y = wine['taste']\n",
    "x_train, x_test, y_train, y_test = train_test_split(x, y, test_size=0.2, random_state=5)\n",
    "\n",
    "wine_tree = DecisionTreeClassifier(max_depth=2, random_state=5)\n",
    "wine_tree.fit(x_train, y_train)\n",
    "y_pred_tr = wine_tree.predict(x_train)\n",
    "y_pred_test = wine_tree.predict(x_test)\n",
    "print('Train Acc    : ', accuracy_score(y_train, y_pred_tr))\n",
    "print('Test Acc     : ', accuracy_score(y_test, y_pred_test))"
   ]
  },
  {
   "cell_type": "code",
   "execution_count": null,
   "metadata": {},
   "outputs": [],
   "source": [
    "kfold = KFold(n_splits=5)\n",
    "wine_tree_cv = DecisionTreeClassifier(max_depth=2, random_state=5)\n",
    "for train_idx, test_idx in kfold.split(x) :\n",
    "    print(len(train_idx), len(test_idx))"
   ]
  },
  {
   "cell_type": "code",
   "execution_count": null,
   "metadata": {},
   "outputs": [],
   "source": [
    "cv_accuracy = []\n",
    "\n",
    "for train_idx, test_idx in kfold.split(x) :\n",
    "    x_train, x_test = x.iloc[train_idx], x.iloc[test_idx]\n",
    "    y_train, y_test = y.iloc[train_idx], y.iloc[test_idx]\n",
    "    wine_tree_cv.fit(x_train, y_train)\n",
    "    pred = wine_tree_cv.predict(x_test)\n",
    "    cv_accuracy.append(accuracy_score(y_test, pred))\n",
    "\n",
    "np.mean(cv_accuracy)"
   ]
  },
  {
   "cell_type": "code",
   "execution_count": null,
   "metadata": {},
   "outputs": [],
   "source": [
    "skfold = StratifiedKFold(n_splits=5)\n",
    "wine_tree_cv = DecisionTreeClassifier(max_depth=2, random_state=5)\n",
    "\n",
    "cv_accuracy = []\n",
    "\n",
    "for train_idx, test_idx in skfold.split(x, y) :\n",
    "    x_train, x_test = x.iloc[train_idx], x.iloc[test_idx]\n",
    "    y_train, y_test = y.iloc[train_idx], y.iloc[test_idx]\n",
    "    wine_tree_cv.fit(x_train, y_train)\n",
    "    pred = wine_tree_cv.predict(x_test)\n",
    "    cv_accuracy.append(accuracy_score(y_test, pred))\n",
    "\n",
    "np.mean(cv_accuracy)"
   ]
  },
  {
   "cell_type": "code",
   "execution_count": null,
   "metadata": {},
   "outputs": [],
   "source": [
    "from sklearn.model_selection import cross_validate\n",
    "cross_validate(wine_tree_cv, x, y, scoring=None, cv=skfold, return_train_score=True)"
   ]
  },
  {
   "cell_type": "code",
   "execution_count": null,
   "metadata": {},
   "outputs": [],
   "source": [
    "from sklearn.model_selection import GridSearchCV\n",
    "\n",
    "params = {'max_depth':[2,4,7,10]}\n",
    "wine_tree = DecisionTreeClassifier(max_depth=2, random_state=5)\n",
    "gridsearch = GridSearchCV(estimator=wine_tree, param_grid=params, cv=5)\n",
    "gridsearch.fit(x, y)"
   ]
  },
  {
   "cell_type": "code",
   "execution_count": null,
   "metadata": {},
   "outputs": [],
   "source": [
    "import pprint\n",
    "\n",
    "pp = pprint.PrettyPrinter(indent=4)\n",
    "pp.pprint(gridsearch.cv_results_)"
   ]
  },
  {
   "cell_type": "code",
   "execution_count": null,
   "metadata": {},
   "outputs": [],
   "source": [
    "gridsearch.best_estimator_"
   ]
  },
  {
   "cell_type": "code",
   "execution_count": null,
   "metadata": {},
   "outputs": [],
   "source": [
    "gridsearch.best_score_"
   ]
  },
  {
   "cell_type": "code",
   "execution_count": null,
   "metadata": {},
   "outputs": [],
   "source": [
    "gridsearch.best_params_"
   ]
  },
  {
   "cell_type": "code",
   "execution_count": null,
   "metadata": {},
   "outputs": [],
   "source": [
    "estimators = [('scaler', StandardScaler()), ('clf', DecisionTreeClassifier(random_state=5))]\n",
    "pipe = Pipeline(estimators)\n",
    "\n",
    "param_grid = [ {'clf__max_depth':list(range(1,10))}]\n",
    "GridSearch = GridSearchCV(estimator=pipe, param_grid=param_grid, cv=5)\n",
    "GridSearch.fit(x, y)"
   ]
  },
  {
   "cell_type": "code",
   "execution_count": null,
   "metadata": {},
   "outputs": [],
   "source": [
    "pp.pprint(gridsearch.cv_results_)"
   ]
  },
  {
   "cell_type": "code",
   "execution_count": null,
   "metadata": {},
   "outputs": [],
   "source": [
    "fig = plt.figure(figsize=(25,10))\n",
    "_ = tree.plot_tree(GridSearch.best_estimator_['clf'], feature_names=x_train.columns, class_names =['white', 'red'], filled=True)"
   ]
  },
  {
   "cell_type": "code",
   "execution_count": null,
   "metadata": {},
   "outputs": [],
   "source": [
    "score_df = pd.DataFrame(GridSearch.cv_results_)\n",
    "score_df.sort_values(order)\n",
    "score_df[['params', 'rank_test_score', 'mean_test_score', 'std_test_score']]"
   ]
  },
  {
   "cell_type": "code",
   "execution_count": null,
   "metadata": {},
   "outputs": [],
   "source": []
  }
 ],
 "metadata": {
  "kernelspec": {
   "display_name": "openCV_venv",
   "language": "python",
   "name": "python3"
  },
  "language_info": {
   "codemirror_mode": {
    "name": "ipython",
    "version": 3
   },
   "file_extension": ".py",
   "mimetype": "text/x-python",
   "name": "python",
   "nbconvert_exporter": "python",
   "pygments_lexer": "ipython3",
   "version": "3.10.12"
  }
 },
 "nbformat": 4,
 "nbformat_minor": 2
}
