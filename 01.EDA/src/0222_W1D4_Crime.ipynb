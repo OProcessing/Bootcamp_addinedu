{
 "cells": [
  {
   "cell_type": "code",
   "execution_count": null,
   "metadata": {},
   "outputs": [],
   "source": [
    "import numpy as np\n",
    "import pandas as pd\n",
    "\n",
    "crime_raw_data = pd.read_csv(\"../data/2016년.csv\", encoding=\"euc-kr\")\n",
    "crime_raw_data"
   ]
  },
  {
   "cell_type": "code",
   "execution_count": null,
   "metadata": {},
   "outputs": [],
   "source": [
    "crime_raw_data[\"죄종\"].unique()"
   ]
  },
  {
   "cell_type": "code",
   "execution_count": null,
   "metadata": {},
   "outputs": [],
   "source": [
    "crime_raw_data=crime_raw_data[crime_raw_data[\"죄종\"].notnull()]\n",
    "crime_raw_data.info()"
   ]
  },
  {
   "cell_type": "code",
   "execution_count": null,
   "metadata": {},
   "outputs": [],
   "source": [
    "crime_station = crime_raw_data.pivot_table(index=\"구분\", columns=[\"죄종\", \"발생검거\"], aggfunc=np.sum)\n",
    "crime_station.head()"
   ]
  },
  {
   "cell_type": "code",
   "execution_count": null,
   "metadata": {},
   "outputs": [],
   "source": [
    "crime_station.columns = crime_station.columns.droplevel([0])"
   ]
  },
  {
   "cell_type": "code",
   "execution_count": null,
   "metadata": {},
   "outputs": [],
   "source": [
    "tmp = crime_station.columns.get_level_values(0) + crime_station.columns.get_level_values(1)\n",
    "crime_station.columns=tmp\n",
    "tmp"
   ]
  },
  {
   "cell_type": "code",
   "execution_count": null,
   "metadata": {},
   "outputs": [],
   "source": [
    "crime_station.rename(columns={\"강간검거\":\"성범죄검거\",\"강간발생\":\"성범죄발생\"}, inplace=True)"
   ]
  },
  {
   "cell_type": "code",
   "execution_count": null,
   "metadata": {},
   "outputs": [],
   "source": [
    "crime_station.head()"
   ]
  },
  {
   "cell_type": "code",
   "execution_count": null,
   "metadata": {},
   "outputs": [],
   "source": [
    "real_gu = {'종로구': ['종로', '혜화'], '중구': ['남대문', '중부'],\n",
    "           '용산구': ['용산'], '성동구': ['성동'],\n",
    "           '광진구': ['광진'], '동대문구': ['동대문'],\n",
    "           '중랑구': ['중랑'], '성북구': ['성북', '종암'],\n",
    "           '강북구': ['강북'], '도봉구': ['도봉'],\n",
    "           '노원구': ['노원'], '은평구': ['서부', '은평'],\n",
    "           '서대문구': ['서대문'], '마포구': ['마포'],\n",
    "           '양천구': ['양천'], '강서구': ['강서'],\n",
    "           '구로구': ['구로'], '금천구': ['금천'],\n",
    "           '영등포구': ['영등포'], '동작구': ['동작'],\n",
    "           '관악구': ['관악'], '서초구': ['방배', '서초'],\n",
    "           '강남구': ['강남', '수서'], '송파구': ['송파'],\n",
    "           '강동구': ['강동']}"
   ]
  },
  {
   "cell_type": "code",
   "execution_count": null,
   "metadata": {},
   "outputs": [],
   "source": [
    "tmp_gu = []\n",
    "\n",
    "for station in crime_station.index:\n",
    "    for gu_name, station_name in real_gu.items():\n",
    "        if station in station_name:\n",
    "            tmp_gu.append(gu_name)"
   ]
  },
  {
   "cell_type": "code",
   "execution_count": null,
   "metadata": {},
   "outputs": [],
   "source": [
    "tmp_gu"
   ]
  },
  {
   "cell_type": "code",
   "execution_count": null,
   "metadata": {},
   "outputs": [],
   "source": [
    "crime_station['구'] = tmp_gu\n",
    "crime_station.head()"
   ]
  },
  {
   "cell_type": "code",
   "execution_count": null,
   "metadata": {},
   "outputs": [],
   "source": [
    "crime_gu = crime_station.pivot_table(index=\"구\", aggfunc=np.sum)"
   ]
  },
  {
   "cell_type": "code",
   "execution_count": null,
   "metadata": {},
   "outputs": [],
   "source": [
    "crime_gu[\"강도발생\"].sort_values(ascending=False).head()"
   ]
  },
  {
   "cell_type": "code",
   "execution_count": null,
   "metadata": {},
   "outputs": [],
   "source": [
    "arrest_col = [\"강도검거\", \"살인검거\", \"성범죄검거\", \"절도검거\", \"폭력검거\"]\n",
    "occur_col = [\"강도발생\", \"살인발생\", \"성범죄발생\", \"절도발생\", \"폭력발생\"]\n",
    "crime_gu[arrest_col].div(crime_gu[occur_col].values) * 100\n",
    "arrest_rate = [\"강도검거율\", \"살인검거율\", \"성범죄검거율\", \"절도검거율\", \"폭력검거율\"]\n",
    "crime_gu[arrest_rate] = crime_gu[arrest_col].div(crime_gu[occur_col].values)*100\n",
    "crime_gu.head()"
   ]
  },
  {
   "cell_type": "code",
   "execution_count": null,
   "metadata": {},
   "outputs": [],
   "source": [
    "crime_gu[crime_gu[arrest_rate] > 100] = 100\n",
    "crime_gu.head(3)"
   ]
  },
  {
   "cell_type": "code",
   "execution_count": null,
   "metadata": {},
   "outputs": [],
   "source": [
    "crime_gu.drop(columns=arrest_col, axis=1, inplace=True)"
   ]
  },
  {
   "cell_type": "code",
   "execution_count": null,
   "metadata": {},
   "outputs": [],
   "source": [
    "crime_gu.rename(columns={\n",
    "    \"강도발생\":\"강도\",\n",
    "    \"살인발생\":\"살인\",\n",
    "    \"성범죄발생\":\"성범죄\",\n",
    "    \"절도발생\":\"절도\",\n",
    "    \"폭력발생\":\"폭력\",\n",
    "    }, inplace=True)\n",
    "crime_gu.head()"
   ]
  },
  {
   "cell_type": "code",
   "execution_count": null,
   "metadata": {},
   "outputs": [],
   "source": [
    "occur_col = [\"강도\", \"살인\", \"성범죄\", \"절도\", \"폭력\"]"
   ]
  },
  {
   "cell_type": "code",
   "execution_count": null,
   "metadata": {},
   "outputs": [],
   "source": [
    "crime_gu_norm = crime_gu[occur_col] / crime_gu[occur_col].max()\n",
    "crime_gu_norm.head()"
   ]
  },
  {
   "cell_type": "code",
   "execution_count": null,
   "metadata": {},
   "outputs": [],
   "source": [
    "crime_gu_norm[arrest_rate] = crime_gu[arrest_rate]\n",
    "crime_gu_norm.head()"
   ]
  },
  {
   "cell_type": "code",
   "execution_count": null,
   "metadata": {},
   "outputs": [],
   "source": [
    "crime_gu_norm[\"범죄\"] = np.mean(crime_gu_norm[occur_col], axis=1)"
   ]
  },
  {
   "cell_type": "code",
   "execution_count": null,
   "metadata": {},
   "outputs": [],
   "source": [
    "crime_gu_norm[\"검거\"] = np.mean(crime_gu_norm[arrest_rate], axis=1)"
   ]
  },
  {
   "cell_type": "code",
   "execution_count": null,
   "metadata": {},
   "outputs": [],
   "source": [
    "crime_gu_norm[\"범죄\"].sort_values(ascending=False).head()"
   ]
  },
  {
   "cell_type": "code",
   "execution_count": null,
   "metadata": {},
   "outputs": [],
   "source": [
    "import matplotlib.pyplot as plt\n",
    "import koreanize_matplotlib\n",
    "import seaborn as sns"
   ]
  },
  {
   "cell_type": "code",
   "execution_count": null,
   "metadata": {},
   "outputs": [],
   "source": [
    "crime_gu_norm_sort = crime_gu_norm.sort_values(by=\"검거\", ascending=False)\n",
    "crime_gu_norm_sort.head()"
   ]
  },
  {
   "cell_type": "code",
   "execution_count": null,
   "metadata": {},
   "outputs": [],
   "source": [
    "target_col = [\"강도검거율\", \"살인검거율\", \"성범죄검거율\", \"절도검거율\", \"폭력검거율\", \"검거\"]\n",
    "\n",
    "plt.figure(figsize=(10,10))\n",
    "sns.heatmap(crime_gu_norm_sort[target_col],annot=True, fmt='f', lw=.5, cmap='RdPu')\n",
    "plt.title(\"범죄 검거 비율\")\n",
    "plt.ylabel('')\n",
    "plt.show()"
   ]
  },
  {
   "cell_type": "code",
   "execution_count": null,
   "metadata": {},
   "outputs": [],
   "source": [
    "target_col = [\"강도\", \"살인\", \"성범죄\", \"절도\", \"폭력\", \"범죄\"]\n",
    "crime_gu_norm_sort = crime_gu_norm.sort_values(by=\"범죄\", ascending=False)\n",
    "\n",
    "plt.figure(figsize=(10,10))\n",
    "sns.heatmap(crime_gu_norm_sort[target_col],annot=True, fmt='f', lw=.5, cmap='RdPu')\n",
    "plt.title(\"범죄 검거 비율\")\n",
    "plt.ylabel('')\n",
    "plt.show()"
   ]
  },
  {
   "cell_type": "code",
   "execution_count": null,
   "metadata": {},
   "outputs": [],
   "source": [
    "crime_gu_norm.to_csv(\"../data/seoul_crime_result.csv\",sep=\",\",encoding=\"utf-8\")"
   ]
  },
  {
   "cell_type": "code",
   "execution_count": null,
   "metadata": {},
   "outputs": [],
   "source": []
  }
 ],
 "metadata": {
  "kernelspec": {
   "display_name": "eda_venv",
   "language": "python",
   "name": "python3"
  },
  "language_info": {
   "codemirror_mode": {
    "name": "ipython",
    "version": 3
   },
   "file_extension": ".py",
   "mimetype": "text/x-python",
   "name": "python",
   "nbconvert_exporter": "python",
   "pygments_lexer": "ipython3",
   "version": "3.10.12"
  }
 },
 "nbformat": 4,
 "nbformat_minor": 2
}
