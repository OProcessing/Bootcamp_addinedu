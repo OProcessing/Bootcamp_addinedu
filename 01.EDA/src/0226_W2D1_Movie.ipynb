{
 "cells": [
  {
   "cell_type": "code",
   "execution_count": null,
   "metadata": {},
   "outputs": [],
   "source": [
    "from bs4 import BeautifulSoup\n",
    "from urllib.request import urlopen\n",
    "import urllib \n",
    "from urllib.request import Request\n",
    "import time\n",
    "import pandas as pd\n",
    "\n",
    "url = \"https://search.naver.com/search.naver?query={search_word1}+{search_word2}\"\n",
    "req = Request(url.format(search_word1 =urllib.parse.quote(\"박스오피스\"),\n",
    "                         search_word2 = urllib.parse.quote(\"평점순\")))\n",
    "res = urlopen(req)\n",
    "soup = BeautifulSoup(res, \"html.parser\")\n",
    "print(soup.prettify())"
   ]
  },
  {
   "cell_type": "code",
   "execution_count": null,
   "metadata": {},
   "outputs": [],
   "source": [
    "prefix = \"https://search.naver.com/search.naver\"\n",
    "movie_list = []\n",
    "rating = soup.find(class_=\"_panel_rating _tab_content\")\n",
    "flex = rating.find(id=\"1\").string\n",
    "\n",
    "for each in flex.find_all(\"li\"):\n",
    "    movie = []\n",
    "    movie.append(each.find(\"strong\", class_=\"name\").string)\n",
    "    movie.append(each.find(\"span\", class_=\"sub_text\").get_text())\n",
    "    movie.append(prefix + each.find(\"a\")[\"href\"])\n",
    "    movie_list.append(movie)\n",
    "\n",
    "movie[0][1]"
   ]
  },
  {
   "cell_type": "code",
   "execution_count": null,
   "metadata": {},
   "outputs": [],
   "source": [
    "movie_list"
   ]
  },
  {
   "cell_type": "code",
   "execution_count": null,
   "metadata": {},
   "outputs": [],
   "source": [
    "def get_title(url):\n",
    "    res = urlopen(url)\n",
    "    soup = BeautifulSoup(res, \"html.parser\")\n",
    "    return soup.find(\"strong\", class_=\"_text\").string"
   ]
  },
  {
   "cell_type": "code",
   "execution_count": null,
   "metadata": {},
   "outputs": [],
   "source": [
    "for movie in movie_list:\n",
    "    movie[0] = get_title(movie[2])\n",
    "    time.sleep(0.5)\n",
    "\n",
    "movie_list"
   ]
  },
  {
   "cell_type": "code",
   "execution_count": null,
   "metadata": {},
   "outputs": [],
   "source": [
    "df = pd.DataFrame(movie_list, columns=['name', 'rating', 'link'])\n",
    "df"
   ]
  },
  {
   "cell_type": "code",
   "execution_count": null,
   "metadata": {},
   "outputs": [],
   "source": []
  }
 ],
 "metadata": {
  "kernelspec": {
   "display_name": "eda_venv",
   "language": "python",
   "name": "python3"
  },
  "language_info": {
   "codemirror_mode": {
    "name": "ipython",
    "version": 3
   },
   "file_extension": ".py",
   "mimetype": "text/x-python",
   "name": "python",
   "nbconvert_exporter": "python",
   "pygments_lexer": "ipython3",
   "version": "3.10.12"
  }
 },
 "nbformat": 4,
 "nbformat_minor": 2
}
