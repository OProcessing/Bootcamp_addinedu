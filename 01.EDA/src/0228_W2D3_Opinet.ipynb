{
 "cells": [
  {
   "cell_type": "code",
   "execution_count": null,
   "metadata": {},
   "outputs": [],
   "source": [
    "import time\n",
    "import glob\n",
    "import os\n",
    "import pandas as pd\n",
    "from selenium import webdriver\n",
    "from selenium.webdriver.chrome.service import Service\n",
    "from selenium.webdriver.common.by import By\n",
    "from selenium.webdriver.common.keys import Keys\n",
    "from selenium.webdriver.common.action_chains import ActionChains\n",
    "from selenium.webdriver.support.wait import WebDriverWait\n",
    "from selenium.webdriver.support import expected_conditions as EC\n",
    "\n",
    "from matplotlib import pyplot as plt\n",
    "from matplotlib import image as mpimg\n",
    "\n",
    "from tqdm.notebook import tqdm\n",
    "import seaborn as sns\n",
    "import koreanize_matplotlib\n"
   ]
  },
  {
   "cell_type": "code",
   "execution_count": null,
   "metadata": {},
   "outputs": [],
   "source": [
    "options = webdriver.ChromeOptions()\n",
    "\n",
    "prefs = {'download.default_directory':'/home/han/Han_ws/eda/data/gas_station/',\n",
    "         'download.prompt_for_download':False}\n",
    "options.add_experimental_option('prefs', prefs)\n"
   ]
  },
  {
   "cell_type": "code",
   "execution_count": null,
   "metadata": {},
   "outputs": [],
   "source": [
    "\n",
    "url = \"https://www.opinet.co.kr/searRgSelect.do\"\n",
    "driver = webdriver.Chrome(service=Service(\"../driver/chromedriver\"), options=options)\n",
    "driver.get(url)"
   ]
  },
  {
   "cell_type": "code",
   "execution_count": null,
   "metadata": {},
   "outputs": [],
   "source": [
    "driver.quit()"
   ]
  },
  {
   "cell_type": "code",
   "execution_count": null,
   "metadata": {},
   "outputs": [],
   "source": [
    "sido = driver.find_element(By.ID, \"SIDO_NM0\")\n",
    "sido_list = sido.find_elements(By.TAG_NAME, \"option\")\n",
    "sido_names = [sido_name.get_attribute(\"value\") for sido_name in sido_list]\n",
    "sido_names = sido_names[1:]\n",
    "sido_names"
   ]
  },
  {
   "cell_type": "code",
   "execution_count": null,
   "metadata": {},
   "outputs": [],
   "source": [
    "gu = driver.find_element(By.ID, \"SIGUNGU_NM0\")\n",
    "gu_list = gu.find_elements(By.TAG_NAME,\"option\")\n",
    "gu_names = [gu_name.get_attribute(\"value\") for gu_name in gu_list]\n",
    "gu_names = gu_names[1:]\n",
    "gu.send_keys(gu_names[5])"
   ]
  },
  {
   "cell_type": "code",
   "execution_count": null,
   "metadata": {},
   "outputs": [],
   "source": [
    "gu_names"
   ]
  },
  {
   "cell_type": "code",
   "execution_count": null,
   "metadata": {},
   "outputs": [],
   "source": [
    "for gu_name in tqdm(gu_names):\n",
    "    gu = driver.find_element(By.ID, \"SIGUNGU_NM0\")\n",
    "    gu.send_keys(gu_name)\n",
    "\n",
    "    save = WebDriverWait(driver, timeout=30).until(EC.element_to_be_clickable((By.CLASS_NAME, \"btn_type6_ex_save\")))\n",
    "    ActionChains(driver).move_to_element(save).perform()\n",
    "    save.send_keys(Keys.ENTER)\n",
    "\n",
    "    driver.implicitly_wait(3)\n"
   ]
  },
  {
   "cell_type": "code",
   "execution_count": null,
   "metadata": {},
   "outputs": [],
   "source": [
    "len(glob.glob(\"../data/gas_station/지역_*\"))"
   ]
  },
  {
   "cell_type": "code",
   "execution_count": null,
   "metadata": {},
   "outputs": [],
   "source": [
    "driver.quit()"
   ]
  },
  {
   "cell_type": "code",
   "execution_count": null,
   "metadata": {},
   "outputs": [],
   "source": [
    "import pandas as pd\n",
    "\n",
    "file_list=glob.glob(\"../data/gas_station/지역_*\")\n",
    "data = pd.read_excel(file_list[0], header=2)\n",
    "\n",
    "data_list = []\n",
    "for file in file_list:\n",
    "    data = pd.read_excel(file, header=2)\n",
    "    data_list.append(data)\n",
    "\n",
    "oil_data = pd.concat(data_list)\n",
    "oil_data = pd.DataFrame({\"상호\": oil_data[\"상호\"],\n",
    "                         \"주소\": oil_data[\"주소\"],\n",
    "                         \"가격\": oil_data[\"휘발유\"],\n",
    "                         \"셀프\": oil_data[\"셀프여부\"],\n",
    "                         \"상표\": oil_data[\"상표\"]\n",
    "                         })\n",
    "oil_data.reset_index(drop=True, inplace=True)\n",
    "oil_data[\"구\"] = [address.split()[1] for address in oil_data[\"주소\"]]\n",
    "oil_data = oil_data[oil_data[\"가격\"] != \"-\"]\n",
    "oil_data[\"가격\"] = oil_data[\"가격\"].astype(\"float\")\n",
    "oil_data.reset_index(drop=True, inplace=True)\n"
   ]
  },
  {
   "cell_type": "code",
   "execution_count": null,
   "metadata": {},
   "outputs": [],
   "source": [
    "oil_data.boxplot(column=\"가격\", by=\"셀프\", figsize=(12,8));"
   ]
  },
  {
   "cell_type": "code",
   "execution_count": null,
   "metadata": {},
   "outputs": [],
   "source": [
    "\n",
    "\n",
    "price_data = oil_data[oil_data[\"셀프\"] == \"Y\"]\n",
    "price_data = price_data[\"가격\"]\n",
    "price_data.median()\n",
    "\n",
    "\n",
    "oil_data.boxplot.text([\"Y\"],\n",
    "              price_data,\n",
    "              price_data,\n",
    "              fontsize=15)\n",
    "        "
   ]
  },
  {
   "cell_type": "code",
   "execution_count": null,
   "metadata": {},
   "outputs": [],
   "source": [
    "oil_data"
   ]
  },
  {
   "cell_type": "code",
   "execution_count": null,
   "metadata": {},
   "outputs": [],
   "source": []
  }
 ],
 "metadata": {
  "kernelspec": {
   "display_name": "eda_venv",
   "language": "python",
   "name": "python3"
  },
  "language_info": {
   "codemirror_mode": {
    "name": "ipython",
    "version": 3
   },
   "file_extension": ".py",
   "mimetype": "text/x-python",
   "name": "python",
   "nbconvert_exporter": "python",
   "pygments_lexer": "ipython3",
   "version": "3.10.12"
  }
 },
 "nbformat": 4,
 "nbformat_minor": 2
}
