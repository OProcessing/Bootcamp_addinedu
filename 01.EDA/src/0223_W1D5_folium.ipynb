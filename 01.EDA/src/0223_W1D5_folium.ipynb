{
 "cells": [
  {
   "cell_type": "code",
   "execution_count": null,
   "metadata": {},
   "outputs": [],
   "source": [
    "import pandas as pd\n",
    "import numpy as np\n",
    "import matplotlib.pyplot as plt\n",
    "import koreanize_matplotlib\n",
    "%matplotlib inline\n",
    "\n",
    "import folium\n"
   ]
  },
  {
   "cell_type": "code",
   "execution_count": null,
   "metadata": {},
   "outputs": [],
   "source": [
    "m = folium.Map(location=[45.5236, -122.6750])"
   ]
  },
  {
   "cell_type": "code",
   "execution_count": null,
   "metadata": {},
   "outputs": [],
   "source": [
    "Tiles_Builtin = [\"OpenStreetMap\", \"Cartodb Positron\", \"Cartodb dark_matter\"]\n",
    "folium.Map(location=[37.4778772, 126.8806482], tiles=Tiles_Builtin[0], zoom_start=18)"
   ]
  },
  {
   "cell_type": "code",
   "execution_count": null,
   "metadata": {},
   "outputs": [],
   "source": [
    "MyHome = [37.4778772, 126.8806482]\n",
    "MyNeighbor = [37.47791, 126.8791]\n",
    "MyFriend = [37.477822, 126.88062]\n",
    "\n",
    "my_map = folium.Map(\n",
    "    location=MyHome, \n",
    "    tiles=Tiles_Builtin[0], \n",
    "    left=50, \n",
    "    width = \"80%\", \n",
    "    height= \"80%\", \n",
    "    control_scale= False, \n",
    "    zoom_start=18\n",
    "    )\n",
    "\n",
    "my_map.add_child(folium.LatLngPopup())\n",
    "\n",
    "folium.Marker(location=MyHome, popup=\"<i>My Sweet Home</i>\", icon = folium.Icon(color=\"green\")).add_to(my_map)\n",
    "folium.Marker(location=MyNeighbor, popup=\"<i>My Neighbor</i>\",  icon = folium.Icon(icon=\"cloud\")).add_to(my_map)\n",
    "folium.Marker(location=MyFriend, popup=\"My Friend>\",  icon = folium.Icon(color=\"red\", icon=\"info-sign\")).add_to(my_map)\n",
    "\n",
    "folium.Circle(\n",
    "    radius=100,\n",
    "    location=MyHome,\n",
    "    popup=\"My Sweet Home\",\n",
    "    color = \"crimson\",\n",
    "    fill=False\n",
    ").add_to(my_map)\n",
    "\n",
    "folium.CircleMarker(\n",
    "    radius=50,\n",
    "    location=MyNeighbor,\n",
    "    popup=\"My Neighbor\",\n",
    "    color = \"#3186cc\",\n",
    "    fill=True,\n",
    "    fill_color=\"#3186cc\"\n",
    ").add_to(my_map)\n",
    "\n",
    "\n",
    "my_map"
   ]
  },
  {
   "cell_type": "code",
   "execution_count": null,
   "metadata": {},
   "outputs": [],
   "source": [
    "import json\n",
    "import pandas as pd\n",
    "\n",
    "state_data = pd.read_csv(\"../data/02. US_Unemployment_Oct2012.csv\")\n",
    "\n",
    "m = folium.Map(location=[48, -102], width=\"80%\", height=\"80%\", zoom_start=3)\n",
    "\n",
    "folium.Choropleth(\n",
    "    geo_data=\"../data/02. us-states.json\",\n",
    "    data=state_data,\n",
    "    columns=[\"State\", \"Unemployment\"],\n",
    "    key_on=\"feature.id\",\n",
    "    fill_color=\"YlGn\",\n",
    "    fill_opacity=0.7,\n",
    "    line_opacity=0.2,\n",
    "    legend_name=\"Unemployment Rate(%)\",\n",
    ").add_to(m)\n",
    "m"
   ]
  },
  {
   "cell_type": "code",
   "execution_count": null,
   "metadata": {},
   "outputs": [],
   "source": []
  }
 ],
 "metadata": {
  "kernelspec": {
   "display_name": "Python 3 (ipykernel)",
   "language": "python",
   "name": "python3"
  },
  "language_info": {
   "codemirror_mode": {
    "name": "ipython",
    "version": 3
   },
   "file_extension": ".py",
   "mimetype": "text/x-python",
   "name": "python",
   "nbconvert_exporter": "python",
   "pygments_lexer": "ipython3",
   "version": "3.10.12"
  }
 },
 "nbformat": 4,
 "nbformat_minor": 4
}
