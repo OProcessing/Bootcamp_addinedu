{
 "cells": [
  {
   "cell_type": "code",
   "execution_count": null,
   "id": "db0c904c",
   "metadata": {},
   "outputs": [],
   "source": [
    "import pandas as pd\n",
    "import numpy as np"
   ]
  },
  {
   "cell_type": "code",
   "execution_count": null,
   "id": "c858873c",
   "metadata": {},
   "outputs": [],
   "source": [
    "s = pd.Series([1, 3, 5, np.nan, 6, 8])\n",
    "s"
   ]
  },
  {
   "cell_type": "code",
   "execution_count": null,
   "id": "cafff6be",
   "metadata": {},
   "outputs": [],
   "source": [
    "date_list = pd.date_range(\"20130101\", periods=6)\n",
    "date_list"
   ]
  },
  {
   "cell_type": "code",
   "execution_count": null,
   "id": "78e65b30",
   "metadata": {},
   "outputs": [],
   "source": [
    "df = pd.DataFrame(np.random.randn(6,4),\n",
    "                  index=date_list,\n",
    "                  columns=[\"A\", \"B\", \"C\", \"D\"])\n",
    "df"
   ]
  },
  {
   "cell_type": "code",
   "execution_count": null,
   "id": "8a8197c3",
   "metadata": {},
   "outputs": [],
   "source": [
    "df.head()"
   ]
  },
  {
   "cell_type": "code",
   "execution_count": null,
   "id": "a318bfcb",
   "metadata": {},
   "outputs": [],
   "source": [
    "df.index"
   ]
  },
  {
   "cell_type": "code",
   "execution_count": null,
   "id": "29668237",
   "metadata": {},
   "outputs": [],
   "source": [
    "df.columns"
   ]
  },
  {
   "cell_type": "code",
   "execution_count": null,
   "id": "9e06c314",
   "metadata": {},
   "outputs": [],
   "source": [
    "df.values"
   ]
  },
  {
   "cell_type": "code",
   "execution_count": null,
   "id": "93a1448b",
   "metadata": {},
   "outputs": [],
   "source": [
    "df.info()"
   ]
  },
  {
   "cell_type": "code",
   "execution_count": null,
   "id": "e0169423",
   "metadata": {},
   "outputs": [],
   "source": [
    "df.describe()"
   ]
  },
  {
   "cell_type": "code",
   "execution_count": null,
   "id": "ab3aec7f",
   "metadata": {},
   "outputs": [],
   "source": [
    "df.sort_values(by='B', ascending=False)"
   ]
  },
  {
   "cell_type": "code",
   "execution_count": null,
   "id": "4a74c29e",
   "metadata": {},
   "outputs": [],
   "source": [
    "df[\"A\"]"
   ]
  },
  {
   "cell_type": "code",
   "execution_count": null,
   "id": "462c98d8",
   "metadata": {},
   "outputs": [],
   "source": [
    "df[0:3]"
   ]
  },
  {
   "cell_type": "code",
   "execution_count": null,
   "id": "e6d3dacc",
   "metadata": {},
   "outputs": [],
   "source": [
    "df[\"20130102\":\"20130104\"]"
   ]
  },
  {
   "cell_type": "code",
   "execution_count": null,
   "id": "bfe119e7",
   "metadata": {},
   "outputs": [],
   "source": [
    "df.loc[:, [\"A\",\"B\"]]"
   ]
  },
  {
   "cell_type": "code",
   "execution_count": null,
   "id": "330b1579",
   "metadata": {},
   "outputs": [],
   "source": [
    "df.loc[\"20130102\":\"20130104\", [\"A\",\"B\"]]"
   ]
  },
  {
   "cell_type": "code",
   "execution_count": null,
   "id": "056e469f",
   "metadata": {},
   "outputs": [],
   "source": [
    "df.iloc[3]"
   ]
  },
  {
   "cell_type": "code",
   "execution_count": null,
   "id": "1c0b728e",
   "metadata": {},
   "outputs": [],
   "source": [
    "df.iloc[3:5, 0:2]"
   ]
  },
  {
   "cell_type": "code",
   "execution_count": null,
   "id": "0350e431",
   "metadata": {},
   "outputs": [],
   "source": [
    "df.iloc[[1,2,4],[0,2]]"
   ]
  },
  {
   "cell_type": "code",
   "execution_count": null,
   "id": "3555c1d0",
   "metadata": {},
   "outputs": [],
   "source": [
    "df.head(6)"
   ]
  },
  {
   "cell_type": "code",
   "execution_count": null,
   "id": "5b003652",
   "metadata": {},
   "outputs": [],
   "source": [
    "df[df[\"A\"]>0]"
   ]
  },
  {
   "cell_type": "code",
   "execution_count": null,
   "id": "33a37e7b",
   "metadata": {},
   "outputs": [],
   "source": [
    "df[df>0]"
   ]
  },
  {
   "cell_type": "code",
   "execution_count": null,
   "id": "9536299d",
   "metadata": {},
   "outputs": [],
   "source": [
    "df.head(6)"
   ]
  },
  {
   "cell_type": "code",
   "execution_count": null,
   "id": "0606ba9e",
   "metadata": {},
   "outputs": [],
   "source": [
    "df[\"E\"] = [\"one\", \"one\", \"two\", \"three\", \"four\", \"three\"]\n",
    "df"
   ]
  },
  {
   "cell_type": "code",
   "execution_count": null,
   "id": "c40d4cf7",
   "metadata": {},
   "outputs": [],
   "source": [
    "df[\"E\"].isin([\"two\",\"four\"])"
   ]
  },
  {
   "cell_type": "code",
   "execution_count": null,
   "id": "9fc29cb9",
   "metadata": {},
   "outputs": [],
   "source": [
    "df[df[\"E\"].isin([\"two\",\"four\"])]"
   ]
  },
  {
   "cell_type": "code",
   "execution_count": null,
   "id": "aa139aa2",
   "metadata": {},
   "outputs": [],
   "source": [
    "del df[\"E\"]\n",
    "df"
   ]
  },
  {
   "cell_type": "code",
   "execution_count": null,
   "id": "0df2dee3",
   "metadata": {},
   "outputs": [],
   "source": [
    "df.apply(np.cumsum)"
   ]
  },
  {
   "cell_type": "code",
   "execution_count": null,
   "id": "2ac6d3bb",
   "metadata": {},
   "outputs": [],
   "source": []
  }
 ],
 "metadata": {
  "kernelspec": {
   "display_name": "Python 3 (ipykernel)",
   "language": "python",
   "name": "python3"
  },
  "language_info": {
   "codemirror_mode": {
    "name": "ipython",
    "version": 3
   },
   "file_extension": ".py",
   "mimetype": "text/x-python",
   "name": "python",
   "nbconvert_exporter": "python",
   "pygments_lexer": "ipython3",
   "version": "3.10.12"
  }
 },
 "nbformat": 4,
 "nbformat_minor": 5
}
