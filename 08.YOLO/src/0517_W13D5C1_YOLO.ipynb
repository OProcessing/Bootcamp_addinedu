{
 "cells": [
  {
   "cell_type": "code",
   "execution_count": 1,
   "metadata": {},
   "outputs": [],
   "source": [
    "import cv2\n",
    "\n",
    "filepath = '/home/verlo/BLACKPINK_PlayIngWithFire.webm'\n",
    "video = cv2.VideoCapture(filepath)\n",
    "\n",
    "if not video.isOpened :\n",
    "    print(\"Could not open : \", filepath)\n",
    "    exit(0)"
   ]
  },
  {
   "cell_type": "code",
   "execution_count": null,
   "metadata": {},
   "outputs": [],
   "source": [
    "length = int(video.get(cv2.CAP_PROP_FRAME_COUNT))\n",
    "width = int(video.get(cv2.CAP_PROP_FRAME_WIDTH))\n",
    "height = int(video.get(cv2.CAP_PROP_FRAME_HEIGHT))\n",
    "fps = video.get(cv2.CAP_PROP_FPS)\n",
    "\n",
    "print(\"length : \", length)\n",
    "print(\"width : \", width)\n",
    "print(\"height : \", height)\n",
    "print(\"fps : \", fps)"
   ]
  },
  {
   "cell_type": "code",
   "execution_count": null,
   "metadata": {},
   "outputs": [],
   "source": [
    "import os \n",
    "\n",
    "try :\n",
    "    if not os.path.exists(filepath[:-5]):\n",
    "        os.makedirs(filepath[:-5])\n",
    "except OSError :\n",
    "    print('Error : Creating directory.' + filepath[:-5])"
   ]
  },
  {
   "cell_type": "code",
   "execution_count": null,
   "metadata": {},
   "outputs": [],
   "source": [
    "num = input(\"How many frames want to get? : \")\n",
    "\n",
    "num = int(num)\n",
    "\n",
    "div_num = length // num\n",
    "\n",
    "count = 0\n",
    "\n",
    "while(video.isOpened()):\n",
    "    ret, image = video.read()\n",
    "\n",
    "    if (int(video.get(1) % div_num == 0)):\n",
    "        cv2.imwrite(filepath[:-5] + \"/frame%d.jpg\" % count, image)\n",
    "        print('Saved frame number : ', str(int(video.get(1))))\n",
    "\n",
    "        count += 1\n",
    "    \n",
    "    if video.get(1) >= (length-2) :\n",
    "        break\n",
    "\n",
    "video.release()"
   ]
  },
  {
   "cell_type": "code",
   "execution_count": null,
   "metadata": {},
   "outputs": [],
   "source": [
    "from ultralytics import YOLO\n",
    "\n",
    "model = YOLO('yolov8m.pt')\n",
    "\n",
    "results = model.train(data='/home/verlo/dev_ws/Yolo/data/BLACKPINK_PlayIngWithFire/YOLODataset/dataset.yaml', epochs=50)\n",
    "print(results)"
   ]
  },
  {
   "cell_type": "code",
   "execution_count": null,
   "metadata": {},
   "outputs": [],
   "source": []
  }
 ],
 "metadata": {
  "kernelspec": {
   "display_name": "openCV_venv",
   "language": "python",
   "name": "python3"
  },
  "language_info": {
   "codemirror_mode": {
    "name": "ipython",
    "version": 3
   },
   "file_extension": ".py",
   "mimetype": "text/x-python",
   "name": "python",
   "nbconvert_exporter": "python",
   "pygments_lexer": "ipython3",
   "version": "3.10.12"
  }
 },
 "nbformat": 4,
 "nbformat_minor": 2
}
