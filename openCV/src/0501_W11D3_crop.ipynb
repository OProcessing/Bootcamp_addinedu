{
 "cells": [
  {
   "cell_type": "code",
   "execution_count": null,
   "metadata": {},
   "outputs": [],
   "source": [
    "import cv2\n",
    "import numpy as np\n",
    "import matplotlib.pyplot as plt"
   ]
  },
  {
   "cell_type": "code",
   "execution_count": null,
   "metadata": {},
   "outputs": [],
   "source": [
    "src = cv2.imread('../data/lenna.bmp', cv2.IMREAD_GRAYSCALE)\n",
    "dx = cv2.Sobel(src, -1, 1, 0, delta=128)\n",
    "dy = cv2.Sobel(src, -1, 0, 1, delta=128)\n",
    "cv2.imshow('src', src)\n",
    "cv2.imshow('dx', dx)\n",
    "cv2.imshow('dy', dy)\n",
    "cv2.waitKey()\n",
    "cv2.destroyAllWindows()"
   ]
  },
  {
   "cell_type": "code",
   "execution_count": null,
   "metadata": {},
   "outputs": [],
   "source": [
    "dx = cv2.Sobel(src, cv2.CV_32F, 1, 0)\n",
    "dy = cv2.Sobel(src, cv2.CV_32F, 0, 1)\n",
    "mag = cv2.magnitude(dx, dy)\n",
    "mag = np.clip(mag, 0, 255).astype(np.uint8)\n",
    "dst = np.zeros(src.shape[:2], np.uint8)\n",
    "_, dst = cv2.threshold(mag, 120, 255, cv2.THRESH_BINARY)\n",
    "cv2.imshow('src', src)\n",
    "cv2.imshow('mag', mag)\n",
    "cv2.imshow('dst', dst)\n",
    "cv2.waitKey()\n",
    "cv2.destroyAllWindows()"
   ]
  },
  {
   "cell_type": "code",
   "execution_count": null,
   "metadata": {},
   "outputs": [],
   "source": [
    "src = cv2.imread('../data/building.jpg', cv2.IMREAD_GRAYSCALE)\n",
    "dst = cv2.Canny(src, 50, 150)\n",
    "cv2.imshow('src', src)\n",
    "cv2.imshow('dst', dst)\n",
    "cv2.waitKey()\n",
    "cv2.destroyAllWindows()"
   ]
  },
  {
   "cell_type": "code",
   "execution_count": null,
   "metadata": {},
   "outputs": [],
   "source": [
    "src = cv2.imread('../data/dial.jpg')\n",
    "gray = cv2.cvtColor(src, cv2.COLOR_BGR2GRAY)\n",
    "blr = cv2.GaussianBlur(gray, (0, 0), 1)\n",
    "def on_trackbar(pos):\n",
    "    rmin = cv2.getTrackbarPos('minRadius', 'img')\n",
    "    rmax = cv2.getTrackbarPos('maxRadius', 'img')\n",
    "    th = cv2.getTrackbarPos('threshold', 'img')\n",
    "    circles = cv2.HoughCircles(blr, cv2.HOUGH_GRADIENT, 1, 50, param1=120, param2=th, minRadius=rmin, maxRadius=rmax)\n",
    "    \n",
    "    dst = src.copy()\n",
    "    if circles is not None:\n",
    "        for i in range(circles.shape[1]):\n",
    "            cx, cy, radius = circles[0][i]\n",
    "            cv2.circle(dst, (int(cx), int(cy)), int(radius), (0, 0, 255), 2, cv2.LINE_AA)\n",
    "    cv2.imshow('img', dst)\n",
    "\n",
    "cv2.imshow('img', src)\n",
    "cv2.createTrackbar('minRadius', 'img', 0, 100, on_trackbar)\n",
    "cv2.createTrackbar('maxRadius', 'img', 0, 150, on_trackbar)\n",
    "cv2.createTrackbar('threshold', 'img', 0, 100, on_trackbar)\n",
    "cv2.setTrackbarPos('minRadius', 'img', 10)\n",
    "cv2.setTrackbarPos('maxRadius', 'img', 80)\n",
    "cv2.setTrackbarPos('threshold', 'img', 40)\n",
    "cv2.waitKey()\n",
    "cv2.destroyAllWindows()"
   ]
  },
  {
   "cell_type": "code",
   "execution_count": null,
   "metadata": {},
   "outputs": [],
   "source": [
    "src = cv2.imread('../data/coins1.jpg')\n",
    "gray = cv2.cvtColor(src, cv2.COLOR_BGR2GRAY)\n",
    "blr = cv2.GaussianBlur(gray, (0,0), 1)\n",
    "\n",
    "circles = cv2.HoughCircles(blr, cv2.HOUGH_GRADIENT, 1, 50, param1=150, param2=40, minRadius=20, maxRadius=80)\n",
    "sum_of_money = 0\n",
    "dst = src.copy()\n",
    "\n",
    "if circles is not None :\n",
    "    for i in range(circles.shape[1]) :\n",
    "        cx, cy, radius = circles[0][i]\n",
    "        cv2.circle(dst, (int(cx), int(cy)), int(radius), (0,0,255), 2, cv2.LINE_AA)\n",
    "\n",
    "        x1 = int(cx - radius)\n",
    "        y1 = int(cy - radius)\n",
    "        x2 = int(cx + radius)\n",
    "        y2 = int(cy + radius)\n",
    "        radius = int(radius)\n",
    "\n",
    "        crop = dst[y1:y2, x1:x2, :]\n",
    "        ch, cw = crop.shape[:2]\n",
    "        \n",
    "        mask =np.zeros((ch,cw), np.uint8)\n",
    "        cv2.circle(mask, (cw//2, ch//2), radius, 255, -1)\n",
    "\n",
    "        hsv = cv2.cvtColor(crop, cv2.COLOR_BGR2HSV)\n",
    "        hue, _, _ = cv2.split(hsv)\n",
    "        hue_shift = (hue+40) % 180\n",
    "        mean_of_hue = cv2.mean(hue_shift, mask)[0]\n",
    "\n",
    "        won = 100\n",
    "        if mean_of_hue < 53 :\n",
    "            won = 10\n",
    "\n",
    "        sum_of_money += won\n",
    "        cv2.putText(crop, str(won), (20, 50), cv2.FONT_HERSHEY_SIMPLEX,\n",
    "                    0.75, (255, 0, 0), 2, cv2.LINE_AA)\n",
    "        \n",
    "cv2.putText(dst, str(sum_of_money) + ' won', (40, 80),\n",
    "cv2.FONT_HERSHEY_DUPLEX, 2, (255, 0, 0), 2, cv2.LINE_AA)\n",
    "cv2.imshow('src', src)\n",
    "cv2.imshow('dst', dst)\n",
    "cv2.waitKey()\n",
    "cv2.destroyAllWindows()\n"
   ]
  },
  {
   "cell_type": "code",
   "execution_count": null,
   "metadata": {},
   "outputs": [],
   "source": []
  },
  {
   "cell_type": "code",
   "execution_count": null,
   "metadata": {},
   "outputs": [],
   "source": []
  }
 ],
 "metadata": {
  "kernelspec": {
   "display_name": "openCV_venv",
   "language": "python",
   "name": "python3"
  },
  "language_info": {
   "codemirror_mode": {
    "name": "ipython",
    "version": 3
   },
   "file_extension": ".py",
   "mimetype": "text/x-python",
   "name": "python",
   "nbconvert_exporter": "python",
   "pygments_lexer": "ipython3",
   "version": "3.10.12"
  }
 },
 "nbformat": 4,
 "nbformat_minor": 2
}
