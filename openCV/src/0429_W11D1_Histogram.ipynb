{
 "cells": [
  {
   "cell_type": "code",
   "execution_count": null,
   "metadata": {},
   "outputs": [],
   "source": [
    "import cv2\n",
    "import numpy as np\n",
    "import matplotlib.pyplot as plt"
   ]
  },
  {
   "cell_type": "code",
   "execution_count": null,
   "metadata": {},
   "outputs": [],
   "source": [
    "bricks = cv2.imread('../data/bricks.jpg')\n",
    "show_bricks = cv2.cvtColor(bricks, cv2.COLOR_BGR2RGB)\n",
    "plt.imshow(show_bricks)"
   ]
  },
  {
   "cell_type": "code",
   "execution_count": null,
   "metadata": {},
   "outputs": [],
   "source": [
    "hist_values = cv2.calcHist([show_bricks], channels=[2], mask=None, histSize=[256], ranges=[0,256])\n",
    "plt.plot(hist_values);"
   ]
  },
  {
   "cell_type": "code",
   "execution_count": null,
   "metadata": {},
   "outputs": [],
   "source": [
    "def show_histogram(img, title, xmax, ymax=None) :\n",
    "    color = ('b', 'g', 'r')\n",
    "    for i, clr in enumerate(color) : \n",
    "        histr = cv2.calcHist([img], channels=[i], mask=None, histSize=[256], ranges=[0,256])\n",
    "        plt.plot(histr, color = clr)\n",
    "        plt.xlim([0, xmax])\n",
    "        if ymax != None :\n",
    "            plt.ylim([0, ymax])    \n",
    "    plt.title(title)\n",
    "show_histogram(bricks, 'HISTOGRAM FOR BLUE BRICKS', 256)"
   ]
  },
  {
   "cell_type": "code",
   "execution_count": null,
   "metadata": {},
   "outputs": [],
   "source": [
    "cat = cv2.imread('../data/cat.bmp', cv2.IMREAD_GRAYSCALE)\n",
    "plt.imshow(cat, cmap='gray')"
   ]
  },
  {
   "cell_type": "code",
   "execution_count": null,
   "metadata": {},
   "outputs": [],
   "source": [
    "def display_img(img, cmap=None) :\n",
    "    fig = plt.figure(figsize=(8,6))\n",
    "    ax = fig.add_subplot(111)\n",
    "    ax.imshow(img, cmap)"
   ]
  },
  {
   "cell_type": "code",
   "execution_count": null,
   "metadata": {},
   "outputs": [],
   "source": [
    "eq_cat = cv2.equalizeHist(cat)\n",
    "display_img(eq_cat, cmap='gray')"
   ]
  },
  {
   "cell_type": "code",
   "execution_count": null,
   "metadata": {},
   "outputs": [],
   "source": [
    "hist_values = cv2.calcHist([eq_cat], channels=[0], mask=None, histSize=[256], ranges=[0,256])\n",
    "plt.plot(hist_values)"
   ]
  },
  {
   "cell_type": "code",
   "execution_count": null,
   "metadata": {},
   "outputs": [],
   "source": [
    "color_cat = cv2.imread('../data/cat.bmp')\n",
    "show_color_cat = cv2.cvtColor(color_cat, cv2.COLOR_BGR2RGB)\n",
    "plt.imshow(show_color_cat)"
   ]
  },
  {
   "cell_type": "code",
   "execution_count": null,
   "metadata": {},
   "outputs": [],
   "source": [
    "hsv = cv2.cvtColor(color_cat, cv2.COLOR_BGR2HSV)\n",
    "hsv[:240,:,1] = cv2.equalizeHist(hsv[:240,:,1])\n",
    "hsv[:,:320,2] = cv2.equalizeHist(hsv[:,:320,2])\n",
    "eq_color_cat = cv2.cvtColor(hsv, cv2.COLOR_HSV2RGB)\n",
    "display_img(eq_color_cat)"
   ]
  },
  {
   "cell_type": "code",
   "execution_count": null,
   "metadata": {},
   "outputs": [],
   "source": [
    "hsv = cv2.cvtColor(color_cat, cv2.COLOR_BGR2HSV)\n",
    "hsv[:240,:,2] = cv2.equalizeHist(hsv[:240,:,2])\n",
    "hsv[:,:320,1] = cv2.equalizeHist(hsv[:,:320,1])\n",
    "eq_color_cat = cv2.cvtColor(hsv, cv2.COLOR_HSV2RGB)\n",
    "display_img(eq_color_cat)"
   ]
  },
  {
   "cell_type": "code",
   "execution_count": null,
   "metadata": {},
   "outputs": [],
   "source": [
    "src = cv2.imread('../data/lenna.bmp', cv2.IMREAD_GRAYSCALE)\n",
    "dst1 = cv2.add(src,100)\n",
    "dst2 = src + 127\n",
    "cv2.imshow('src', src)\n",
    "cv2.imshow('dst1', dst1)\n",
    "cv2.imshow('dst2', dst2)\n",
    "cv2.waitKey()\n",
    "cv2.destroyAllWindows()"
   ]
  },
  {
   "cell_type": "code",
   "execution_count": null,
   "metadata": {},
   "outputs": [],
   "source": [
    "src = cv2.imread('../data/lenna.bmp')\n",
    "dst1 = cv2.add(src, (50, 50, 100, 0))\n",
    "dst2 = np.clip(src + 100., 0, 255).astype(np.uint8)\n",
    "cv2.imshow('src', src)\n",
    "cv2.imshow('dst1', dst1)\n",
    "cv2.imshow('dst2 ', dst2)\n",
    "cv2.waitKey()\n",
    "cv2.destroyAllWindows()"
   ]
  },
  {
   "cell_type": "code",
   "execution_count": null,
   "metadata": {},
   "outputs": [],
   "source": [
    "src1 = cv2.imread('../data/lenna.bmp', cv2.IMREAD_GRAYSCALE)\n",
    "src2 = cv2.imread('../data/circle.jpg', cv2.IMREAD_GRAYSCALE)\n",
    "#src2 = cv2.bitwise_not(src2)\n",
    "src2 = cv2.resize(src2, (src1.shape[1], src.shape[0]))\n",
    "#dst = cv2.subtract(src1, src2)\n",
    "dst = cv2.addWeighted(src1, 1.0, src2, 0.5, 0)\n",
    "plt.imshow(dst, cmap='gray')"
   ]
  },
  {
   "cell_type": "code",
   "execution_count": null,
   "metadata": {},
   "outputs": [],
   "source": [
    "src1 = cv2.imread('../data/lenna.bmp', cv2.IMREAD_GRAYSCALE)\n",
    "src2 = cv2.imread('../data/circle.jpg', cv2.IMREAD_GRAYSCALE)\n",
    "src2 = cv2.resize(src2, (src1.shape[1], src.shape[0]))\n",
    "#src2 = cv2.bitwise_not(src2)\n",
    "dst = cv2.absdiff(src1, src2)\n",
    "plt.imshow(dst, cmap='gray')"
   ]
  },
  {
   "cell_type": "code",
   "execution_count": null,
   "metadata": {},
   "outputs": [],
   "source": [
    "src = cv2.imread('../data/Hawkes.jpg', cv2.IMREAD_GRAYSCALE)\n",
    "dst1 = cv2.normalize(src, None, 0, 255, cv2.NORM_MINMAX)\n",
    "dst2 = cv2.equalizeHist(src, None)\n",
    "cv2.imshow('src', src)\n",
    "cv2.imshow('dst1', dst1)\n",
    "cv2.imshow('dst2', dst2)\n",
    "cv2.waitKey()\n",
    "cv2.destroyAllWindows()"
   ]
  },
  {
   "cell_type": "code",
   "execution_count": null,
   "metadata": {},
   "outputs": [],
   "source": []
  }
 ],
 "metadata": {
  "kernelspec": {
   "display_name": "openCV_venv",
   "language": "python",
   "name": "python3"
  },
  "language_info": {
   "codemirror_mode": {
    "name": "ipython",
    "version": 3
   },
   "file_extension": ".py",
   "mimetype": "text/x-python",
   "name": "python",
   "nbconvert_exporter": "python",
   "pygments_lexer": "ipython3",
   "version": "3.10.12"
  }
 },
 "nbformat": 4,
 "nbformat_minor": 2
}
