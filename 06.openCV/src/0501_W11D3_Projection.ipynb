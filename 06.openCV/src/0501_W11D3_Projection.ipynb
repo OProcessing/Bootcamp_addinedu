{
 "cells": [
  {
   "cell_type": "code",
   "execution_count": 1,
   "metadata": {},
   "outputs": [],
   "source": [
    "import cv2\n",
    "import numpy as np\n",
    "import matplotlib.pyplot as plt"
   ]
  },
  {
   "cell_type": "code",
   "execution_count": 14,
   "metadata": {},
   "outputs": [
    {
     "name": "stdout",
     "output_type": "stream",
     "text": [
      "Select a ROI and then press SPACE or ENTER button!\n",
      "Cancel the selection process by pressing c button!\n"
     ]
    }
   ],
   "source": [
    "src = cv2.imread('../../00.Data/06.openCV/data/airplane.bmp')\n",
    "x, y, w, h = cv2.selectROI(src)\n",
    "src_ycrcb = cv2.cvtColor(src, cv2.COLOR_BGR2YCrCb)\n",
    "crop = src_ycrcb[y:y+h, x:x+w]\n",
    "channels = [1, 2]\n",
    "cr_bins = 128\n",
    "cb_bins = 128\n",
    "histSize = [cr_bins, cb_bins]\n",
    "cr_range = [0, 256]\n",
    "cb_range = [0, 256]\n",
    "ranges = cr_range + cb_range\n",
    "hist = cv2.calcHist([crop], channels, None, histSize, ranges)\n",
    "hist_norm = cv2.normalize(cv2.log(hist+1), None, 0, 255, cv2.NORM_MINMAX, cv2.CV_8U)\n",
    "backproj = cv2.calcBackProject([src_ycrcb], channels, hist, ranges, 1)\n",
    "dst = cv2.copyTo(src, backproj)\n",
    "cv2.imshow('backproj', backproj)\n",
    "cv2.imshow('hist_norm', hist_norm)\n",
    "cv2.imshow('dst', dst)\n",
    "cv2.waitKey()\n",
    "cv2.destroyAllWindows()"
   ]
  },
  {
   "cell_type": "code",
   "execution_count": 15,
   "metadata": {},
   "outputs": [],
   "source": [
    "ref = cv2.imread('../../00.Data/06.openCV/data/kids1.png', cv2.IMREAD_COLOR)\n",
    "mask = cv2.imread('../../00.Data/06.openCV/data/kids1_mask.bmp', cv2.IMREAD_GRAYSCALE)\n",
    "ref_ycrcb = cv2.cvtColor(ref, cv2.COLOR_BGR2YCrCb)\n",
    "channels = [1, 2]\n",
    "ranges = [0, 256, 0, 256]\n",
    "hist = cv2.calcHist([ref_ycrcb], channels, mask, [128, 128], ranges)\n",
    "hist_norm = cv2.normalize(cv2.log(hist + 1), None, 0, 255,\n",
    "cv2.NORM_MINMAX, cv2.CV_8U)\n",
    "src = cv2.imread('../../00.Data/06.openCV/data/kids2.png', cv2.IMREAD_COLOR)\n",
    "src_ycrcb = cv2.cvtColor(src, cv2.COLOR_BGR2YCrCb)\n",
    "backproj = cv2.calcBackProject([src_ycrcb], channels, hist, ranges, 1)\n",
    "cv2.imshow('src', src)\n",
    "cv2.imshow('hist_norm', hist_norm)\n",
    "cv2.imshow('backproj', backproj)\n",
    "cv2.waitKey()\n",
    "cv2.destroyAllWindows()"
   ]
  },
  {
   "cell_type": "code",
   "execution_count": 7,
   "metadata": {},
   "outputs": [
    {
     "name": "stdout",
     "output_type": "stream",
     "text": [
      "frame_cnt1: 370\n",
      "frame_cnt2: 392\n"
     ]
    }
   ],
   "source": [
    "cap1 = cv2.VideoCapture('../../00.Data/06.openCV/data/video_src.mp4')\n",
    "cap2 = cv2.VideoCapture('../../00.Data/06.openCV/data/video_bg.mp4')\n",
    "frame_cnt1 = round(cap1.get(cv2.CAP_PROP_FRAME_COUNT))\n",
    "frame_cnt2 = round(cap2.get(cv2.CAP_PROP_FRAME_COUNT))\n",
    "print('frame_cnt1:', frame_cnt1)\n",
    "print('frame_cnt2:', frame_cnt2)\n",
    "fps = cap1.get(cv2.CAP_PROP_FPS)\n",
    "\n",
    "try : delay = int(1000 / fps)\n",
    "except : pass\n",
    "do_composit = False\n",
    "while True:\n",
    "    ret1, frame1 = cap1.read()\n",
    "    if not ret1:\n",
    "        break\n",
    "    if do_composit:\n",
    "        ret2, frame2 = cap2.read()\n",
    "        if not ret2:\n",
    "            break\n",
    "        hsv = cv2.cvtColor(frame1, cv2.COLOR_BGR2HSV)\n",
    "        mask = cv2.inRange(hsv, (130, 150, 0), (170, 255, 255))\n",
    "        cv2.copyTo(frame2, mask, frame1)\n",
    "    cv2.imshow('frame', frame1)\n",
    "    key = cv2.waitKey(delay)\n",
    "    if key == ord(' '):\n",
    "        do_composit = not do_composit\n",
    "    elif key == 27:\n",
    "        break\n",
    "cap1.release()\n",
    "cap2.release()\n",
    "cv2.destroyAllWindows()"
   ]
  },
  {
   "cell_type": "code",
   "execution_count": null,
   "metadata": {},
   "outputs": [],
   "source": []
  }
 ],
 "metadata": {
  "kernelspec": {
   "display_name": "openCV_venv",
   "language": "python",
   "name": "python3"
  },
  "language_info": {
   "codemirror_mode": {
    "name": "ipython",
    "version": 3
   },
   "file_extension": ".py",
   "mimetype": "text/x-python",
   "name": "python",
   "nbconvert_exporter": "python",
   "pygments_lexer": "ipython3",
   "version": "3.10.12"
  }
 },
 "nbformat": 4,
 "nbformat_minor": 2
}
