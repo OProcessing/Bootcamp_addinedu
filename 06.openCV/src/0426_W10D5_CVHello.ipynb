{
 "cells": [
  {
   "cell_type": "code",
   "execution_count": 1,
   "metadata": {},
   "outputs": [],
   "source": [
    "import cv2\n",
    "import numpy as np\n",
    "from PIL import Image\n",
    "import matplotlib.pyplot as plt\n"
   ]
  },
  {
   "cell_type": "code",
   "execution_count": 2,
   "metadata": {},
   "outputs": [],
   "source": [
    "capture = cv2.VideoCapture(0)\n",
    "capture.set(cv2.CAP_PROP_FRAME_WIDTH, 640)\n",
    "capture.set(cv2.CAP_PROP_FRAME_HEIGHT, 480)\n",
    "\n",
    "while True :\n",
    "    ret, frame = capture.read()\n",
    "    cv2.imshow(\"VideoFrame\", frame)\n",
    "\n",
    "    if cv2.waitKey(10) == 27 :\n",
    "        break\n",
    "\n",
    "capture.release()\n",
    "cv2.destroyAllWindows()"
   ]
  },
  {
   "cell_type": "code",
   "execution_count": null,
   "metadata": {},
   "outputs": [],
   "source": [
    "\n",
    "image = Image.open('/home/han//A_pdf/06. OpenCV/data/test.jpg')\n",
    "image"
   ]
  },
  {
   "cell_type": "code",
   "execution_count": null,
   "metadata": {},
   "outputs": [],
   "source": [
    "\n",
    "image = cv2.imread('/home/han//A_pdf/06. OpenCV/data/test.jpg')\n",
    "cv2.imshow('test', image)\n",
    "cv2.waitKey(0)\n",
    "cv2.destroyAllWindows()"
   ]
  },
  {
   "cell_type": "code",
   "execution_count": null,
   "metadata": {},
   "outputs": [],
   "source": [
    "\n",
    "\n",
    "picture = Image.open('/home/han//A_pdf/06. OpenCV/data/test.jpg')\n",
    "picture_arr = np.asarray(picture)\n",
    "picture_red = picture_arr.copy()\n",
    "picture_red[:,:,1] = 0\n",
    "plt.imshow(picture_red)"
   ]
  },
  {
   "cell_type": "code",
   "execution_count": null,
   "metadata": {},
   "outputs": [],
   "source": [
    "image = cv2.imread('/home/han//A_pdf/06. OpenCV/data/test.jpg')\n",
    "type(image)"
   ]
  },
  {
   "cell_type": "code",
   "execution_count": null,
   "metadata": {},
   "outputs": [],
   "source": [
    "fix_image = cv2.cvtColor(image, cv2.COLOR_BGR2RGB)\n",
    "plt.imshow(fix_image)"
   ]
  },
  {
   "cell_type": "code",
   "execution_count": null,
   "metadata": {},
   "outputs": [],
   "source": [
    "image_gray = cv2.imread('/home/han//A_pdf/06. OpenCV/data/test.jpg', cv2.IMREAD_GRAYSCALE)\n",
    "plt.imshow(image_gray, cmap='gray')"
   ]
  },
  {
   "cell_type": "code",
   "execution_count": null,
   "metadata": {},
   "outputs": [],
   "source": [
    "new_image = cv2.resize(fix_image, (600,800))\n",
    "plt.imshow(new_image)"
   ]
  },
  {
   "cell_type": "code",
   "execution_count": null,
   "metadata": {},
   "outputs": [],
   "source": [
    "plt.imshow(cv2.flip(fix_image, -1))"
   ]
  },
  {
   "cell_type": "code",
   "execution_count": null,
   "metadata": {},
   "outputs": [],
   "source": [
    "cv2.imwrite('/home/han//A_pdf/06. OpenCV/data/test_gray.jpg', image_gray)\n",
    "image_image = cv2.imread('/home/han//A_pdf/06. OpenCV/data/test_gray.jpg')\n",
    "plt.imshow(image_image)"
   ]
  },
  {
   "cell_type": "code",
   "execution_count": null,
   "metadata": {},
   "outputs": [],
   "source": [
    "blank_img = np.zeros((512,512,3), dtype=np.int16)\n",
    "blank_img.shape"
   ]
  },
  {
   "cell_type": "code",
   "execution_count": null,
   "metadata": {},
   "outputs": [],
   "source": [
    "font = cv2.FONT_HERSHEY_SIMPLEX\n",
    "cv2.rectangle(blank_img, pt1=(384,0), pt2=(510,150), color=(0,255,0), thickness=5)\n",
    "cv2.rectangle(blank_img, rec=(100,150,200,200), color=(0,0,255), thickness=10)\n",
    "cv2.circle(blank_img, center=(100,100), radius=50, color=(255,0,0), thickness=8)\n",
    "cv2.circle(blank_img, center=(400,400), radius=40, color=(255,0,0), thickness=-1)\n",
    "cv2.line(blank_img, pt1=(0,0), pt2=(512,512), color=(102,255,255), thickness=5, lineType=cv2.LINE_AA)\n",
    "cv2.putText(blank_img, text=\"Hello World\", org=(10,500), fontFace=font, fontScale=1, color=(255,255,255), thickness=3)\n",
    "plt.imshow(blank_img);"
   ]
  },
  {
   "cell_type": "code",
   "execution_count": null,
   "metadata": {},
   "outputs": [],
   "source": [
    "blank_img = np.zeros((512,512,3), dtype=np.int32)\n",
    "vertices = np.array([ [100,300], [200,200], [400,300], [200,400]], dtype=np.int32)\n",
    "vertices.shape\n"
   ]
  },
  {
   "cell_type": "code",
   "execution_count": null,
   "metadata": {},
   "outputs": [],
   "source": [
    "pts = vertices.reshape((-1,1,2))\n",
    "pts.shape"
   ]
  },
  {
   "cell_type": "code",
   "execution_count": null,
   "metadata": {},
   "outputs": [],
   "source": [
    "cv2.polylines(blank_img, [pts], isClosed=True, color=(255,255,255), thickness=3)\n",
    "plt.imshow(blank_img)"
   ]
  },
  {
   "cell_type": "code",
   "execution_count": null,
   "metadata": {},
   "outputs": [],
   "source": []
  }
 ],
 "metadata": {
  "kernelspec": {
   "display_name": "openCV_venv",
   "language": "python",
   "name": "python3"
  },
  "language_info": {
   "codemirror_mode": {
    "name": "ipython",
    "version": 3
   },
   "file_extension": ".py",
   "mimetype": "text/x-python",
   "name": "python",
   "nbconvert_exporter": "python",
   "pygments_lexer": "ipython3",
   "version": "3.10.12"
  }
 },
 "nbformat": 4,
 "nbformat_minor": 2
}
