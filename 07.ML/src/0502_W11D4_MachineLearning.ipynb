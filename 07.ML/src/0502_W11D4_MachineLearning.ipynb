{
 "cells": [
  {
   "cell_type": "code",
   "execution_count": null,
   "metadata": {},
   "outputs": [],
   "source": [
    "import numpy as np\n",
    "import pandas as pd\n",
    "import seaborn as sns\n",
    "import matplotlib.pyplot as plt\n",
    "from sklearn.datasets import load_iris\n",
    "iris = load_iris()\n",
    "print(iris.DESCR)"
   ]
  },
  {
   "cell_type": "code",
   "execution_count": null,
   "metadata": {},
   "outputs": [],
   "source": [
    "iris_pd = pd.DataFrame(iris.data, columns=iris.feature_names)\n",
    "iris_pd['species'] = iris.target\n",
    "#plt.figure(figsize=(12,6))\n",
    "#sns.boxplot(x='sepal length (cm)', y='species', data=iris_pd, orient='h')\n",
    "#sns.boxplot(x='petal length (cm)', y='species', data=iris_pd, orient='h')\n",
    "#sns.boxplot(x='sepal width (cm)', y='species', data=iris_pd, orient='h')\n",
    "#sns.boxplot(x='petal width (cm)', y='species', data=iris_pd, orient='h')\n",
    "sns.pairplot(iris_pd, hue='species', palette='Accent');"
   ]
  },
  {
   "cell_type": "code",
   "execution_count": null,
   "metadata": {},
   "outputs": [],
   "source": [
    "from sklearn.tree import DecisionTreeClassifier\n",
    "from sklearn.metrics import accuracy_score"
   ]
  },
  {
   "cell_type": "code",
   "execution_count": null,
   "metadata": {},
   "outputs": [],
   "source": [
    "iris_tree = DecisionTreeClassifier()\n",
    "iris_tree.fit(iris.data[:,2:], iris.target)\n",
    "y_pred_tr = iris_tree.predict(iris.data[:,2:])\n",
    "accuracy_score(iris.target, y_pred_tr)"
   ]
  },
  {
   "cell_type": "code",
   "execution_count": null,
   "metadata": {},
   "outputs": [],
   "source": [
    "from mlxtend.plotting import plot_decision_regions\n",
    "from sklearn.model_selection import train_test_split"
   ]
  },
  {
   "cell_type": "code",
   "execution_count": null,
   "metadata": {},
   "outputs": [],
   "source": [
    "plt.figure(figsize=(14,8))\n",
    "plot_decision_regions(X=iris.data[:, 2:], y=iris.target, clf=iris_tree, legend=2)\n",
    "plt.show()"
   ]
  },
  {
   "cell_type": "code",
   "execution_count": null,
   "metadata": {},
   "outputs": [],
   "source": [
    "# 테스트 모델 분리\n",
    "iris = load_iris()\n",
    "features = iris.data[:,2:]\n",
    "labels = iris.target\n",
    "X_train, X_test, Y_train, Y_test = train_test_split(features, labels, test_size=0.2, stratify=labels, random_state=50)\n"
   ]
  },
  {
   "cell_type": "code",
   "execution_count": null,
   "metadata": {},
   "outputs": [],
   "source": [
    "# 학습 모델 결과\n",
    "iris_tree = DecisionTreeClassifier(max_depth=3, random_state=50)\n",
    "iris_tree.fit(X_train, Y_train)"
   ]
  },
  {
   "cell_type": "code",
   "execution_count": null,
   "metadata": {},
   "outputs": [],
   "source": [
    "# 학습 모델 정확도\n",
    "y_pred_tr = iris_tree.predict(X_train)\n",
    "accuracy_score(Y_train, y_pred_tr)"
   ]
  },
  {
   "cell_type": "code",
   "execution_count": null,
   "metadata": {},
   "outputs": [],
   "source": [
    "from sklearn import tree\n",
    "fig = plt.figure(figsize=(15,10))\n",
    "_ = tree.plot_tree(iris_tree, feature_names=['petal length', 'petal width'], class_names = list(iris.target_names), filled=True)"
   ]
  },
  {
   "cell_type": "code",
   "execution_count": null,
   "metadata": {},
   "outputs": [],
   "source": [
    "from mlxtend.plotting import plot_decision_regions\n",
    "\n",
    "plt.figure(figsize=(12,8))\n",
    "plot_decision_regions(X=features, y=labels, clf=iris_tree, legend=2)\n",
    "plt.show()"
   ]
  },
  {
   "cell_type": "code",
   "execution_count": null,
   "metadata": {},
   "outputs": [],
   "source": [
    "y_pred_test = iris_tree.predict(X_test)\n",
    "accuracy_score(Y_test, y_pred_test)"
   ]
  },
  {
   "cell_type": "code",
   "execution_count": null,
   "metadata": {},
   "outputs": [],
   "source": [
    "plt.figure(figsize=(12,8))\n",
    "plot_decision_regions(X=X_test, y=Y_test, clf=iris_tree, legend=2)\n",
    "plt.show()"
   ]
  },
  {
   "cell_type": "code",
   "execution_count": null,
   "metadata": {},
   "outputs": [],
   "source": [
    "scatter_highlight_kwargs = {'s':150, 'label':'Test data', 'alpha':0.9}\n",
    "scatter_kwargs = {'s':120, 'edgecolor':None, 'alpha':0.7}\n",
    "\n",
    "plt.figure(figsize=(12,8))\n",
    "plot_decision_regions(X=features, y=labels, X_highlight=X_test, clf=iris_tree, legend=2, scatter_highlight_kwargs=scatter_highlight_kwargs, scatter_kwargs=scatter_kwargs, contourf_kwargs={'alpha':0.2})\n",
    "plt.show()"
   ]
  },
  {
   "cell_type": "code",
   "execution_count": null,
   "metadata": {},
   "outputs": [],
   "source": [
    "fig = plt.figure(figsize=(15,10))\n",
    "_ = tree.plot_tree(iris_tree, feature_names=list(iris.feature_names), class_names = list(iris.target_names), filled=True)"
   ]
  },
  {
   "cell_type": "code",
   "execution_count": null,
   "metadata": {},
   "outputs": [],
   "source": [
    "test_data = [[4.3, 2.0]]\n",
    "iris.target_names[iris_tree.predict(test_data)]"
   ]
  },
  {
   "cell_type": "code",
   "execution_count": null,
   "metadata": {},
   "outputs": [],
   "source": []
  }
 ],
 "metadata": {
  "kernelspec": {
   "display_name": "openCV_venv",
   "language": "python",
   "name": "python3"
  },
  "language_info": {
   "codemirror_mode": {
    "name": "ipython",
    "version": 3
   },
   "file_extension": ".py",
   "mimetype": "text/x-python",
   "name": "python",
   "nbconvert_exporter": "python",
   "pygments_lexer": "ipython3",
   "version": "3.10.12"
  }
 },
 "nbformat": 4,
 "nbformat_minor": 2
}
