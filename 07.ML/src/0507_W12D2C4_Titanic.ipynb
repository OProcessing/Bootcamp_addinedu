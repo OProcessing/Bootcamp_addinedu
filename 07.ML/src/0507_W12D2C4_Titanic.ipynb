{
 "cells": [
  {
   "cell_type": "markdown",
   "metadata": {},
   "source": [
    "### Titanic의 PCA"
   ]
  },
  {
   "cell_type": "code",
   "execution_count": null,
   "metadata": {},
   "outputs": [],
   "source": [
    "import re\n",
    "import numpy as np\n",
    "import pandas as pd\n",
    "import seaborn as sns\n",
    "import plotly.express as px\n",
    "from sklearn.pipeline import Pipeline\n",
    "from sklearn.preprocessing import StandardScaler\n",
    "from sklearn.preprocessing import LabelEncoder\n",
    "from sklearn.model_selection import train_test_split\n",
    "from sklearn.metrics import accuracy_score\n",
    "from sklearn.neighbors import KNeighborsClassifier\n",
    "from sklearn.decomposition import PCA\n"
   ]
  },
  {
   "cell_type": "code",
   "execution_count": null,
   "metadata": {},
   "outputs": [],
   "source": [
    "titanic_url = 'https://raw.githubusercontent.com/PinkWink/ML_tutorial/master/dataset/titanic.xls'\n",
    "titanic = pd.read_excel(titanic_url)\n",
    "titanic.head()"
   ]
  },
  {
   "cell_type": "code",
   "execution_count": null,
   "metadata": {},
   "outputs": [],
   "source": [
    "title = []\n",
    "for idx, dataset in titanic.iterrows():\n",
    "    title.append(re.search('\\,\\s\\w+(\\s\\w+)?\\.', dataset['name']).group()[2:-1])\n",
    "\n",
    "titanic['title'] = title\n",
    "titanic.head()"
   ]
  },
  {
   "cell_type": "code",
   "execution_count": null,
   "metadata": {},
   "outputs": [],
   "source": [
    "titanic['title'] = titanic['title'].replace('Mlle', 'Miss')\n",
    "titanic['title'] = titanic['title'].replace('Ms', 'Miss')\n",
    "titanic['title'] = titanic['title'].replace('Mme', 'Mrs')\n",
    "\n",
    "Rare_f = ['Dona', 'Dr', 'Lady', 'the Countess']\n",
    "\n",
    "Rare_m = ['Capt', 'Col', 'Don', 'Major', 'Rev', 'Sir', 'Jonkheer', 'Master']\n",
    "\n",
    "for each in Rare_f:\n",
    "    titanic['title'] = titanic['title'].replace(each, 'Rare_f')\n",
    "\n",
    "for each in Rare_m:\n",
    "    titanic['title'] = titanic['title'].replace(each, 'Rare_m')\n",
    "\n",
    "titanic['title'].unique()"
   ]
  },
  {
   "cell_type": "code",
   "execution_count": null,
   "metadata": {},
   "outputs": [],
   "source": [
    "le_sex = LabelEncoder()\n",
    "le_sex.fit(titanic['sex'])\n",
    "titanic['gender'] = le_sex.transform(titanic['sex'])\n",
    "le_sex.classes_"
   ]
  },
  {
   "cell_type": "code",
   "execution_count": null,
   "metadata": {},
   "outputs": [],
   "source": [
    "le_grade = LabelEncoder()\n",
    "le_grade.fit(titanic['title'])\n",
    "titanic['grade'] = le_grade.transform(titanic['title'])\n",
    "\n",
    "le_grade.classes_"
   ]
  },
  {
   "cell_type": "code",
   "execution_count": null,
   "metadata": {},
   "outputs": [],
   "source": [
    "titanic.head()"
   ]
  },
  {
   "cell_type": "code",
   "execution_count": null,
   "metadata": {},
   "outputs": [],
   "source": [
    "titanic = titanic[titanic['age'].notnull()]\n",
    "titanic = titanic[titanic['fare'].notnull()]\n",
    "titanic.info()"
   ]
  },
  {
   "cell_type": "code",
   "execution_count": null,
   "metadata": {},
   "outputs": [],
   "source": [
    "x = titanic[['pclass', 'age', 'sibsp', 'parch', 'fare', 'gender', 'grade']].astype('float')\n",
    "y = titanic['survived']\n",
    "\n",
    "x_train, x_test, y_train, y_test = train_test_split(x, y, test_size=0.2, random_state=50)"
   ]
  },
  {
   "cell_type": "code",
   "execution_count": null,
   "metadata": {},
   "outputs": [],
   "source": [
    "def get_pca_data(ss_data, n_components=2) :\n",
    "    pca = PCA(n_components=n_components)\n",
    "    pca.fit(ss_data)\n",
    "\n",
    "    return pca.transform(ss_data), pca"
   ]
  },
  {
   "cell_type": "code",
   "execution_count": null,
   "metadata": {},
   "outputs": [],
   "source": [
    "def get_pd_from_pca(pca_data, col_num) :\n",
    "    cols = ['pca_'+str(n) for n in range(col_num)]\n",
    "    return pd.DataFrame(pca_data, columns=cols)"
   ]
  },
  {
   "cell_type": "code",
   "execution_count": null,
   "metadata": {},
   "outputs": [],
   "source": [
    "def print_variance_ratio(pca, only_sum=False) :\n",
    "    if only_sum == False :\n",
    "        print('variance_ratio : ', pca.explained_variance_ratio_)\n",
    "    print('sum of variance_ratio : ', np.sum(pca.explained_variance_ratio_))"
   ]
  },
  {
   "cell_type": "code",
   "execution_count": null,
   "metadata": {},
   "outputs": [],
   "source": [
    "pca_data, pca = get_pca_data(x_train, n_components=2)\n",
    "print_variance_ratio(pca)"
   ]
  },
  {
   "cell_type": "code",
   "execution_count": null,
   "metadata": {},
   "outputs": [],
   "source": [
    "pca_columns = ['pca_1', 'pca_2']\n",
    "pca_pd = pd.DataFrame(pca_data, columns=pca_columns)\n",
    "pca_pd['survived'] = y_train\n",
    "sns.pairplot(pca_pd, hue='survived', height=5, x_vars=['pca_1'], y_vars=['pca_2'])"
   ]
  },
  {
   "cell_type": "code",
   "execution_count": null,
   "metadata": {},
   "outputs": [],
   "source": [
    "pca_data, pca = get_pca_data(x_train, n_components=3)\n",
    "print_variance_ratio(pca)"
   ]
  },
  {
   "cell_type": "code",
   "execution_count": null,
   "metadata": {},
   "outputs": [],
   "source": [
    "pca_pd = get_pd_from_pca(pca_data, 3)\n",
    "pca_pd['survived'] = y_train.values\n",
    "pca_pd.head()"
   ]
  },
  {
   "cell_type": "code",
   "execution_count": null,
   "metadata": {},
   "outputs": [],
   "source": [
    "fig = px.scatter_3d(pca_pd, x='pca_0', y='pca_1', z='pca_2', color='survived', symbol='survived', opacity=0.4)\n",
    "fig.update_layout(margin=dict(l=0, r=0, b=0, t=0))\n",
    "fig.show()"
   ]
  },
  {
   "cell_type": "code",
   "execution_count": null,
   "metadata": {},
   "outputs": [],
   "source": [
    "estimators = [('scaler', StandardScaler()), ('pca', PCA(n_components=3)), ('clf', KNeighborsClassifier(n_neighbors=20))]\n",
    "pipe = Pipeline(estimators)\n",
    "pipe.fit(x_train, y_train)\n",
    "pred = pipe.predict(x_test)\n",
    "print(accuracy_score(y_test, pred))"
   ]
  },
  {
   "cell_type": "code",
   "execution_count": null,
   "metadata": {},
   "outputs": [],
   "source": [
    "dicaprio = np.array([[3, 18, 0, 0, 5, 1, 1]])\n",
    "print('Decaprio : ', pipe.predict_proba(dicaprio)[0,1])\n",
    "winslet = np.array([[1, 16, 1, 1, 100, 0, 3]])\n",
    "print('Winslet : ', pipe.predict_proba(winslet)[0,1])"
   ]
  },
  {
   "cell_type": "code",
   "execution_count": null,
   "metadata": {},
   "outputs": [],
   "source": []
  }
 ],
 "metadata": {
  "kernelspec": {
   "display_name": "openCV_venv",
   "language": "python",
   "name": "python3"
  },
  "language_info": {
   "codemirror_mode": {
    "name": "ipython",
    "version": 3
   },
   "file_extension": ".py",
   "mimetype": "text/x-python",
   "name": "python",
   "nbconvert_exporter": "python",
   "pygments_lexer": "ipython3",
   "version": "3.10.12"
  }
 },
 "nbformat": 4,
 "nbformat_minor": 2
}
