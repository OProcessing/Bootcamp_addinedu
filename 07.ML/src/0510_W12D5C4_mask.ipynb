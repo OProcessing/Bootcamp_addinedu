{
 "cells": [
  {
   "cell_type": "code",
   "execution_count": null,
   "metadata": {},
   "outputs": [],
   "source": [
    "import os\n",
    "import cv2\n",
    "import glob\n",
    "import numpy as np\n",
    "import pandas as pd\n",
    "import seaborn as sns\n",
    "import matplotlib.pyplot as plt\n",
    "\n",
    "import tensorflow as tf\n",
    "from tensorflow.keras import Sequential, models, layers\n",
    "from tensorflow.keras.layers import Flatten, Dense, Conv2D, MaxPool2D\n",
    "\n",
    "from sklearn.metrics import classification_report, confusion_matrix\n",
    "from sklearn.model_selection import train_test_split"
   ]
  },
  {
   "cell_type": "code",
   "execution_count": null,
   "metadata": {},
   "outputs": [],
   "source": [
    "path = \"../../00.Data/07.ML/data/Face Mask Dataset/\"\n",
    "\n",
    "dataset = {\n",
    "    \"image_path\" : [],\n",
    "    \"mask_status\" : [],\n",
    "    \"where\" : []\n",
    "}\n",
    "\n",
    "for where in os.listdir(path) :\n",
    "    for status in os.listdir(path+\"/\"+where) :\n",
    "        for image in glob.glob(path+where+\"/\"+status+\"/\"+\"*.png\") :\n",
    "            dataset[\"image_path\"].append(image)\n",
    "            dataset[\"mask_status\"].append(status)\n",
    "            dataset[\"where\"].append(where)\n",
    "\n",
    "dataset = pd.DataFrame(dataset)\n",
    "dataset.head()"
   ]
  },
  {
   "cell_type": "code",
   "execution_count": null,
   "metadata": {},
   "outputs": [],
   "source": [
    "print(f\"With Mask:\", dataset.value_counts(\"mask_status\")[0])\n",
    "print(f\"Without Mask:\", dataset.value_counts(\"mask_status\")[1])\n",
    "\n",
    "sns.countplot(x = dataset[\"mask_status\"])"
   ]
  },
  {
   "cell_type": "code",
   "execution_count": null,
   "metadata": {},
   "outputs": [],
   "source": [
    "plt.figure(figsize = (15,10))\n",
    "for i in range(9) :\n",
    "  random = np.random.randint(1, len(dataset))\n",
    "  plt.subplot(3, 3, i+1)\n",
    "  plt.imshow(cv2.imread(dataset.loc[random, \"image_path\"]))\n",
    "  plt.title(dataset.loc[random, \"mask_status\"], size=15)\n",
    "  plt.xticks([])\n",
    "  plt.yticks([])\n",
    "plt.show()"
   ]
  },
  {
   "cell_type": "code",
   "execution_count": null,
   "metadata": {},
   "outputs": [],
   "source": [
    "train_df = dataset[dataset[\"where\"] == \"Train\"]\n",
    "test_df = dataset[dataset[\"where\"] == \"Test\"]\n",
    "valid_df = dataset[dataset[\"where\"] == \"Validation\"]\n",
    "print(train_df.head(10))"
   ]
  },
  {
   "cell_type": "code",
   "execution_count": null,
   "metadata": {},
   "outputs": [],
   "source": [
    "plt.figure(figsize = (15,10))\n",
    "plt.subplot(1, 3, 1)\n",
    "sns.countplot(x = train_df[\"mask_status\"])\n",
    "plt.title(\"Training Dataset\", size=10)\n",
    "plt.subplot(1, 3, 2)\n",
    "sns.countplot(x = test_df[\"mask_status\"])\n",
    "plt.title(\"Test Dataset\", size=10)\n",
    "plt.subplot(1, 3, 3)\n",
    "sns.countplot(x = valid_df[\"mask_status\"])\n",
    "plt.title(\"Validation Dataset\", size=10)\n",
    "plt.show()"
   ]
  },
  {
   "cell_type": "code",
   "execution_count": null,
   "metadata": {},
   "outputs": [],
   "source": [
    "train_df = train_df.reset_index().drop(\"index\", axis=1)\n",
    "data = []\n",
    "image_size = 150\n",
    "\n",
    "for i in range(len(train_df)) :\n",
    "    img_array = cv2.imread(train_df[\"image_path\"][i], cv2.IMREAD_GRAYSCALE)\n",
    "    new_image_array = cv2.resize(img_array, (image_size, image_size))\n",
    "\n",
    "    if train_df[\"mask_status\"][i] == \"WithMask\" :\n",
    "        data.append([new_image_array, 1])\n",
    "    else :\n",
    "        data.append([new_image_array, 0])"
   ]
  },
  {
   "cell_type": "code",
   "execution_count": null,
   "metadata": {},
   "outputs": [],
   "source": [
    "#data = np.array(data)\n",
    "np.random.shuffle(data)\n",
    "type(data)"
   ]
  },
  {
   "cell_type": "code",
   "execution_count": null,
   "metadata": {},
   "outputs": [],
   "source": [
    "fig, ax = plt.subplots(2, 3, figsize=(10, 6))\n",
    "\n",
    "for row in range(2) :\n",
    "    for col in range(3) :\n",
    "        image_index = row*100+col\n",
    "\n",
    "        ax[row, col].axis(\"off\")\n",
    "        ax[row, col].imshow(data[image_index][0], cmap = 'gray')\n",
    "\n",
    "    if data[image_index][1] == 0 :\n",
    "        ax[row, col].set_title(\"Without Mask\")\n",
    "    else :\n",
    "        ax[row, col].set_title(\"with Mask\")\n",
    "\n",
    "plt.show()"
   ]
  },
  {
   "cell_type": "code",
   "execution_count": null,
   "metadata": {},
   "outputs": [],
   "source": [
    "x = []\n",
    "y = []\n",
    "\n",
    "for image in data :\n",
    "    x.append(image[0])\n",
    "    y.append(image[1])\n",
    "\n",
    "x = np.array(x)\n",
    "y = np.array(y)\n",
    "x_train, x_val, y_train, y_val = train_test_split(x, y, test_size=0.2, random_state=50)"
   ]
  },
  {
   "cell_type": "code",
   "execution_count": null,
   "metadata": {},
   "outputs": [],
   "source": [
    "model = models.Sequential([\n",
    "    layers.Conv2D(32, kernel_size=(5,5),strides=(1,1), padding='same', activation='relu', input_shape=(150,150,1)),\n",
    "    layers.MaxPooling2D(pool_size=(2,2), strides=(2,2)),\n",
    "    layers.Conv2D(64, (2,2), activation='relu', padding='same'),\n",
    "    layers.MaxPooling2D(pool_size=(2,2)),\n",
    "    layers.Dropout(0.25),\n",
    "    layers.Flatten(),\n",
    "    layers.Dense(1000, activation='relu'),\n",
    "    layers.Dense(1, activation='sigmoid')\n",
    "])\n",
    "model.summary()"
   ]
  },
  {
   "cell_type": "code",
   "execution_count": null,
   "metadata": {},
   "outputs": [],
   "source": [
    "import time\n",
    "\n",
    "model.compile(\n",
    "    optimizer='adam',\n",
    "    loss=tf.keras.losses.BinaryCrossentropy(),\n",
    "    metrics=['accuracy'])\n",
    "\n",
    "x_train = x_train.reshape(len(x_train), x_train.shape[1], x_train.shape[2], 1)\n",
    "x_val = x_val.reshape(len(x_val), x_val.shape[1], x_val.shape[2], 1)\n",
    "\n",
    "history = model.fit(x_train, y_train, epochs=5, batch_size=32)"
   ]
  },
  {
   "cell_type": "code",
   "execution_count": null,
   "metadata": {},
   "outputs": [],
   "source": [
    "prediction = (model.predict(x_val) > 0.5).astype(\"int32\")\n",
    "print(classification_report(y_val, prediction))\n",
    "print(confusion_matrix(y_val, prediction))"
   ]
  },
  {
   "cell_type": "code",
   "execution_count": null,
   "metadata": {},
   "outputs": [],
   "source": []
  }
 ],
 "metadata": {
  "kernelspec": {
   "display_name": "openCV_venv",
   "language": "python",
   "name": "python3"
  },
  "language_info": {
   "codemirror_mode": {
    "name": "ipython",
    "version": 3
   },
   "file_extension": ".py",
   "mimetype": "text/x-python",
   "name": "python",
   "nbconvert_exporter": "python",
   "pygments_lexer": "ipython3",
   "version": "3.10.12"
  }
 },
 "nbformat": 4,
 "nbformat_minor": 2
}
