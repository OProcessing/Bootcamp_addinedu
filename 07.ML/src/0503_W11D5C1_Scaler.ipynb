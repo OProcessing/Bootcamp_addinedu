{
 "cells": [
  {
   "cell_type": "code",
   "execution_count": null,
   "metadata": {},
   "outputs": [],
   "source": [
    "import pandas as pd \n",
    "import seaborn as sns\n",
    "import matplotlib.pyplot as plt\n",
    "from sklearn.preprocessing import LabelEncoder\n",
    "from sklearn.preprocessing import MinMaxScaler, StandardScaler, RobustScaler"
   ]
  },
  {
   "cell_type": "code",
   "execution_count": null,
   "metadata": {},
   "outputs": [],
   "source": [
    "df = pd.DataFrame( \n",
    "    {\n",
    "        'A' : ['a','b','c','a','b'],\n",
    "        'B' : ['1','2','3','1','0']\n",
    "    }\n",
    ")\n",
    "le = LabelEncoder()"
   ]
  },
  {
   "cell_type": "code",
   "execution_count": null,
   "metadata": {},
   "outputs": [],
   "source": [
    "le.fit(df['A'])\n",
    "le.classes_\n",
    "df['le_A'] = le.transform(df['A'])          # 라벨링\n",
    "le.transform(['a','b'])                     # 변환\n",
    "le.fit_transform(df['A'])                   #\n",
    "le.inverse_transform([1,2,2,2])\n",
    "df"
   ]
  },
  {
   "cell_type": "code",
   "execution_count": null,
   "metadata": {},
   "outputs": [],
   "source": [
    "mm = MinMaxScaler()             # MinMaxSclaer는 데이터의 Min, Max를 찾아서 Min, Max의 범위를 0 ~ 1 범위로 바꾼다.\n",
    "ss = StandardScaler()           # StandardScaler는 데이터의 평균을 찾아서 bias하여 평균을 0으로 바꾸고, 분산과 표준편차로 표현한다.\n",
    "rs = RobustScaler()             # RobustScaler는 데이터의 오염도를 낮추기 위해 사분위를 사용해서 제한한다.\n",
    "\n",
    "df = pd.DataFrame({\n",
    "        'A' : [-0.1, 0., 0.1, 0.2, 0.3, 0.4, 1.0, 1.1, 5, 5]\n",
    "})\n",
    "\n",
    "df_scaler = df.copy()\n",
    "df_scaler['MinMax'] = mm.fit_transform(df) \n",
    "df_scaler['Standard'] = ss.fit_transform(df)\n",
    "df_scaler['Robust'] = rs.fit_transform(df)\n",
    "df_scaler"
   ]
  },
  {
   "cell_type": "code",
   "execution_count": null,
   "metadata": {},
   "outputs": [],
   "source": [
    "sns.set_theme(style='whitegrid')\n",
    "plt.figure(figsize=(16,6))\n",
    "sns.boxplot(data=df_scaler, orient='h');"
   ]
  },
  {
   "cell_type": "code",
   "execution_count": null,
   "metadata": {},
   "outputs": [],
   "source": []
  }
 ],
 "metadata": {
  "kernelspec": {
   "display_name": "openCV_venv",
   "language": "python",
   "name": "python3"
  },
  "language_info": {
   "codemirror_mode": {
    "name": "ipython",
    "version": 3
   },
   "file_extension": ".py",
   "mimetype": "text/x-python",
   "name": "python",
   "nbconvert_exporter": "python",
   "pygments_lexer": "ipython3",
   "version": "3.10.12"
  }
 },
 "nbformat": 4,
 "nbformat_minor": 2
}
