{
 "cells": [
  {
   "cell_type": "markdown",
   "metadata": {},
   "source": [
    "# ensemble\n",
    "\n",
    "학습된 하나의 모델을 사용하는 것보다 학습된 여러개의 모델을 사용하면 보다 정확한 예측을 기대할 수 있다.\n",
    "\n",
    "voting은 여러 예측 모델을 두고 각 모델이 voting하여 최종 결정을 하며,\\\n",
    "bagging은 하나의 모델을 여러개의 데이터 샘플링하여 학습하고 voting하여 최종 결정한다.\\\n",
    "각각 데이터 샘플링하는 방법은 부트스트래핑 분할방식이라고 한다.\\\n",
    "하드보팅은 최종 결정에서 여러개의 모델이 선택한 결정을 따르며, 소프트 보팅은 각 모델이 게인값을 갖고 최종 결정을 한다.\n",
    "\n",
    "random forest는 bagging의 대표적인 방법이며,\\\n",
    "부트스트래핑으로 샘플링한 데이터마다 예측한 결과를 소프트 보팅하여 최종 예측 결정을 한다.\\\n",
    "Random forest는 앙상블 방법 중 속도가 빠르고 높은 성능을 보여준다.\\\n",
    "Human Activity Recognition Data를 Random forest 기법을 활용하여 분석해본다.\n"
   ]
  },
  {
   "cell_type": "code",
   "execution_count": null,
   "metadata": {},
   "outputs": [],
   "source": [
    "import numpy as np\n",
    "import pandas as pd\n",
    "import seaborn as sns\n",
    "import matplotlib.pyplot as plt\n",
    "from sklearn.tree import DecisionTreeClassifier\n",
    "from sklearn.metrics import accuracy_score\n",
    "from sklearn.model_selection import GridSearchCV\n",
    "from sklearn.ensemble import RandomForestClassifier\n"
   ]
  },
  {
   "cell_type": "code",
   "execution_count": null,
   "metadata": {},
   "outputs": [],
   "source": [
    "url =  'https://raw.githubusercontent.com/PinkWink/ML_tutorial/master/dataset/HAR_dataset/features.txt'\n",
    "feature_name_df = pd.read_csv(url, sep='\\s+', header=None, names=['column_index', 'column_name'])\n",
    "feature_name = feature_name_df.iloc[:,1].values.tolist()"
   ]
  },
  {
   "cell_type": "code",
   "execution_count": null,
   "metadata": {},
   "outputs": [],
   "source": [
    "x_train_url = 'https://raw.githubusercontent.com/PinkWink/ML_tutorial/master/dataset/HAR_dataset/train/X_train.txt'\n",
    "x_test_url = 'https://raw.githubusercontent.com/PinkWink/ML_tutorial/master/dataset/HAR_dataset/test/X_test.txt'\n",
    "y_train_url = 'https://raw.githubusercontent.com/PinkWink/ML_tutorial/master/dataset/HAR_dataset/train/y_train.txt'\n",
    "y_test_url = 'https://raw.githubusercontent.com/PinkWink/ML_tutorial/master/dataset/HAR_dataset/test/y_test.txt'\n",
    "\n",
    "x_train = pd.read_csv(x_train_url, sep='\\s+', header=None)\n",
    "x_test = pd.read_csv(x_test_url, sep='\\s+', header=None)\n",
    "y_train = pd.read_csv(y_train_url, sep='\\s+', header=None, names=['action'])\n",
    "y_test = pd.read_csv(y_test_url, sep='\\s+', header=None, names=['action'])\n",
    "\n",
    "x_train.columns = feature_name\n",
    "x_test.columns = feature_name"
   ]
  },
  {
   "cell_type": "code",
   "execution_count": null,
   "metadata": {},
   "outputs": [],
   "source": [
    "# 결정나무의 정확도\n",
    "\n",
    "dt_clf = DecisionTreeClassifier(max_depth=5, random_state=5)\n",
    "dt_clf.fit(x_train, y_train)\n",
    "pred = dt_clf.predict(x_test)\n",
    "accuracy_score(y_test, pred)"
   ]
  },
  {
   "cell_type": "code",
   "execution_count": null,
   "metadata": {},
   "outputs": [],
   "source": [
    "# GridSearch\n",
    "\n",
    "params = {'max_depth':list(range(6,18,2))}\n",
    "grid_cv = GridSearchCV(dt_clf, param_grid=params, scoring='accuracy', cv=5, return_train_score=True)\n",
    "grid_cv.fit(x_train, y_train)"
   ]
  },
  {
   "cell_type": "code",
   "execution_count": null,
   "metadata": {},
   "outputs": [],
   "source": [
    "# max_depth에 따른 스코어\n",
    "\n",
    "cv_result_df = pd.DataFrame(grid_cv.cv_results_)\n",
    "cv_result_df[['param_max_depth', 'mean_test_score', 'mean_train_score']]"
   ]
  },
  {
   "cell_type": "code",
   "execution_count": null,
   "metadata": {},
   "outputs": [],
   "source": [
    "# max_depth가 8에서 가장 점수가 높다는 것을 알았다.\n",
    "# 최상의 depth인지 과적합의 결과물인지 확인한다.\n",
    "\n",
    "max_depth = list(range(6,17))\n",
    "\n",
    "for depth in max_depth :\n",
    "    dt_clf = DecisionTreeClassifier(max_depth=depth, random_state=5)\n",
    "    dt_clf.fit(x_train, y_train)\n",
    "    pred = dt_clf.predict(x_test)\n",
    "    accuracy = accuracy_score(y_test, pred)\n",
    "    print('Max_Depth = ', depth, ', Accuracy = ', accuracy)"
   ]
  },
  {
   "cell_type": "code",
   "execution_count": null,
   "metadata": {},
   "outputs": [],
   "source": [
    "best_df_clf = grid_cv.best_estimator_\n",
    "pred1 = best_df_clf.predict(x_test)\n",
    "accuracy_score(y_test, pred1)"
   ]
  },
  {
   "cell_type": "code",
   "execution_count": null,
   "metadata": {},
   "outputs": [],
   "source": [
    "# random forest로 확인한다.\n",
    "\n",
    "params = {\n",
    "    'max_depth' : [6, 8, 10],\n",
    "    'n_estimators' : [50, 100, 200],\n",
    "    'min_samples_leaf' : [8, 12],\n",
    "    'min_samples_split' : [8, 12]\n",
    "}\n",
    "\n",
    "rf_clf = RandomForestClassifier(random_state=5, n_jobs=-1)\n",
    "grid_cv = GridSearchCV(rf_clf, param_grid=params, cv=2, n_jobs=-1)\n",
    "grid_cv.fit(x_train, y_train)"
   ]
  },
  {
   "cell_type": "code",
   "execution_count": null,
   "metadata": {},
   "outputs": [],
   "source": [
    "cv_results_df = pd.DataFrame(grid_cv.cv_results_)\n",
    "cv_results_df.columns"
   ]
  },
  {
   "cell_type": "code",
   "execution_count": null,
   "metadata": {},
   "outputs": [],
   "source": [
    "target_col = ['rank_test_score', 'mean_test_score', 'param_n_estimators', 'param_max_depth']\n",
    "cv_results_df[target_col].sort_values('rank_test_score').head()"
   ]
  },
  {
   "cell_type": "code",
   "execution_count": null,
   "metadata": {},
   "outputs": [],
   "source": [
    "grid_cv.best_params_"
   ]
  },
  {
   "cell_type": "code",
   "execution_count": null,
   "metadata": {},
   "outputs": [],
   "source": [
    "grid_cv.best_score_"
   ]
  },
  {
   "cell_type": "code",
   "execution_count": null,
   "metadata": {},
   "outputs": [],
   "source": [
    "rf_clf_best = grid_cv.best_estimator_\n",
    "rf_clf_best.fit(x_train, y_train)\n",
    "pred1 = rf_clf_best.predict(x_test)\n",
    "accuracy"
   ]
  },
  {
   "cell_type": "code",
   "execution_count": null,
   "metadata": {},
   "outputs": [],
   "source": [
    "best_cols_values = rf_clf_best.feature_importances_\n",
    "best_cols = pd.Series(best_cols_values, index=x_train.columns)\n",
    "top20_cols = best_cols.sort_values(ascending=False)[:20]\n",
    "top20_cols"
   ]
  },
  {
   "cell_type": "code",
   "execution_count": null,
   "metadata": {},
   "outputs": [],
   "source": [
    "plt.figure(figsize=(8,8))\n",
    "sns.barplot(x=top20_cols, y=top20_cols.index)\n",
    "plt.show"
   ]
  },
  {
   "cell_type": "code",
   "execution_count": null,
   "metadata": {},
   "outputs": [],
   "source": [
    "x_train_re = x_train[top20_cols.index]\n",
    "x_test_re = x_test[top20_cols.index]\n",
    "rf_clf_best_re = grid_cv.best_estimator_\n",
    "rf_clf_best_re.fit(x_train_re, y_train.values.reshape(-1,))\n",
    "pred1_re = rf_clf_best_re.predict(x_test_re)\n",
    "accuracy_score(y_test, pred1_re)"
   ]
  },
  {
   "cell_type": "code",
   "execution_count": null,
   "metadata": {},
   "outputs": [],
   "source": []
  }
 ],
 "metadata": {
  "kernelspec": {
   "display_name": "openCV_venv",
   "language": "python",
   "name": "python3"
  },
  "language_info": {
   "codemirror_mode": {
    "name": "ipython",
    "version": 3
   },
   "file_extension": ".py",
   "mimetype": "text/x-python",
   "name": "python",
   "nbconvert_exporter": "python",
   "pygments_lexer": "ipython3",
   "version": "3.10.12"
  }
 },
 "nbformat": 4,
 "nbformat_minor": 2
}
