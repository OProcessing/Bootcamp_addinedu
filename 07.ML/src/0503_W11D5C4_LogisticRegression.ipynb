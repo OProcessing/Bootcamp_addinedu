{
 "cells": [
  {
   "cell_type": "markdown",
   "metadata": {},
   "source": [
    "Logistic Regression\n",
    "\n",
    "분류 문제는 0과 1로 예측해야하나 Linear Regression은 예측함수 h(x)가 0보다 작거나 1보다 큰 값을 가질 수 있다.\\\n",
    "h(x)가 항상 0과 1사이의 값을 갖도록 Hypothesis 함수를 수정하고 모델을 비교해본다."
   ]
  },
  {
   "cell_type": "code",
   "execution_count": null,
   "metadata": {},
   "outputs": [],
   "source": [
    "import pandas as pd\n",
    "from sklearn.pipeline import Pipeline\n",
    "from sklearn.tree import DecisionTreeClassifier\n",
    "from sklearn.metrics import accuracy_score\n",
    "from sklearn.preprocessing import StandardScaler\n",
    "from sklearn.model_selection import train_test_split\n",
    "import matplotlib.pyplot as plt\n",
    "from sklearn import tree\n",
    "from sklearn.linear_model import LogisticRegression\n",
    "from sklearn.metrics import roc_curve\n",
    "import seaborn as sns\n",
    "\n",
    "from sklearn.metrics import accuracy_score, precision_score, recall_score, f1_score, roc_auc_score, roc_curve"
   ]
  },
  {
   "cell_type": "code",
   "execution_count": null,
   "metadata": {},
   "outputs": [],
   "source": [
    "red_url = 'https://raw.githubusercontent.com/PinkWink/forML_study_data/main/data/winequality-red.csv'\n",
    "white_url = 'https://raw.githubusercontent.com/PinkWink/forML_study_data/main/data/winequality-white.csv'\n",
    "\n",
    "red_wine = pd.read_csv(red_url, sep=';')\n",
    "white_wine = pd.read_csv(white_url, sep=';')\n",
    "red_wine['color']=1.\n",
    "white_wine['color']=0.\n",
    "wine = pd.concat([red_wine, white_wine])\n",
    "wine['taste'] = [1. if grade > 5 else 0. for grade in wine['quality']]\n",
    "x = wine.drop(['taste', 'quality'], axis=1)\n",
    "y = wine['taste']\n",
    "x_train, x_test, y_train, y_test = train_test_split(x, y, test_size=0.2, random_state=5)\n",
    "\n",
    "wine_lr = LogisticRegression(solver='liblinear', random_state=14)\n",
    "wine_lr.fit(x_train, y_train)\n",
    "y_pred_tr = wine_lr.predict(x_train)\n",
    "y_pred_test = wine_lr.predict(x_test)\n",
    "print('Train Acc    : ', accuracy_score(y_train, y_pred_tr))\n",
    "print('Test Acc     : ', accuracy_score(y_test, y_pred_test))"
   ]
  },
  {
   "cell_type": "code",
   "execution_count": null,
   "metadata": {},
   "outputs": [],
   "source": [
    "estimators = [('scaler', StandardScaler()), ('clf', LogisticRegression(solver='liblinear', random_state=14))]\n",
    "pipe = Pipeline(estimators)\n",
    "pipe.fit(x_train, y_train)\n",
    "y_pred_tr = pipe.predict(x_train)\n",
    "y_pred_test = pipe.predict(x_test)\n",
    "print('Train Acc    : ', accuracy_score(y_train, y_pred_tr))\n",
    "print('Test Acc     : ', accuracy_score(y_test, y_pred_test))"
   ]
  },
  {
   "cell_type": "code",
   "execution_count": null,
   "metadata": {},
   "outputs": [],
   "source": [
    "wine_tree = DecisionTreeClassifier(max_depth=2, random_state=5)\n",
    "wine_tree.fit(x_train, y_train)\n",
    "models = {'logistic regression':pipe, 'decision tree':wine_tree}"
   ]
  },
  {
   "cell_type": "code",
   "execution_count": null,
   "metadata": {},
   "outputs": [],
   "source": [
    "plt.figure(figsize=(10,8))\n",
    "plt.plot([0,1], [0,1])\n",
    "for model_name, model in models.items() :\n",
    "    pred = model.predict_proba(x_test)[:,1]\n",
    "    fpr, tpr, threshold = roc_curve(y_test, pred)\n",
    "    plt.plot(fpr, tpr, label=model_name)\n",
    "\n",
    "plt.grid()\n",
    "plt.legend()\n",
    "plt.show()"
   ]
  },
  {
   "cell_type": "code",
   "execution_count": null,
   "metadata": {},
   "outputs": [],
   "source": [
    "PIMA_url = 'https://raw.githubusercontent.com/PinkWink/ML_tutorial/master/dataset/diabetes.csv'\n",
    "\n",
    "PIMA = pd.read_csv(PIMA_url)\n",
    "PIMA = PIMA.astype('float')\n",
    "plt.figure(figsize=(12,10))\n",
    "sns.heatmap(PIMA.corr(), annot=True, fmt='.4f', cmap=\"YlGnBu\")\n",
    "plt.show()"
   ]
  },
  {
   "cell_type": "code",
   "execution_count": null,
   "metadata": {},
   "outputs": [],
   "source": [
    "zero_features = ['Glucose', 'BloodPressure', 'SkinThickness', 'BMI']\n",
    "PIMA[zero_features] = PIMA[zero_features].replace(0, PIMA[zero_features].mean())\n",
    "(PIMA==0).astype(int).sum()\n"
   ]
  },
  {
   "cell_type": "code",
   "execution_count": null,
   "metadata": {},
   "outputs": [],
   "source": [
    "\n",
    "x = PIMA.drop(['Outcome'], axis=1)\n",
    "y = PIMA['Outcome']\n",
    "x_train, x_test, y_train, y_test = train_test_split(x, y, test_size=0.2, random_state=5)\n",
    "\n",
    "estimators = [('scaler', StandardScaler()), ('clf', LogisticRegression(solver='liblinear', random_state=14))]\n",
    "pipe = Pipeline(estimators)\n",
    "pipe.fit(x_train, y_train)\n",
    "y_pred_tr = pipe.predict(x_train)\n",
    "y_pred_test = pipe.predict(x_test)\n",
    "\n",
    "print('Accuarcy     : ', accuracy_score(y_test, y_pred_test))\n",
    "print('Recall       : ', recall_score(y_test, y_pred_test))\n",
    "print('Precision    : ', precision_score(y_test, y_pred_test))\n",
    "print('AUC score    : ', roc_auc_score(y_test, y_pred_test))\n",
    "print('F1 score     : ', f1_score(y_test, y_pred_test))"
   ]
  },
  {
   "cell_type": "code",
   "execution_count": null,
   "metadata": {},
   "outputs": [],
   "source": [
    "coeff = list(pipe['clf'].coef_[0])\n",
    "labels = list(x_train.columns)\n",
    "labels"
   ]
  },
  {
   "cell_type": "code",
   "execution_count": null,
   "metadata": {},
   "outputs": [],
   "source": [
    "features = pd.DataFrame({'Features':labels, 'importance':coeff})\n",
    "features.sort_values(by=['importance'], ascending=True, inplace=True)\n",
    "features['positive'] = features['importance'] > 0\n",
    "features.set_index('Features', inplace=True)\n",
    "features['importance'].plot(kind='barh', figsize=(11,6), color=features['positive'].map({True:'blue', False:'red'}))\n",
    "plt.xlabel('Importance')\n",
    "plt.show()"
   ]
  },
  {
   "cell_type": "code",
   "execution_count": null,
   "metadata": {},
   "outputs": [],
   "source": []
  }
 ],
 "metadata": {
  "kernelspec": {
   "display_name": "openCV_venv",
   "language": "python",
   "name": "python3"
  },
  "language_info": {
   "codemirror_mode": {
    "name": "ipython",
    "version": 3
   },
   "file_extension": ".py",
   "mimetype": "text/x-python",
   "name": "python",
   "nbconvert_exporter": "python",
   "pygments_lexer": "ipython3",
   "version": "3.10.12"
  }
 },
 "nbformat": 4,
 "nbformat_minor": 2
}
