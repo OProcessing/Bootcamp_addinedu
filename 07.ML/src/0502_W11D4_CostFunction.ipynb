{
 "cells": [
  {
   "cell_type": "code",
   "execution_count": null,
   "metadata": {},
   "outputs": [],
   "source": [
    "import numpy as np\n",
    "import pandas as pd\n",
    "import seaborn as sns\n",
    "import matplotlib.pyplot as plt\n",
    "import plotly.express as px\n",
    "from sklearn.model_selection import train_test_split\n",
    "from sklearn.linear_model import LinearRegression\n",
    "from sklearn.metrics import mean_squared_error\n",
    "%matplotlib inline"
   ]
  },
  {
   "cell_type": "code",
   "execution_count": null,
   "metadata": {},
   "outputs": [],
   "source": [
    "column_names = ['CRIM', 'ZN', 'INDUS', 'CHAS', 'NOX', 'RM', 'AGE', 'DIS', 'RAD', 'TAX', 'PTRATIO', 'B', 'LSTAT', 'PRICE']\n",
    "boston_pd = pd.read_csv('../data/housing.csv', header=None, delimiter=r\"\\s+\", names=column_names)\n",
    "boston_pd.head()"
   ]
  },
  {
   "cell_type": "code",
   "execution_count": null,
   "metadata": {},
   "outputs": [],
   "source": [
    "fig = px.histogram(boston_pd, x=\"PRICE\")\n",
    "fig.show()"
   ]
  },
  {
   "cell_type": "code",
   "execution_count": null,
   "metadata": {},
   "outputs": [],
   "source": [
    "corr_mat = boston_pd.corr().round(1)\n",
    "sns.set(rc={'figure.figsize':(10,8)})\n",
    "sns.heatmap(data=corr_mat, annot=True, cmap='bwr');"
   ]
  },
  {
   "cell_type": "code",
   "execution_count": null,
   "metadata": {},
   "outputs": [],
   "source": [
    "sns.set_style('darkgrid')\n",
    "sns.set(rc={'figure.figsize':(12,6)})\n",
    "fig, ax = plt.subplots(ncols=2)\n",
    "sns.regplot(x='RM', y='PRICE', data=boston_pd, ax=ax[0])\n",
    "sns.regplot(x='LSTAT', y='PRICE', data=boston_pd, ax=ax[1])"
   ]
  },
  {
   "cell_type": "code",
   "execution_count": null,
   "metadata": {},
   "outputs": [],
   "source": [
    "x = boston_pd.drop('PRICE', axis=1)\n",
    "y = boston_pd['PRICE']\n",
    "x_train, x_test, y_train, y_test = train_test_split(x, y, test_size=0.2, random_state=29)\n",
    "reg = LinearRegression()\n",
    "reg.fit(x_train, y_train)"
   ]
  },
  {
   "cell_type": "code",
   "execution_count": null,
   "metadata": {},
   "outputs": [],
   "source": [
    "pred_tr = reg.predict(x_train)\n",
    "pred_test = reg.predict(x_test)\n",
    "rmse_tr = (np.sqrt(mean_squared_error(y_train, pred_tr)))\n",
    "rmse_test = (np.sqrt(mean_squared_error(y_test, pred_test)))\n",
    "plt.scatter(y_test, pred_test)\n",
    "plt.xlabel(\"Actual House Prices\")\n",
    "plt.ylabel(\"Predicted Prices\")\n",
    "plt.title(\"Real vs Predicted\")\n",
    "plt.plot([0,48], [0,48], 'r')\n",
    "plt.show()"
   ]
  },
  {
   "cell_type": "code",
   "execution_count": null,
   "metadata": {},
   "outputs": [],
   "source": [
    "x = boston_pd.drop(['PRICE', 'LSTAT'], axis=1)\n",
    "y = boston_pd['PRICE']\n",
    "x_train, x_test, y_train, y_test = train_test_split(x, y, test_size=0.2, random_state=29)\n",
    "reg = LinearRegression()\n",
    "reg.fit(x_train, y_train)"
   ]
  },
  {
   "cell_type": "code",
   "execution_count": null,
   "metadata": {},
   "outputs": [],
   "source": [
    "pred_tr = reg.predict(x_train)\n",
    "pred_test = reg.predict(x_test)\n",
    "rmse_tr = (np.sqrt(mean_squared_error(y_train, pred_tr)))\n",
    "rmse_test = (np.sqrt(mean_squared_error(y_test, pred_test)))\n",
    "plt.scatter(y_test, pred_test)\n",
    "plt.xlabel(\"Actual House Prices\")\n",
    "plt.ylabel(\"Predicted Prices\")\n",
    "plt.title(\"Real vs Predicted\")\n",
    "plt.plot([0,48], [0,48], 'r')\n",
    "plt.show()"
   ]
  },
  {
   "cell_type": "code",
   "execution_count": null,
   "metadata": {},
   "outputs": [],
   "source": []
  }
 ],
 "metadata": {
  "kernelspec": {
   "display_name": "openCV_venv",
   "language": "python",
   "name": "python3"
  },
  "language_info": {
   "codemirror_mode": {
    "name": "ipython",
    "version": 3
   },
   "file_extension": ".py",
   "mimetype": "text/x-python",
   "name": "python",
   "nbconvert_exporter": "python",
   "pygments_lexer": "ipython3",
   "version": "3.10.12"
  }
 },
 "nbformat": 4,
 "nbformat_minor": 2
}
