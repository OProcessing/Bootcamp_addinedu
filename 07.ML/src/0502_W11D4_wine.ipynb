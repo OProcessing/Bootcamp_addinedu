{
 "cells": [
  {
   "cell_type": "code",
   "execution_count": null,
   "metadata": {},
   "outputs": [],
   "source": [
    "import numpy as np\n",
    "import pandas as pd\n",
    "import seaborn as sns\n",
    "import matplotlib.pyplot as plt\n",
    "import plotly_express as px\n",
    "import plotly.graph_objects as go\n",
    "from mlxtend.plotting import plot_decision_regions\n",
    "from sklearn.model_selection import train_test_split\n",
    "from sklearn.tree import DecisionTreeClassifier\n",
    "from sklearn.metrics import accuracy_score\n",
    "from sklearn.preprocessing import MinMaxScaler, StandardScaler\n",
    "from sklearn import tree"
   ]
  },
  {
   "cell_type": "code",
   "execution_count": null,
   "metadata": {},
   "outputs": [],
   "source": [
    "red_url = 'https://raw.githubusercontent.com/PinkWink/forML_study_data/main/data/winequality-red.csv'\n",
    "white_url = 'https://raw.githubusercontent.com/PinkWink/forML_study_data/main/data/winequality-white.csv'\n",
    "\n",
    "red_wine = pd.read_csv(red_url, sep=';')\n",
    "white_wine = pd.read_csv(white_url, sep=';')"
   ]
  },
  {
   "cell_type": "code",
   "execution_count": null,
   "metadata": {},
   "outputs": [],
   "source": [
    "red_wine['color']=1.\n",
    "white_wine['color']=0.\n",
    "wine = pd.concat([red_wine, white_wine])\n",
    "wine.info()\n"
   ]
  },
  {
   "cell_type": "code",
   "execution_count": null,
   "metadata": {},
   "outputs": [],
   "source": [
    "fig = px.histogram(wine, x='quality', color='color')\n",
    "fig.show()"
   ]
  },
  {
   "cell_type": "code",
   "execution_count": null,
   "metadata": {},
   "outputs": [],
   "source": [
    "x = wine.drop(['color'], axis=1)\n",
    "y = wine['color']\n",
    "\n",
    "x_train, x_test, y_train, y_test = train_test_split(x, y, test_size=0.2, random_state=5)\n",
    "\n",
    "fig = go.Figure()\n",
    "fig.add_trace(go.Histogram(x=x_train['quality'], name='train'))\n",
    "fig.add_trace(go.Histogram(x=x_test['quality'], name='test'))\n",
    "\n",
    "fig.update_layout(barmode='overlay')\n",
    "fig.update_traces(opacity=0.75)\n",
    "fig.show()"
   ]
  },
  {
   "cell_type": "code",
   "execution_count": null,
   "metadata": {},
   "outputs": [],
   "source": [
    "wine_tree = DecisionTreeClassifier(max_depth=2, random_state=5)\n",
    "wine_tree.fit(x_train, y_train)"
   ]
  },
  {
   "cell_type": "code",
   "execution_count": null,
   "metadata": {},
   "outputs": [],
   "source": [
    "y_pred_tr = wine_tree.predict(x_train)\n",
    "y_pred_test = wine_tree.predict(x_test)\n",
    "print('Train Acc    : ', accuracy_score(y_train, y_pred_tr))\n",
    "print('Test Acc     : ', accuracy_score(y_test, y_pred_test))"
   ]
  },
  {
   "cell_type": "code",
   "execution_count": null,
   "metadata": {},
   "outputs": [],
   "source": [
    "MMS = MinMaxScaler()\n",
    "SS = StandardScaler()\n",
    "MMS.fit(x)\n",
    "SS.fit(x)\n",
    "x_mms = MMS.transform(x)\n",
    "x_ss = SS.transform(x)\n",
    "x_mms_pd = pd.DataFrame(x_mms, columns=x.columns)\n",
    "x_ss_pd = pd.DataFrame(x_ss, columns=x.columns)"
   ]
  },
  {
   "cell_type": "code",
   "execution_count": null,
   "metadata": {},
   "outputs": [],
   "source": [
    "fig = go.Figure()\n",
    "fig.add_trace(go.Box(y=x_mms_pd['fixed acidity'], name= 'fixed acidity'))\n",
    "fig.add_trace(go.Box(y=x_mms_pd['chlorides'], name= 'chlorides'))\n",
    "fig.add_trace(go.Box(y=x_mms_pd['quality'], name= 'quality'))\n",
    "fig.show()"
   ]
  },
  {
   "cell_type": "code",
   "execution_count": null,
   "metadata": {},
   "outputs": [],
   "source": [
    "fig = go.Figure()\n",
    "fig.add_trace(go.Box(y=x_ss_pd['fixed acidity'], name= 'fixed acidity'))\n",
    "fig.add_trace(go.Box(y=x_ss_pd['chlorides'], name= 'chlorides'))\n",
    "fig.add_trace(go.Box(y=x_ss_pd['quality'], name= 'quality'))\n",
    "fig.show()"
   ]
  },
  {
   "cell_type": "code",
   "execution_count": null,
   "metadata": {},
   "outputs": [],
   "source": [
    "x_train, x_test, y_train, y_test = train_test_split(x_mms_pd, y, test_size=0.2, random_state=5)\n",
    "wine_tree = DecisionTreeClassifier(max_depth=4, random_state=5)\n",
    "wine_tree.fit(x_train, y_train)\n",
    "y_pred_tr = wine_tree.predict(x_train)\n",
    "y_pred_test = wine_tree.predict(x_test)\n",
    "print('Train Acc    : ', accuracy_score(y_train, y_pred_tr))\n",
    "print('Test Acc     : ', accuracy_score(y_test, y_pred_test))"
   ]
  },
  {
   "cell_type": "code",
   "execution_count": null,
   "metadata": {},
   "outputs": [],
   "source": [
    "fig = plt.figure(figsize=(25,10))\n",
    "_ = tree.plot_tree(wine_tree, feature_names=x_train.columns, class_names =['white', 'red'], filled=True)"
   ]
  },
  {
   "cell_type": "code",
   "execution_count": null,
   "metadata": {},
   "outputs": [],
   "source": [
    "dict(zip(x_train.columns, wine_tree.feature_importances_))"
   ]
  },
  {
   "cell_type": "code",
   "execution_count": null,
   "metadata": {},
   "outputs": [],
   "source": [
    "wine['taste'] = [1. if grade > 5 else 0. for grade in wine['quality']]\n",
    "x = wine.drop(['taste', 'quality'], axis=1)\n",
    "y = wine['taste']\n",
    "x_train, x_test, y_train, y_test = train_test_split(x, y, test_size=0.2, random_state=5)\n",
    "wine_tree = DecisionTreeClassifier(max_depth=4, random_state=5)\n",
    "wine_tree.fit(x_train, y_train)\n",
    "y_pred_tr = wine_tree.predict(x_train)\n",
    "y_pred_test = wine_tree.predict(x_test)\n",
    "print('Train Acc    : ', accuracy_score(y_train, y_pred_tr))\n",
    "print('Test Acc     : ', accuracy_score(y_test, y_pred_test))"
   ]
  },
  {
   "cell_type": "code",
   "execution_count": null,
   "metadata": {},
   "outputs": [],
   "source": [
    "fig = plt.figure(figsize=(25,10))\n",
    "_ = tree.plot_tree(wine_tree, feature_names=x_train.columns, class_names =['soso', 'good'], filled=True)"
   ]
  },
  {
   "cell_type": "code",
   "execution_count": null,
   "metadata": {},
   "outputs": [],
   "source": []
  }
 ],
 "metadata": {
  "kernelspec": {
   "display_name": "openCV_venv",
   "language": "python",
   "name": "python3"
  },
  "language_info": {
   "codemirror_mode": {
    "name": "ipython",
    "version": 3
   },
   "file_extension": ".py",
   "mimetype": "text/x-python",
   "name": "python",
   "nbconvert_exporter": "python",
   "pygments_lexer": "ipython3",
   "version": "3.10.12"
  }
 },
 "nbformat": 4,
 "nbformat_minor": 2
}
