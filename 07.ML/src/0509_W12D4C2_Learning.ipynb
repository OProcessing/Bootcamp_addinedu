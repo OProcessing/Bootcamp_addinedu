{
 "cells": [
  {
   "cell_type": "code",
   "execution_count": null,
   "metadata": {},
   "outputs": [],
   "source": [
    "import numpy as np"
   ]
  },
  {
   "cell_type": "code",
   "execution_count": null,
   "metadata": {},
   "outputs": [],
   "source": [
    "X = np.array([[0,0,1],\n",
    "              [0,1,1],\n",
    "              [1,0,1],\n",
    "              [1,1,1],])\n",
    "\n",
    "D = np.array([[0],[0],[0],[1]])"
   ]
  },
  {
   "cell_type": "code",
   "execution_count": null,
   "metadata": {},
   "outputs": [],
   "source": [
    "def sigmoid(x) :\n",
    "    return 1 / (1 + np.exp(-x))\n",
    "def softmax(a) :\n",
    "    return np.exp(a) / np.sum(np.exp(a))\n",
    "def calc_output(W, x) :\n",
    "    v = np.matmul(W, x)\n",
    "    y = sigmoid(v)\n",
    "    return y\n",
    "def calc_error(d, y) :\n",
    "    e = d - y\n",
    "    delta = y*(1-y)*e\n",
    "    return delta\n",
    "def delta_GD(W, X, D, alpha) :\n",
    "    for k in range(4) :\n",
    "        x = X[k, :].T\n",
    "        d = D[k]\n",
    "\n",
    "        y = calc_output(W, x)\n",
    "        delta = calc_error(d, y)\n",
    "\n",
    "        dW = alpha*delta*x\n",
    "        W = W + dW\n",
    "\n",
    "    return W, delta"
   ]
  },
  {
   "cell_type": "code",
   "execution_count": null,
   "metadata": {},
   "outputs": [],
   "source": [
    "W = 2*np.random.random((1,3)) - 1\n",
    "alpha = 0.9\n",
    "\n",
    "hist_W = []\n",
    "hist_loss = []\n",
    "\n",
    "for epoch in range(1000) :\n",
    "    W, delta = delta_GD(W, X, D, alpha)\n",
    "    hist_loss.append(delta)\n",
    "    hist_W.append(W)\n",
    "\n",
    "    if epoch % 100 == 0 :\n",
    "        print(W)"
   ]
  },
  {
   "cell_type": "code",
   "execution_count": null,
   "metadata": {},
   "outputs": [],
   "source": [
    "import matplotlib.pyplot as plt\n",
    "\n",
    "plt.plot(hist_loss)\n",
    "plt.xlabel('epoch')\n",
    "plt.show()"
   ]
  },
  {
   "cell_type": "code",
   "execution_count": null,
   "metadata": {},
   "outputs": [],
   "source": [
    "plt.plot(np.array(hist_W).reshape(-1,3));"
   ]
  },
  {
   "cell_type": "code",
   "execution_count": null,
   "metadata": {},
   "outputs": [],
   "source": [
    "N = 3\n",
    "for k in range(N) :\n",
    "    x = X[k, :].T\n",
    "    y = calc_output(W, x)\n",
    "\n",
    "    print(y)"
   ]
  },
  {
   "cell_type": "code",
   "execution_count": null,
   "metadata": {},
   "outputs": [],
   "source": [
    "def calc_output(W1, W2, x) :\n",
    "    v1 = np.matmul(W1, x)\n",
    "    y1 = sigmoid(v1)\n",
    "    v = np.matmul(W2, y1)\n",
    "    y =  sigmoid(v)\n",
    "    return y, y1\n",
    "\n",
    "def calc_delta(d, y) :\n",
    "    e = d - y\n",
    "    delta = y*(1-y)*e\n",
    "    return delta\n",
    "\n",
    "def calc_delta1(W2, delta, y1) :\n",
    "    e1 = np.matmul(W2.T, delta)\n",
    "    delta1 = y*(1-y)*e1\n",
    "    return delta1"
   ]
  },
  {
   "cell_type": "code",
   "execution_count": null,
   "metadata": {},
   "outputs": [],
   "source": [
    "def backprop_XOR(W1, W2, X, D, alpha) :\n",
    "    for k in range(4) :\n",
    "        x = X[k, :].T\n",
    "        d = D[k]\n",
    "\n",
    "        y, y1 = calc_output(W1, W2, x)\n",
    "        delta = calc_delta(d, y)\n",
    "        delta1 = calc_delta1(W2, delta, y1)\n",
    "\n",
    "        dW1 = (alpha*delta1).reshape(4, 1) * x.reshape(1, 3)\n",
    "        W1 = W1 + dW1\n",
    "        dW2 = alpha * delta * y1\n",
    "        W2 = W2 + dW2\n",
    "    return W1, W2"
   ]
  },
  {
   "cell_type": "code",
   "execution_count": null,
   "metadata": {},
   "outputs": [],
   "source": [
    "X = np.array([[0,0,1],\n",
    "              [0,1,1],\n",
    "              [1,0,1],\n",
    "              [1,1,1],])\n",
    "\n",
    "D = np.array([[0],[1],[1],[0]])\n",
    "\n",
    "W1 = 2*np.random.random((4,3)) - 1\n",
    "W2 = 2*np.random.random((1,4)) - 1"
   ]
  },
  {
   "cell_type": "code",
   "execution_count": null,
   "metadata": {},
   "outputs": [],
   "source": [
    "alpha = 0.9\n",
    "for epoch in range(10000) :\n",
    "    W1, W2 = backprop_XOR(W1, W2, X, D, alpha)"
   ]
  },
  {
   "cell_type": "code",
   "execution_count": null,
   "metadata": {},
   "outputs": [],
   "source": [
    "N = 4\n",
    "for k in range(4) :\n",
    "    x = X[k, :].T\n",
    "    v1 = np.matmul(W1, x)\n",
    "    y1 = sigmoid(v1)\n",
    "    v = np.matmul(W2, y1)\n",
    "    y = sigmoid(v)\n",
    "    print(y)"
   ]
  },
  {
   "cell_type": "code",
   "execution_count": null,
   "metadata": {},
   "outputs": [],
   "source": []
  }
 ],
 "metadata": {
  "kernelspec": {
   "display_name": "openCV_venv",
   "language": "python",
   "name": "python3"
  },
  "language_info": {
   "codemirror_mode": {
    "name": "ipython",
    "version": 3
   },
   "file_extension": ".py",
   "mimetype": "text/x-python",
   "name": "python",
   "nbconvert_exporter": "python",
   "pygments_lexer": "ipython3",
   "version": "3.10.12"
  }
 },
 "nbformat": 4,
 "nbformat_minor": 2
}
