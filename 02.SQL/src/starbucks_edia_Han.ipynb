{
 "cells": [
  {
   "cell_type": "markdown",
   "metadata": {},
   "source": [
    "* * *\n",
    "#### 이디야커피 성장 비결, 스타벅스 따라다니기? \n",
    "    \" 카페 브랜드 후발주자로 나선 이디야커피는 사업 확장을 위해 슨타벅스 뒤를 쫓는 전략을 선택한다. \n",
    "      이디야 커피는 새로운 매장을 출점할 때마다 스타벅스 옆자리를 우선적으로 고려해 매장을 출점했다.\n",
    "      지금도 스타벅스 근처에서는 쉽게 이디야커피 매장을 찾아볼 수 있다. \" \n",
    "      (출처 : topdaily(https://www.topdaily.kr/articles/90068), 변정인 기자)\n",
    "* * *\n",
    "목차 \n",
    " 1. 초록\n",
    " 2. 카페의 좋은 입지조건\n",
    " 3. 마케팅 전략 비교 \n",
    " 4. 이디야는 \"진짜\" 스타벅스를 따라다녔을까\n",
    " 5. 결론 \n",
    " 6. 한계\n",
    "* * *"
   ]
  },
  {
   "cell_type": "markdown",
   "metadata": {},
   "source": [
    "1. 초록\n",
    "\n",
    "      이디야는 여러 사람들의 입에서 스타벅스를 따라다닌다는 소문에 싸여있다.\\\n",
    "    문창기 이디야 회장은 실제로 2021년 **_\"한국의 스타벅스로 키우겠다.\"_** 고 말했다.\\\n",
    "    지속되는 논란에 **_“매장이 많다보니 눈에 많이 띄고 자연스럽게 스타벅스 근처에서 보이는 것 같다”_** 라며 일축했다.\\\n",
    "    실제로 그러한지 확인해 보기 위해 카페를 창업하는 과정을 알아보고 이디야가 실제로 스타벅스 주변 위치에 자리했는지 면밀히 살펴본다.\\\n",
    "    (출처 : skydaily(https://www.skyedaily.com/news/news_view.html?ID=125356)) (출처 : 스페셜경제(https://www.speconomy.com))\n",
    "    \n",
    "      이디야와 스타벅스가 실제로 인접한 지역에 자리를 잡는지 데이터 시각화를 통해 지도에 전시하고 살펴보던 중 근본적인 의문을 갖게 되었다.\n",
    "    따라다닌다는 것이 무엇인가에 대한 궁금증과 인과관계에 대한 궁금증이다.\n",
    "    스타벅스가 가게를 내면 이디야가 따라가는 것일까 아니면 원래 좋았던 상권에 스타벅스가 먼저 자리를 잡은 것일까\n",
    "    그것도 아니면 이디야가 먼저 들어왔지만 사람들에게 따라다닌다고 오해를 받는 것일까\n",
    "    후자의 경우 스타벅스와 이디야의 개업에 대한 모든 정보는 알 수 없기 때문에 파악하지 못한다. 전자의 경우도 마찬가지다. \n",
    "    그렇다면 좋은 상권의 기준을 실제 카페 창업 과정을 통해 알아보며 이디야가 스타벅스를 따라간 것인지, 좋은 상권에 자리를 잡은 것인지 알아본다."
   ]
  },
  {
   "cell_type": "markdown",
   "metadata": {},
   "source": [
    "2. 카페의 좋은 입지조건\n",
    "\n",
    "      창업 플랫폼 '마이프차' 에 게재된 게시글 \"카페 열 때 미리 알았더라면 좋았을 것들\"을 통해 카페의 좋은 입지조건을 알아보도록 한다.\\\n",
    "    저자는 게시물에서 창업 이전에 커피 맛보다 상권분석이 중요하다고 강조한다.\n",
    "    \n",
    "        \" 카페는 입지가 절반을 차지합니다. 사실상 카페 창업의 첫 단추에 해당하지요. 여기엔 카페 콘셉트와 브랜딩, 창업 비용 등 다양한 주제가 얽힙니다.\\\n",
    "          “맛만 있다면 위치가 안 좋아도 손님이 바글바글한 것 아닌가요?” 이렇게 반문하는 분도 계실 거예요. 그러나 카페는 음식점과는 좀 다릅니다.\\\n",
    "          음식점은 말 그대로 ‘맛’이 가장 중요한 포인트예요. 반면 카페를 방문하는 손님들은 입지한 환경, 내부의 공간,\\\n",
    "          직원의 접대, 음료의 맛이 어우러지는 종합 경험을 기대하는 경우가 많죠. \" - 본문 중 발췌\n",
    "          \n",
    "      그렇다면 좋은 입지조건은 무엇일까, 저자는 스타벅스 근처에 자리를 잡는 등 이미 상권분석이 잘 된 지역에서 하는 것도 나쁘지 않은 방법이라고 소개한다.\\\n",
    "    가게의 타깃이 누군지 명확히 설정하라고 한다. 가게의 콘셉트에 따라 유동인구를 고려하며\\\n",
    "    직장인을 대상으로 할 지, 학생을 대상으로 하여 저가형 매장으로 포지셔닝 할 지 생각하라고 한다.\\\n",
    "    그렇다면 이미 대형 프랜차이즈로 성장한 스타벅스와 이디야는 이미 콘셉트와 타깃을 모두 정하고 있을 것이다.\\\n",
    "    따라서 스타벅스와 이디야의 마케팅 전략을 비교해본다.\n",
    "    "
   ]
  },
  {
   "cell_type": "code",
   "execution_count": null,
   "metadata": {},
   "outputs": [],
   "source": [
    "import pandas as pd\n",
    "import json\n",
    "import folium\n",
    "import numpy as np\n",
    "import re\n",
    "\n",
    "from selenium import webdriver\n",
    "from selenium.webdriver.chrome.service import Service\n",
    "from selenium.webdriver.common.by import By\n",
    "from selenium.webdriver.common.keys import Keys\n",
    "from bs4 import BeautifulSoup\n",
    "\n",
    "from tqdm.notebook import tqdm\n",
    "import mysql.connector\n",
    "\n",
    "from haversine import haversine\n",
    "import time\n",
    "\n",
    "from geopy.geocoders import Nominatim\n",
    "geo_local = Nominatim(user_agent='South Korea')\n",
    "def geocoding(address):\n",
    "    try:\n",
    "        geo = geo_local.geocode(address)\n",
    "        x_y = [geo.latitude, geo.longitude]\n",
    "        return x_y\n",
    "\n",
    "    except:\n",
    "        return [0,0]"
   ]
  },
  {
   "cell_type": "code",
   "execution_count": null,
   "metadata": {},
   "outputs": [],
   "source": [
    "starbucks_driver = webdriver.Chrome(service=Service(\"../driver/chromedriver\"))\n",
    "starbucks_driver.maximize_window()\n",
    "starbucks_driver.get(\"https://www.starbucks.co.kr/store/store_map.do\")\n",
    "starbucks_driver.implicitly_wait(1)\n",
    "starbucks_driver.find_element(By.CLASS_NAME,\"loca_search\").click()\n",
    "time.sleep(1)\n",
    "starbucks_driver.find_element(By.CLASS_NAME,\"set_sido_cd_btn\").click()\n",
    "time.sleep(1)\n",
    "starbucks_driver.find_element(By.CLASS_NAME,\"set_gugun_cd_btn\").click()\n",
    "time.sleep(1)\n",
    "starbucks_stores_box = starbucks_driver.find_element(By.CLASS_NAME,\"quickSearchResultBoxSidoGugun\")\n",
    "starbucks_stores = starbucks_stores_box.find_elements(By.CLASS_NAME,\"quickResultLstCon\")"
   ]
  },
  {
   "cell_type": "code",
   "execution_count": null,
   "metadata": {},
   "outputs": [],
   "source": [
    "starbucks_stores_info = []\n",
    "for each in starbucks_stores :\n",
    "    starbucks_store_info = [\n",
    "        each.get_attribute(\"data-name\"),\n",
    "        each.get_attribute(\"data-lat\"),\n",
    "        each.get_attribute(\"data-long\")\n",
    "    ]\n",
    "    starbucks_stores_info.append(starbucks_store_info)"
   ]
  },
  {
   "cell_type": "code",
   "execution_count": null,
   "metadata": {},
   "outputs": [],
   "source": [
    "starbucks = pd.DataFrame(starbucks_stores_info)\n",
    "starbucks"
   ]
  },
  {
   "cell_type": "code",
   "execution_count": null,
   "metadata": {},
   "outputs": [],
   "source": [
    "starbucks_driver.quit()"
   ]
  },
  {
   "cell_type": "code",
   "execution_count": null,
   "metadata": {},
   "outputs": [],
   "source": [
    "ediya_driver = webdriver.Chrome(service=Service(\"../driver/chromedriver\"))\n",
    "ediya_driver.maximize_window()\n",
    "ediya_driver.get(\"https://www.ediya.com/contents/find_store.html#c\")\n"
   ]
  },
  {
   "cell_type": "code",
   "execution_count": null,
   "metadata": {},
   "outputs": [],
   "source": [
    "gu_list = [\n",
    "    '강남구','강동구','강북구','강서구','관악구','광진구','구로구','금천구',\n",
    "    '노원구','도봉구','동대문구','동작구','마포구','서대문구','서초구','성동구',\n",
    "    '성북구','송파구','양천구','영등포구','용산구','은평구','종로구','중구','중랑구'\n",
    "    ]"
   ]
  },
  {
   "cell_type": "code",
   "execution_count": null,
   "metadata": {},
   "outputs": [],
   "source": [
    "ediya_stores = []\n",
    "\n",
    "for gu  in tqdm(gu_list) :\n",
    "\n",
    "    ediya_driver.find_element(By.XPATH,\"\"\"//*[@id=\"contentWrap\"]/div[3]/div/div[1]/ul/li[2]/a\"\"\").click()\n",
    "    time.sleep(1)\n",
    "    ediya_driver.find_element(By.ID,\"keyword\").send_keys(\"서울 \" + gu + Keys.ENTER)\n",
    "    time.sleep(1) \n",
    "\n",
    "    html = ediya_driver.page_source\n",
    "    soup = BeautifulSoup(html, 'html.parser')\n",
    "    ediya_store = soup.find_all(\"li\",\"item\")\n",
    "\n",
    "    for each in ediya_store :\n",
    "        ediya_store_info = [\n",
    "            re.search(\"\\w+ \", each.text).group()[:-1],\n",
    "            re.search(\"\\s\\w+[ \\S]*\", each.text).group()[1:].split(\"(\")[0],\n",
    "            ''\n",
    "        ]\n",
    "        \n",
    "        ediya_stores.append(ediya_store_info)"
   ]
  },
  {
   "cell_type": "code",
   "execution_count": null,
   "metadata": {},
   "outputs": [],
   "source": [
    "ediya_driver.quit()"
   ]
  },
  {
   "cell_type": "code",
   "execution_count": null,
   "metadata": {},
   "outputs": [],
   "source": [
    "for i in tqdm(range(len(ediya_stores))):\n",
    "    lat_lng = geocoding(ediya_stores[i][1])\n",
    "    ediya_stores[i][1] = lat_lng[0]\n",
    "    ediya_stores[i][2] = lat_lng[1]"
   ]
  },
  {
   "cell_type": "code",
   "execution_count": null,
   "metadata": {},
   "outputs": [],
   "source": [
    "ediya = pd.DataFrame(ediya_stores)\n",
    "ediya.head()"
   ]
  },
  {
   "cell_type": "code",
   "execution_count": null,
   "metadata": {},
   "outputs": [],
   "source": [
    "mapping = folium.Map(location=[37.53, 127], width=\"100%\", height=\"100%\", zoom_start=11.8)\n",
    "\n",
    "for idx, row in starbucks.iterrows():\n",
    "    folium.Circle(\n",
    "        location=[row[1], row[2]],\n",
    "        radius=300,\n",
    "        color='green',\n",
    "        fill=True,\n",
    "        fill_color='green'\n",
    "        ).add_to(mapping)\n",
    "    \n",
    "for idx, row in ediya.iterrows():\n",
    "    folium.Circle(\n",
    "        location=[row[1], row[2]],\n",
    "        radius=300,\n",
    "        color='blue',\n",
    "        fill=True,\n",
    "        fill_color='blue'\n",
    "        ).add_to(mapping)\n",
    "\n",
    "mapping"
   ]
  },
  {
   "cell_type": "markdown",
   "metadata": {},
   "source": [
    "\n",
    "3. 마케팅 전략 비교\n",
    "      \n",
    "        \" 이디야커피는 한때 저가 커피의 대명사였다. 2000년대 투썸플레이스, 할리스, 카페베네, 엔제리너스 등 \n",
    "        다른 토종 커피 브랜드들은 스타벅스에 맞서 프리미엄 커피 전문점 경쟁을 펼쳤다. \n",
    "          하지만 이디야는 소자본으로 창업할 수 있는 작은 매장, 경쟁 브랜드 대비 1000원 이상 싼 2000원 초반의 가격으로 또다른 시장을 공략했다.\n",
    "            (중략)\n",
    "          하지만 연이은 가격 인상과 더벤티 등 초저가 커피 브랜드의 등장으로 이디야커피는 어느덧 '저가 커피'라 부르기 어려운 브랜드가 됐다. \n",
    "          현재 이디야커피의 아메리카노 가격은 3200원. 저가커피의 대명사인 더벤티·메가커피(1500원)의 2배가 넘는다. \n",
    "          품질을 강조하는 것만으로는 따라잡기 어려운 가격 차다. 연간 수억 잔을 판매하는 편의점 커피도 이디야커피의 '가성비' 포지션을 차지했다. \"\n",
    "          ( 출처 : Bizwatch 김아름기자 https://news.bizwatch.co.kr/article/consumer/2022/08/23/0023 )\n",
    "\n",
    "      스타벅스는 프리미엄 커피, 지속적인 프리미엄 전략으로 '리저브' 매장을 늘려나가고 있으며,\\\n",
    "    이디야는 초창기 스타벅스와 대비되는 합리적인 가격으로 저가 커피 마케팅을 했으나\\\n",
    "    초저가 프랜차이즈(메가커피, 빽다방 등)의 진입으로 중가형 커피가 되었다.\\\n",
    "    스타벅스의 판매전략은 넓은 매장과 세련된 인테리어를 통한 공간판매이며,\\\n",
    "    이디야는 창업비용이 저렴하고 좁은 면적에서 창업하는 공간 판매와는 거리가 멀다."
   ]
  },
  {
   "cell_type": "code",
   "execution_count": null,
   "metadata": {},
   "outputs": [],
   "source": [
    "df = pd.read_csv(\"../data/서울특별시_강서구_카페_현황.csv\", encoding='cp949')\n",
    "# https://data.seoul.go.kr/dataList/OA-21797/F/1/datasetView.do"
   ]
  },
  {
   "cell_type": "code",
   "execution_count": null,
   "metadata": {},
   "outputs": [],
   "source": [
    "df.drop(columns='업종명', inplace=True)\n",
    "df.drop(columns='인허가일자', inplace=True)\n",
    "df.drop(columns='소재지도로명주소', inplace=True)\n",
    "df.drop(columns='소재지지번주소', inplace=True)\n",
    "df.drop(columns='건물외부면적', inplace=True)\n",
    "df.drop(columns='업소소재지전화', inplace=True)\n",
    "df.drop(columns='업태명', inplace=True)\n",
    "df.head()"
   ]
  },
  {
   "cell_type": "code",
   "execution_count": null,
   "metadata": {},
   "outputs": [],
   "source": [
    "remote = mysql.connector.Connect(\n",
    "    host = \"database-1.c96mmei8egml.ap-northeast-2.rds.amazonaws.com\",\n",
    "    port = \"3306\",\n",
    "    user = \"root\",\n",
    "    password = \" \",\n",
    "    database = \"amrbase\"\n",
    ")\n",
    "cursor = remote.cursor(buffered=True)"
   ]
  },
  {
   "cell_type": "code",
   "execution_count": null,
   "metadata": {},
   "outputs": [],
   "source": [
    "sql = \"CREATE TABLE gangseo ( name VARCHAR(32), building_inner float, building_outer float)\"\n",
    "cursor.execute(sql)\n",
    "remote.commit()"
   ]
  },
  {
   "cell_type": "code",
   "execution_count": null,
   "metadata": {},
   "outputs": [],
   "source": [
    "sql = \"INSERT INTO gangseo (%s, %s, %s)\"\n",
    "for i, row in df.iterrows():\n",
    "    cursor.execute(sql, tuple(row))\n",
    "    print(tuple(row))\n",
    "    remote.commit()"
   ]
  },
  {
   "cell_type": "code",
   "execution_count": null,
   "metadata": {},
   "outputs": [],
   "source": [
    "cursor.execute(\"UPDATE gangseo SET name = 'starbucks' where name like '%스타벅스%' \")\n",
    "result = cursor.fetchall()\n",
    "for row in result:\n",
    "    print(row)\n",
    "cursor.execute(\"UPDATE gangseo SET name = 'ediya' where name like '%이디야%' \")\n",
    "result = cursor.fetchall()\n",
    "for row in result:\n",
    "    print(row)"
   ]
  },
  {
   "cell_type": "code",
   "execution_count": null,
   "metadata": {},
   "outputs": [],
   "source": [
    "cursor.execute(\"SELECT * FROM gangseo \")\n",
    "result = cursor.fetchall()\n",
    "for row in result:\n",
    "    print(row)"
   ]
  },
  {
   "cell_type": "markdown",
   "metadata": {},
   "source": [
    "#### 실제로 열린데이터광장에서 제공하는 서울 강서구 카페 현황 데이터에 의하면 \n",
    "#### 이디야의 평균 면적은 80m^2가 안되며 스타벅스는 280m^2에 살짝 못 미친다."
   ]
  },
  {
   "cell_type": "code",
   "execution_count": null,
   "metadata": {},
   "outputs": [],
   "source": [
    "cursor.execute(\"SELECT name, AVG(building_inner) FROM gangseo GROUP BY name\")\n",
    "result = cursor.fetchall()\n",
    "for row in result:\n",
    "    print(row)"
   ]
  },
  {
   "cell_type": "markdown",
   "metadata": {},
   "source": [
    "\n",
    "4. 이디야는 \"진짜\" 스타벅스를 따라다녔을까\n",
    "\n",
    "\n",
    "      현재 서울의 이디야와 스타벅스의 위도 경도를 통한 위치 정보로 분석을 하고있다.\\\n",
    "    위도와 경도의 단위당 거리를 통해 이디야와 스타벅스 사이의 거리를 알아본다. \\\n",
    "    서울 기상센터 블로그에 의하면 위도 1도는 약 111.19km, 경도 1도는 약 88.8km라고 한다. \\\n",
    "    두 가게 사이의 거리가 300m를 넘는 경우 다른 상권으로 분석하여 \\\n",
    "    위도와 경도의 차이가 0.002이내인 경우의 정보만 분류하여 거리를 계산한다. \\\n",
    "    위도와 경도 모두 0.002의 차이를 갖고있다면 약 285m의 거리이다. \\\n",
    "      따라서 스타벅스와 이디야가 300m 이내 인접한 거리에 있는 가게를 표시해 확인해본다. "
   ]
  },
  {
   "cell_type": "code",
   "execution_count": null,
   "metadata": {},
   "outputs": [],
   "source": [
    "starbucks[1] = starbucks[1].astype(float)\n",
    "starbucks[2] = starbucks[2].astype(float)"
   ]
  },
  {
   "cell_type": "code",
   "execution_count": null,
   "metadata": {},
   "outputs": [],
   "source": [
    "distance = []\n",
    "\n",
    "for eidx, erow in tqdm(ediya.iterrows()):\n",
    "    tmp_e = (erow[1], erow[2])\n",
    "    \n",
    "    for sidx, srow in starbucks.iterrows():\n",
    "        tmp_s = (srow[1], srow[2])\n",
    "        if abs(tmp_s[0] - tmp_e[0]) < 0.002 and abs(tmp_s[1] - tmp_e[1]) < 0.002 :\n",
    "                dt = haversine(tmp_e, tmp_s)\n",
    "                each = [\n",
    "                     srow[0], \n",
    "                     erow[0], \n",
    "                     dt\n",
    "                ]\n",
    "                distance.append(each)\n",
    "        else:\n",
    "            continue\n",
    "    continue"
   ]
  },
  {
   "cell_type": "code",
   "execution_count": null,
   "metadata": {},
   "outputs": [],
   "source": [
    "distance = pd.DataFrame(distance)\n",
    "distance.sort_values(2, ascending=False).head()"
   ]
  },
  {
   "cell_type": "markdown",
   "metadata": {},
   "source": [
    "### 300m 이내에 다른 브랜드가 있는 이디야와 스타벅스의 매장을 지도에 전시해본다."
   ]
  },
  {
   "cell_type": "code",
   "execution_count": null,
   "metadata": {},
   "outputs": [],
   "source": [
    "mapping = folium.Map(location=[37.53, 127], width=\"100%\", height=\"100%\", zoom_start=11.8)\n",
    "\n",
    "namelist = []\n",
    "namelist = distance[0]\n",
    "\n",
    "for idx, row in starbucks.iterrows():\n",
    "    for name in namelist :\n",
    "        if row[0] == name :\n",
    "            folium.Circle(\n",
    "                location=[row[1], row[2]],\n",
    "                radius=300,\n",
    "                fill=True,\n",
    "                color='green',\n",
    "                fill_color='green'\n",
    "            ).add_to(mapping)\n",
    "    \n",
    "namelist = distance[1]\n",
    "for idx, row in ediya.iterrows():\n",
    "    for name in namelist :\n",
    "        if row[0] == name :\n",
    "            folium.Circle(\n",
    "                location=[row[1], row[2]],\n",
    "                radius=300,\n",
    "                fill=True,\n",
    "                color='blue',\n",
    "                fill_color='blue'\n",
    "            ).add_to(mapping)\n",
    "\n",
    "mapping\n"
   ]
  },
  {
   "cell_type": "markdown",
   "metadata": {},
   "source": [
    "### 꽤 많아 보이지만 이렇게 관찰하면 잘 보이지 않기 때문에 을지로를 확대해서 살펴본다.\n",
    "\n",
    "\n",
    "folium으로 볼 경우 Circle의 최소 크기가 정해져있어 지도를 축소하여 보면 잘못된 해석을 하는 경우가 있다.\\\n",
    "원의 반경은 m단위로 설정되므로 radius에 적절한 값을 넣고 지도를 확대해가며 확인해야한다."
   ]
  },
  {
   "cell_type": "code",
   "execution_count": null,
   "metadata": {},
   "outputs": [],
   "source": [
    "mapping = folium.Map(location=[37.565, 126.98], width=\"100%\", height=\"100%\", zoom_start=15.5)\n",
    "\n",
    "namelist = []\n",
    "namelist = distance[0]\n",
    "\n",
    "for idx, row in starbucks.iterrows():\n",
    "    for name in namelist :\n",
    "        if row[0] == name :\n",
    "            folium.CircleMarker(\n",
    "                location=[row[1], row[2]],\n",
    "                radius=20,\n",
    "                fill=True,\n",
    "                color='green',\n",
    "                fill_color='green',\n",
    "                tooltip=row[0]\n",
    "            ).add_to(mapping)\n",
    "    \n",
    "namelist = distance[1]\n",
    "for idx, row in ediya.iterrows():\n",
    "    for name in namelist :\n",
    "        if row[0] == name :\n",
    "            folium.CircleMarker(\n",
    "                location=[row[1], row[2]],\n",
    "                radius=20,\n",
    "                fill=True,\n",
    "                color='blue',\n",
    "                fill_color='blue',\n",
    "                tooltip=row[0]\n",
    "            ).add_to(mapping)\n",
    "\n",
    "mapping\n"
   ]
  },
  {
   "cell_type": "markdown",
   "metadata": {},
   "source": [
    "스타벅스 옆에 이디야가 들어서는 것이 아닌 스타벅스 옆에 스타벅스가 들어서는 모습이다.\\\n",
    "심지어 스타벅스는 같은 블럭 내에 다수의 지점이 있는 곳도 있다.\\\n",
    "그렇다면 반대로, 스타벅스와 이디야가 서로 인접하지 않은 가게는 얼마나 있을까."
   ]
  },
  {
   "cell_type": "code",
   "execution_count": null,
   "metadata": {},
   "outputs": [],
   "source": [
    "starbucks_far = []\n",
    "ediya_far = []\n",
    "\n",
    "namelist = distance[0].tolist()\n",
    "for row in starbucks[0] :\n",
    "    if row not in namelist :\n",
    "        starbucks_far.append(row)\n",
    "print(len(starbucks_far))\n",
    "        \n",
    "namelist = distance[1].tolist()\n",
    "for row in ediya[0] :\n",
    "    if row not in namelist :\n",
    "        ediya_far.append(row)\n",
    "print(len(ediya_far))"
   ]
  },
  {
   "cell_type": "markdown",
   "metadata": {},
   "source": [
    "\n",
    "#### 스타벅스 총 매장 613개, 이디야와 인접한 매장 243곳, 인접하지 않은 매장 370곳\n",
    "#### 이디야 총 매장 724개, 스타벅스와 인접한 매장 240곳, 인접하지 않은 매장 484곳\n",
    "\n",
    "카페 특성상 유동인구가 많은 곳에 밀집하는 것을 고려하면 240여개는 많은 숫자가 아니다.\\\n",
    "이디야가 스타벅스를 따라다니는가에 대한 질문이라면 오히려 적다고 볼 수 있다.\\\n",
    "그렇다면 이디야와 스타벅스가 인접하지 않은 매장은 지도에 표시해본다."
   ]
  },
  {
   "cell_type": "code",
   "execution_count": null,
   "metadata": {},
   "outputs": [],
   "source": [
    "mapping = folium.Map(location=[37.53, 127], width=\"100%\", height=\"100%\", zoom_start=11.8)\n",
    "\n",
    "\n",
    "\n",
    "namelist = distance[0].tolist()\n",
    "for row in starbucks[0] :\n",
    "    if row not in namelist :\n",
    "        starbucks_far.append(row)\n",
    "\n",
    "for idx, row in starbucks.iterrows():\n",
    "    for name in starbucks_far :\n",
    "        if row[0] == name :\n",
    "            folium.CircleMarker(\n",
    "                location=[row[1], row[2]],\n",
    "                radius=10,\n",
    "                fill=True,\n",
    "                color='green',\n",
    "                fill_color='green',\n",
    "                tooltip=row[0]\n",
    "            ).add_to(mapping)\n",
    "    \n",
    "namelist = distance[1].tolist()\n",
    "for row in ediya[0] :\n",
    "    if row not in namelist :\n",
    "        ediya_far.append(row)\n",
    "\n",
    "for idx, row in ediya.iterrows():\n",
    "    for name in ediya_far :\n",
    "        if row[0] == name :\n",
    "            folium.CircleMarker(\n",
    "                location=[row[1], row[2]],\n",
    "                radius=10,\n",
    "                fill=True,\n",
    "                color='blue',\n",
    "                fill_color='blue',\n",
    "                tooltip=row[0]\n",
    "            ).add_to(mapping)\n",
    "\n",
    "mapping"
   ]
  },
  {
   "cell_type": "markdown",
   "metadata": {},
   "source": [
    "\n",
    "\n",
    "5. 결론\n",
    "\n",
    "          이렇게 많은 매장은 스타벅스와 이디야가 인접하지 않는 가게들이다.\n",
    "        이디야와 스타벅스는 주 고객층이 다르며, 마케팅 전략 또한 다르다. \n",
    "        스타벅스에 자리가 없더라도 매장이 좁은 이디야로 가는 것은 좋지않은 선택으로 보인다.\n",
    "        따라서 본 분석에서는 이디야가 스타벅스를 따라다닌다고 해석하기 어려워보인다고 할 수 있다.\n",
    "\n",
    "        어디선가는 스타벅스와 이디야간의 거리 평균이 2km으로 서로 인접하다는 결론을 지었는데\n",
    "        인접함을 거리의 평균으로 구하는 것과 거리가 2km이어서 인접하다는 결론, 모두 옳지 않다.\n",
    "\n",
    "\n",
    "\n",
    "#### 인접하지 않은 두 브랜드의 색을 동일한 빨간색으로 변경하면 이렇게 보인다."
   ]
  },
  {
   "cell_type": "code",
   "execution_count": null,
   "metadata": {},
   "outputs": [],
   "source": [
    "mapping = folium.Map(location=[37.53, 127], width=\"100%\", height=\"100%\", zoom_start=11.8)\n",
    "\n",
    "\n",
    "\n",
    "namelist = distance[0].tolist()\n",
    "for row in starbucks[0] :\n",
    "    if row not in namelist :\n",
    "        starbucks_far.append(row)\n",
    "\n",
    "for idx, row in starbucks.iterrows():\n",
    "    for name in starbucks_far :\n",
    "        if row[0] == name :\n",
    "            folium.CircleMarker(\n",
    "                location=[row[1], row[2]],\n",
    "                radius=10,\n",
    "                fill=True,\n",
    "                color='red',\n",
    "                fill_color='red',\n",
    "                tooltip=row[0]\n",
    "            ).add_to(mapping)\n",
    "    \n",
    "namelist = distance[1].tolist()\n",
    "for row in ediya[0] :\n",
    "    if row not in namelist :\n",
    "        ediya_far.append(row)\n",
    "\n",
    "for idx, row in ediya.iterrows():\n",
    "    for name in ediya_far :\n",
    "        if row[0] == name :\n",
    "            folium.CircleMarker(\n",
    "                location=[row[1], row[2]],\n",
    "                radius=10,\n",
    "                fill=True,\n",
    "                color='red',\n",
    "                fill_color='red',\n",
    "                tooltip=row[0]\n",
    "            ).add_to(mapping)\n",
    "\n",
    "mapping"
   ]
  },
  {
   "cell_type": "markdown",
   "metadata": {},
   "source": [
    "\n",
    "6. 한계\n",
    "  \n",
    "          만 2일이 채 안되는 짧은 시간으로 인한 세분화된 데이터 분석은 할 수 없었다.\n",
    "        스타벅스와 이디야의 창업일에 대한 정보를 수집하지 않았고, 스타벅스와 이디야 중 누가 먼저 들어왔는지 알 수 없었으며\n",
    "        입점을 했다가 폐점한 가게에 대한 정보도 얻지 않았다.\n",
    "        두 카페의 다른 고객층에 대한 정보가 미비했고 상권별 유동인구에 대한 분석, 상가임대료, 권리금 등 자세한 정보를 알 수 없었다.\n",
    "        또한 좋은 상권에 대한 분석은 프랜차이즈에 따라 다르고 필자에게도 주관적으로 작용한다.\n",
    "        마케팅 전략이 다른 두 업체간 인근 상권 개업시 작용하는 작용에 대해서도 알 수 없었다.\n",
    "\n",
    "        향후 다른 저가형 프랜차이즈와 인접한 가게, 가게와의 거리를 구해보고\n",
    "        동 프랜차이즈간의 입점거리와 타 프랜차이즈와의 점포 거리를 비교하는 것도 좋은 분석이 될 것 같다.\n"
   ]
  }
 ],
 "metadata": {
  "kernelspec": {
   "display_name": "eda_venv",
   "language": "python",
   "name": "python3"
  },
  "language_info": {
   "codemirror_mode": {
    "name": "ipython",
    "version": 3
   },
   "file_extension": ".py",
   "mimetype": "text/x-python",
   "name": "python",
   "nbconvert_exporter": "python",
   "pygments_lexer": "ipython3",
   "version": "3.10.12"
  }
 },
 "nbformat": 4,
 "nbformat_minor": 2
}
