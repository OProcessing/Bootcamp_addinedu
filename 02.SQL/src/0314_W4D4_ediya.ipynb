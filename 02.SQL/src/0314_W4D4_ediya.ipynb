{
 "cells": [
  {
   "cell_type": "code",
   "execution_count": null,
   "metadata": {},
   "outputs": [],
   "source": [
    "import pandas as pd\n",
    "import json\n",
    "import folium\n",
    "import numpy as np\n",
    "import re\n",
    "\n",
    "from selenium import webdriver\n",
    "from selenium.webdriver.chrome.service import Service\n",
    "from selenium.webdriver.common.by import By\n",
    "from selenium.webdriver.common.keys import Keys\n",
    "from bs4 import BeautifulSoup\n",
    "\n",
    "from tqdm.notebook import tqdm\n",
    "\n",
    "import time\n",
    "\n",
    "from geopy.geocoders import Nominatim\n",
    "geo_local = Nominatim(user_agent='South Korea')\n",
    "def geocoding(address):\n",
    "    try:\n",
    "        geo = geo_local.geocode(address)\n",
    "        x_y = [geo.latitude, geo.longitude]\n",
    "        return x_y\n",
    "\n",
    "    except:\n",
    "        return [0,0]"
   ]
  },
  {
   "cell_type": "code",
   "execution_count": null,
   "metadata": {},
   "outputs": [],
   "source": [
    "ediya_driver = webdriver.Chrome(service=Service(\"../driver/chromedriver\"))\n",
    "ediya_driver.maximize_window()\n",
    "ediya_driver.get(\"https://www.ediya.com/contents/find_store.html#c\")\n"
   ]
  },
  {
   "cell_type": "code",
   "execution_count": null,
   "metadata": {},
   "outputs": [],
   "source": [
    "gu_list = [\n",
    "    '강남구','강동구','강북구','강서구','관악구','광진구','구로구','금천구',\n",
    "    '노원구','도봉구','동대문구','동작구','마포구','서대문구','서초구','성동구',\n",
    "    '성북구','송파구','양천구','영등포구','용산구','은평구','종로구','중구','중랑구'\n",
    "    ]"
   ]
  },
  {
   "cell_type": "code",
   "execution_count": null,
   "metadata": {},
   "outputs": [],
   "source": [
    "ediya_stores = []\n",
    "\n",
    "for gu  in tqdm(gu_list) :\n",
    "\n",
    "    ediya_driver.find_element(By.XPATH,\"\"\"//*[@id=\"contentWrap\"]/div[3]/div/div[1]/ul/li[2]/a\"\"\").click()\n",
    "    time.sleep(1)\n",
    "    ediya_driver.find_element(By.ID,\"keyword\").send_keys(\"서울 \" + gu + Keys.ENTER)\n",
    "    time.sleep(1) \n",
    "\n",
    "    html = ediya_driver.page_source\n",
    "    soup = BeautifulSoup(html, 'html.parser')\n",
    "    ediya_store = soup.find_all(\"li\",\"item\")\n",
    "\n",
    "    for each in ediya_store :\n",
    "        ediya_store_info = [\n",
    "            gu, #re.search(\"\\s\\w+[ \\S]*\", each.text).group().split()[1],\n",
    "            re.search(\"\\w+ \", each.text).group()[:-1],\n",
    "            re.search(\"\\s\\w+[ \\S]*\", each.text).group()[1:].split(\"(\")[0],\n",
    "            ''\n",
    "        ]\n",
    "        \n",
    "        ediya_stores.append(ediya_store_info)"
   ]
  },
  {
   "cell_type": "code",
   "execution_count": null,
   "metadata": {},
   "outputs": [],
   "source": [
    "for i in tqdm(range(len(ediya_stores))):\n",
    "    lat_lng = geocoding(ediya_stores[i][2])\n",
    "    ediya_stores[i][2] = lat_lng[0]\n",
    "    ediya_stores[i][3] = lat_lng[1]"
   ]
  },
  {
   "cell_type": "code",
   "execution_count": null,
   "metadata": {},
   "outputs": [],
   "source": [
    "ediya = pd.DataFrame(ediya_stores)\n",
    "ediya.head()"
   ]
  },
  {
   "cell_type": "code",
   "execution_count": null,
   "metadata": {},
   "outputs": [],
   "source": [
    "mapping = folium.Map(location=[37.53, 127], width=\"100%\", height=\"100%\", zoom_start=11.8)\n",
    "    \n",
    "for idx, row in ediya.iterrows():\n",
    "    folium.Circle(\n",
    "        location=[row[2], row[3]],\n",
    "        radius=100,\n",
    "        color='blue',\n",
    "        fill=True,\n",
    "        fill_color='blue'\n",
    "        ).add_to(mapping)\n",
    "\n",
    "mapping"
   ]
  },
  {
   "cell_type": "code",
   "execution_count": null,
   "metadata": {},
   "outputs": [],
   "source": []
  }
 ],
 "metadata": {
  "kernelspec": {
   "display_name": "eda_venv",
   "language": "python",
   "name": "python3"
  },
  "language_info": {
   "codemirror_mode": {
    "name": "ipython",
    "version": 3
   },
   "file_extension": ".py",
   "mimetype": "text/x-python",
   "name": "python",
   "nbconvert_exporter": "python",
   "pygments_lexer": "ipython3",
   "version": "3.10.12"
  }
 },
 "nbformat": 4,
 "nbformat_minor": 2
}
