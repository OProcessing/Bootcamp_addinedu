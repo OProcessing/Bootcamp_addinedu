{
 "cells": [
  {
   "cell_type": "code",
   "execution_count": null,
   "metadata": {},
   "outputs": [],
   "source": [
    "import mysql.connector\n",
    "import pandas as pd"
   ]
  },
  {
   "cell_type": "code",
   "execution_count": null,
   "metadata": {},
   "outputs": [],
   "source": [
    "mydb = mysql.connector.Connect(\n",
    "    host = \"localhost\",\n",
    "    user = \"root\",\n",
    "    password = \" \",\n",
    "    database = \"amrbase\"\n",
    ")"
   ]
  },
  {
   "cell_type": "code",
   "execution_count": null,
   "metadata": {},
   "outputs": [],
   "source": [
    "remote = mysql.connector.Connect(\n",
    "    host = \"\",\n",
    "    port = \"3306\",\n",
    "    user = \"root\",\n",
    "    password = \" \",\n",
    "    database = \"amrbase\"\n",
    ")"
   ]
  },
  {
   "cell_type": "code",
   "execution_count": null,
   "metadata": {},
   "outputs": [],
   "source": [
    "mycursor = mydb.cursor()\n",
    "mycursor.execute(\"DROP TABLE sql_file\")"
   ]
  },
  {
   "cell_type": "code",
   "execution_count": null,
   "metadata": {},
   "outputs": [],
   "source": [
    "cur = remote.cursor()\n",
    "sql = open(\"test03.sql\").read()\n",
    "cur.execute(sql)"
   ]
  },
  {
   "cell_type": "code",
   "execution_count": null,
   "metadata": {},
   "outputs": [],
   "source": [
    "cur = remote.cursor()\n",
    "sql = open(\"test04.sql\").read()\n",
    "for result_iterator in cur.execute(sql, multi=True):\n",
    "    if result_iterator.with_rows:\n",
    "        print(result_iterator.fetchall())\n",
    "    else:\n",
    "        print(result_iterator.statement)\n",
    "\n",
    "remote.commit()"
   ]
  },
  {
   "cell_type": "code",
   "execution_count": null,
   "metadata": {},
   "outputs": [],
   "source": [
    "cur = remote.cursor(buffered=True)\n",
    "cur.execute(\"SELECT * FROM sql_file\")\n",
    "result = cur.fetchall()\n",
    "for result_iterator in result:\n",
    "    print(result_iterator)\n",
    "\n",
    "df = pd.DataFrame(result)\n",
    "df.head()"
   ]
  },
  {
   "cell_type": "code",
   "execution_count": null,
   "metadata": {},
   "outputs": [],
   "source": [
    "df = pd.read_csv(\"../data/police_station.csv\")\n",
    "df.head()"
   ]
  },
  {
   "cell_type": "code",
   "execution_count": null,
   "metadata": {},
   "outputs": [],
   "source": [
    "conn = mysql.connector.Connect(\n",
    "    host = \"\",\n",
    "    port = \"3306\",\n",
    "    user = \"robot\",\n",
    "    password = \" \",\n",
    "    database = \"amrbase\"\n",
    ")"
   ]
  },
  {
   "cell_type": "code",
   "execution_count": null,
   "metadata": {},
   "outputs": [],
   "source": [
    "cursor = conn.cursor(buffered=True)\n",
    "sql = \"INSERT INTO police_station VALUES (%s, %s)\"\n",
    "for i, row in df.iterrows():\n",
    "    cursor.execute(sql, tuple(row))\n",
    "    print(tuple(row))\n",
    "    conn.commit()"
   ]
  },
  {
   "cell_type": "code",
   "execution_count": null,
   "metadata": {},
   "outputs": [],
   "source": [
    "\n",
    "cursor.execute(\"SELECT * FROM police_station\")\n",
    "result = cursor.fetchall()\n",
    "for row in result:\n",
    "    print(row)"
   ]
  },
  {
   "cell_type": "code",
   "execution_count": null,
   "metadata": {},
   "outputs": [],
   "source": [
    "df = pd.DataFrame(result)\n",
    "df.columns = ['이름', '주소']\n",
    "df.head()"
   ]
  },
  {
   "cell_type": "code",
   "execution_count": null,
   "metadata": {},
   "outputs": [],
   "source": [
    "df = pd.read_csv('../data/2020_crime.csv', encoding='euc-kr')\n",
    "df.head()"
   ]
  },
  {
   "cell_type": "code",
   "execution_count": null,
   "metadata": {},
   "outputs": [],
   "source": [
    "sql = \"\"\"INSERT INTO crime_status VALUES (\"2020\",%s,%s,%s,%s)\"\"\"\n",
    "cursor = conn.cursor(buffered=True)\n",
    "for i, row in df.iterrows():\n",
    "    cursor.execute(sql, tuple(row))\n",
    "    print(tuple(row))\n",
    "    conn.commit()"
   ]
  },
  {
   "cell_type": "code",
   "execution_count": null,
   "metadata": {},
   "outputs": [],
   "source": [
    "cursor.execute(\"SELECT * FROM crime_status\")\n",
    "result = cursor.fetchall()\n",
    "for row in result:\n",
    "    print(row)"
   ]
  },
  {
   "cell_type": "code",
   "execution_count": null,
   "metadata": {},
   "outputs": [],
   "source": [
    "df = pd.DataFrame(result)\n",
    "df.head()"
   ]
  },
  {
   "cell_type": "code",
   "execution_count": null,
   "metadata": {},
   "outputs": [],
   "source": []
  }
 ],
 "metadata": {
  "kernelspec": {
   "display_name": "eda_venv",
   "language": "python",
   "name": "python3"
  },
  "language_info": {
   "codemirror_mode": {
    "name": "ipython",
    "version": 3
   },
   "file_extension": ".py",
   "mimetype": "text/x-python",
   "name": "python",
   "nbconvert_exporter": "python",
   "pygments_lexer": "ipython3",
   "version": "3.10.12"
  }
 },
 "nbformat": 4,
 "nbformat_minor": 2
}
