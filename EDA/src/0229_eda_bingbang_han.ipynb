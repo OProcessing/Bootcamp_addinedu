{
 "cells": [
  {
   "cell_type": "markdown",
   "metadata": {
    "tags": [
     "parameters"
    ]
   },
   "source": [
    "### 빅뱅이론 데이터 수집 및 분석\n",
    "* 빅뱅이론(The BigBang Theory)을 검색하여\\\n",
    "    각 회차의 평점, 해당 시즌, 상영 일자를 조회하여 데이터를 분석하자.\n",
    "* URL을 사용하지 말고, Selenium을 사용한다.\n"
   ]
  },
  {
   "cell_type": "code",
   "execution_count": null,
   "metadata": {},
   "outputs": [],
   "source": [
    "import pandas as pd\n",
    "import numpy as np\n",
    "import time\n",
    "import re\n",
    "\n",
    "from selenium import webdriver\n",
    "from selenium.webdriver.chrome.service import Service\n",
    "from selenium.webdriver.common.by import By\n",
    "from selenium.webdriver.common.keys import Keys\n",
    "from selenium.webdriver.common.action_chains import ActionChains\n",
    "\n",
    "import seaborn as sns\n",
    "import matplotlib as mpl\n",
    "import matplotlib.pyplot as plt\n",
    "import koreanize_matplotlib\n",
    "\n",
    "from datetime import datetime\n",
    "from tqdm.notebook import tqdm\n",
    "import xlsxwriter\n"
   ]
  },
  {
   "cell_type": "code",
   "execution_count": null,
   "metadata": {},
   "outputs": [],
   "source": [
    "# convert dd/mm/yyyy to yyyy/mm/dd \n",
    "def convert_us_date_to_korean(date_str):\n",
    "    us_date = datetime.strptime(date_str, '%a, %b %d, %Y')\n",
    "    korean_date = us_date.strftime('%Y.%m.%d(%a)')\n",
    "    return korean_date"
   ]
  },
  {
   "cell_type": "code",
   "execution_count": null,
   "metadata": {},
   "outputs": [],
   "source": [
    "imdb = webdriver.Chrome(service=Service(\"../driver/chromedriver\"))\n",
    "imdb.maximize_window()\n",
    "imdb.get(\"https://www.imdb.com/\")\n",
    "\n",
    "actions = ActionChains(imdb)\n",
    "imdb.implicitly_wait(3)\n",
    "\n",
    "search_box = imdb.find_element(By.ID, \"suggestion-search\")\n",
    "search_box.send_keys(\"The Big Bang Theory\")\n",
    "search_box.send_keys(Keys.ENTER)\n",
    "imdb.find_element(By.CLASS_NAME,\"ipc-metadata-list-summary-item__t\").click()\n",
    "click = imdb.find_element(By.CLASS_NAME,\"sc-1371769f-1.cTKSOF.episode-guide-text\").click()"
   ]
  },
  {
   "cell_type": "code",
   "execution_count": null,
   "metadata": {},
   "outputs": [],
   "source": [
    "season_info_list = []\n",
    "episode_info_list = []\n",
    "season_class = [\"ipc-tabs.ipc-tabs--base.ipc-tabs--align-left.ipc-tabs--display-chip.ipc-tabs--inherit\",# season tab box\n",
    "                \"ipc-tab.ipc-tab-link.ipc-tab--on-base\",    # seasons\n",
    "                \"sc-f2169d65-4.kDAvos\"                      # episode info\n",
    "                ]\n",
    "info_class = [\"ipc-title__text\",                            # title\n",
    "              \"ipc-html-content-inner-div\",                 # content\n",
    "              \"sc-f2169d65-10.iZXnmI\",                      # release date\n",
    "              \"sc-e2dbc1a3-0.ajrIH.sc-282bae8e-3.bXuGWE\"]   # rating\n",
    "next_page_btn = \"ipc-icon.ipc-icon--chevron-right.ipc-btn__icon.ipc-btn__icon--post\" # right page btn\n",
    "\n",
    "head_pattern = r\"\\w\\d\\.\\w\\d\"\n",
    "rate_pattern = r\"\\((.*?)\\)\"\n",
    "\n",
    "season_box = imdb.find_element(By.CLASS_NAME,season_class[0])       # season tab box\n",
    "seasons = season_box.find_elements(By.CLASS_NAME,season_class[1])   # seasons\n",
    "\n",
    "for season in tqdm(seasons):\n",
    "    time.sleep(3)\n",
    "    episode_list = imdb.find_elements(By.CLASS_NAME,season_class[2])    # episodes\n",
    "\n",
    "    for episode in episode_list :\n",
    "        \n",
    "        title   = episode.find_element(By.CLASS_NAME,info_class[0]).text                    # head: season, episode, title\n",
    "        content = episode.find_element(By.CLASS_NAME,info_class[1]).text                    # content\n",
    "        date    = episode.find_element(By.CLASS_NAME,info_class[2]).text                    # aired date\n",
    "        review  = episode.find_element(By.CLASS_NAME,info_class[3]).text.split(sep=\"\\n\")    # review : ratings, votes\n",
    "        \n",
    "        if re.search(head_pattern, title) :         # data seperate\n",
    "            head = re.match(r\"S(\\d+).E(\\d+)\", title)\n",
    "            head_season = head.group(1)\n",
    "            head_episode = head.group(2)\n",
    "            title = title.split(sep=\" \", maxsplit=2)[2]\n",
    "        else :                                      # exception\n",
    "            head_season = 12\n",
    "            head_episode = 25\n",
    "        date = convert_us_date_to_korean(date)\n",
    "        rating  = review[0]; vote = re.search(rate_pattern, review[2]).group(1)\n",
    "\n",
    "        # merge\n",
    "        episode_info = [head_season, head_episode, title, rating, vote, date, content]\n",
    "        episode_info_list.append(episode_info)\n",
    "    season_info_list.append(episode_info_list)\n",
    "    \n",
    "    if season == seasons[-1] : continue         # exception\n",
    "\n",
    "    next_page = imdb.find_element(By.CLASS_NAME,next_page_btn)\n",
    "    actions.move_to_element(next_page).perform()\n",
    "    next_page.click()\n",
    "\n",
    "imdb.quit()"
   ]
  },
  {
   "cell_type": "code",
   "execution_count": null,
   "metadata": {},
   "outputs": [],
   "source": [
    "episode_data = pd.DataFrame(episode_info_list)\n",
    "episode_data.columns = [\"Sea\", \"Epi\", \"Title\", \"Rating\", \"Vote\", \"Date\", \"Content\"]\n",
    "episode_data[\"Sea\"] = episode_data[\"Sea\"].astype(int)\n",
    "episode_data[\"Epi\"] = episode_data[\"Epi\"].astype(int)\n",
    "episode_data[\"Rating\"] = episode_data[\"Rating\"].astype(float)\n",
    "episode_data[\"Vote\"] = episode_data[\"Vote\"].str.replace(\"K\", '').astype(float)\n",
    "episode_data.set_index(\"Sea\", inplace=True)\n",
    "episode_data_sorted = episode_data.sort_values(by=[\"Sea\", \"Epi\"], ascending=True)\n",
    "episode_data_sorted"
   ]
  },
  {
   "cell_type": "code",
   "execution_count": null,
   "metadata": {},
   "outputs": [],
   "source": [
    "writer = pd.ExcelWriter(\"../data/episode_data.xlsx\", engine='xlsxwriter')\n",
    "\n",
    "episode_data.to_excel(writer, sheet_name='Sheet1')\n",
    "worksheet = writer.sheets['Sheet1']\n",
    "\n",
    "centered_format = writer.book.add_format({'align': 'center', 'valign': 'vcenter'})\n",
    "\n",
    "worksheet.set_column('A:A',4,centered_format)\n",
    "worksheet.set_column('B:B',4,centered_format)\n",
    "worksheet.set_column('C:C',25,)\n",
    "worksheet.set_column('D:D',4,centered_format)\n",
    "worksheet.set_column('E:E',4,centered_format)\n",
    "worksheet.set_column('F:F',12,)\n",
    "\n",
    "writer.close()"
   ]
  },
  {
   "cell_type": "code",
   "execution_count": null,
   "metadata": {},
   "outputs": [],
   "source": [
    "plt.figure(figsize=(15,7))\n",
    "\n",
    "pivot = pd.pivot_table(data=episode_data, index=[\"Sea\"], columns=[\"Epi\"], values=[\"Rating\"])\n",
    "\n",
    "xticklabels = pivot.columns.get_level_values('Epi').unique().tolist()\n",
    "yticklabels = pivot.index.unique().tolist()\n",
    "\n",
    "sns.heatmap(pivot, annot=True, lw=.5, cmap='RdPu', cbar_kws={\"label\": \"Rating\"},\n",
    "            xticklabels=xticklabels, yticklabels=yticklabels)\n",
    "\n",
    "plt.xlabel('Episode')\n",
    "plt.ylabel('Season')\n",
    "plt.title('시즌별 에피소드 평점')\n",
    "plt.autoscale()\n",
    "plt.tight_layout(pad=5)\n",
    "plt.show()"
   ]
  },
  {
   "cell_type": "code",
   "execution_count": null,
   "metadata": {},
   "outputs": [],
   "source": [
    "plt.figure(figsize=(15,7))\n",
    "\n",
    "pivot = pd.pivot_table(data=episode_data, index=[\"Sea\"], columns=[\"Epi\"], values=[\"Vote\"])\n",
    "\n",
    "xticklabels = pivot.columns.get_level_values('Epi').unique().tolist()\n",
    "yticklabels = pivot.index.unique().tolist()\n",
    "\n",
    "sns.heatmap(pivot, annot=True, lw=.5, cmap='RdPu', cbar_kws={\"label\": \"Vote\"},\n",
    "            xticklabels=xticklabels, yticklabels=yticklabels)\n",
    "\n",
    "plt.xlabel('Episode')\n",
    "plt.ylabel('Season')\n",
    "plt.title('시즌별 에피소드 평점')\n",
    "plt.autoscale()\n",
    "plt.tight_layout(pad=5)\n",
    "plt.show()"
   ]
  },
  {
   "cell_type": "code",
   "execution_count": null,
   "metadata": {},
   "outputs": [],
   "source": []
  }
 ],
 "metadata": {
  "kernelspec": {
   "display_name": "eda_venv",
   "language": "python",
   "name": "python3"
  },
  "language_info": {
   "codemirror_mode": {
    "name": "ipython",
    "version": 3
   },
   "file_extension": ".py",
   "mimetype": "text/x-python",
   "name": "python",
   "nbconvert_exporter": "python",
   "pygments_lexer": "ipython3",
   "version": "3.10.12"
  }
 },
 "nbformat": 4,
 "nbformat_minor": 2
}
