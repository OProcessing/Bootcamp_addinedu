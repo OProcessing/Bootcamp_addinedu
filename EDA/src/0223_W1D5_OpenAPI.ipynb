{
 "cells": [
  {
   "cell_type": "code",
   "execution_count": null,
   "metadata": {},
   "outputs": [],
   "source": [
    "#-*- coding: utf-8 -*-\n",
    "import os\n",
    "import sys\n",
    "import urllib.request\n",
    "client_id = \"IOl6paNnk1XUsiy0zOCi\"\n",
    "client_secret = \"0dwDGAUj6W\"\n",
    "encText = urllib.parse.quote(\"하이닉스\")\n",
    "url = \"https://openapi.naver.com/v1/search/news?query=\" + encText\n",
    "request = urllib.request.Request(url)\n",
    "request.add_header(\"X-Naver-Client-Id\",client_id)\n",
    "request.add_header(\"X-Naver-Client-Secret\",client_secret)\n",
    "response = urllib.request.urlopen(request)\n",
    "rescode = response.getcode()\n",
    "if(rescode==200):\n",
    "    response_body = response.read()\n",
    "    print(response_body.decode('utf-8'))\n",
    "else:\n",
    "    print(\"Error Code:\" + rescode)"
   ]
  },
  {
   "cell_type": "code",
   "execution_count": null,
   "metadata": {},
   "outputs": [],
   "source": [
    "def gen_search_url(api_node, search_text, start_num, disp_num):\n",
    "    base = \"https://openapi.naver.com/v1/search\"\n",
    "    node = \"/\" + api_node + \".json\"\n",
    "    param_query = \"?query=\" + urllib.parse.quote(search_text)\n",
    "    param_start = \"&start=\" +str(start_num)\n",
    "    param_disp = \"&display=\" + str(disp_num)\n",
    "    return base+ node+param_query+param_start+param_disp\n"
   ]
  },
  {
   "cell_type": "code",
   "execution_count": null,
   "metadata": {},
   "outputs": [],
   "source": [
    "import json\n",
    "import datetime\n",
    "\n",
    "def get_result_onpage(url):\n",
    "    request = urllib.request.Request(url)\n",
    "    request.add_header(\"X-Naver-Client-Id\",client_id)\n",
    "    request.add_header(\"X-Naver-Client-Secret\",client_secret)\n",
    "    \n",
    "    response = urllib.request.urlopen(request)\n",
    "    print(\"[%s] Url Request Success\" % datetime.datetime.now())\n",
    "\n",
    "    return json.loads(response.read().decode('utf-8'))"
   ]
  },
  {
   "cell_type": "code",
   "execution_count": null,
   "metadata": {},
   "outputs": [],
   "source": [
    "client_id = \"IOl6paNnk1XUsiy0zOCi\"\n",
    "client_secret = \"0dwDGAUj6W\"\n",
    "\n",
    "url = gen_search_url('shop', '물', 1, 5)\n",
    "one_result = get_result_onpage(url)"
   ]
  },
  {
   "cell_type": "code",
   "execution_count": null,
   "metadata": {},
   "outputs": [],
   "source": [
    "one_result"
   ]
  },
  {
   "cell_type": "code",
   "execution_count": null,
   "metadata": {},
   "outputs": [],
   "source": [
    "import pandas as pd\n",
    "\n",
    "def get_fields(json_data):\n",
    "    title = []\n",
    "    link = []\n",
    "    lprice = []\n",
    "    hprice = []\n",
    "    mall_name = []\n",
    "    \n",
    "    for each in json_data['items']:\n",
    "        title.append(delete_tag(each['title']))\n",
    "        link.append(each['link'])\n",
    "        lprice.append(each['lprice'])\n",
    "        hprice.append(each['hprice'])\n",
    "        mall_name.append(each['mallName'])\n",
    "        \n",
    "    result_pd = pd.DataFrame({'title':title, 'lprice':lprice, 'hprice':hprice,'link':link, 'mall':mall_name},\n",
    "                             columns=['title', 'lprice', 'hprice', 'link', 'mall'])\n",
    "    return result_pd"
   ]
  },
  {
   "cell_type": "code",
   "execution_count": null,
   "metadata": {},
   "outputs": [],
   "source": [
    "def get_fields(json_data):\n",
    "    title = [delete_tag(each['title']) for each in json_data['items']]\n",
    "    link = [each['link'] for each in json_data['items']]\n",
    "    lprice = [each['lprice'] for each in json_data['items']]\n",
    "    hprice = [each['hprice'] for each in json_data['items']]\n",
    "    mall_name = [each['mallName'] for each in json_data['items']]\n",
    "        \n",
    "    result_pd = pd.DataFrame({'title':title, 'lprice':lprice, 'hprice':hprice,'link':link, 'mall':mall_name},\n",
    "                             columns=['title', 'lprice', 'hprice', 'link', 'mall'])\n",
    "    return result_pd"
   ]
  },
  {
   "cell_type": "code",
   "execution_count": null,
   "metadata": {},
   "outputs": [],
   "source": [
    "get_fields(one_result)"
   ]
  },
  {
   "cell_type": "code",
   "execution_count": null,
   "metadata": {},
   "outputs": [],
   "source": [
    "def delete_tag(input_str):\n",
    "    input_str = input_str.replace(\"<b>\", \"\")\n",
    "    input_str = input_str.replace(\"</b>\", \"\")\n",
    "\n",
    "    return input_str"
   ]
  },
  {
   "cell_type": "code",
   "execution_count": null,
   "metadata": {},
   "outputs": [],
   "source": [
    "result_mol = []\n",
    "for n in range(1,1000,100):\n",
    "    url = gen_search_url('shop', '\"물\"', n, 100)\n",
    "    json_reuslt = get_result_onpage(url)\n",
    "    pd_result = get_fields(json_reuslt)\n",
    "    result_mol.append(pd_result)\n",
    "result_mol=pd.concat(result_mol)"
   ]
  },
  {
   "cell_type": "code",
   "execution_count": null,
   "metadata": {},
   "outputs": [],
   "source": [
    "result_mol.info()"
   ]
  },
  {
   "cell_type": "code",
   "execution_count": null,
   "metadata": {},
   "outputs": [],
   "source": [
    "result_mol['lprice'] = result_mol['lprice'].astype('float')\n",
    "result_mol['hprice'] = pd.to_numeric(result_mol['hprice'], errors='coerce')\n",
    "result_mol.info()"
   ]
  },
  {
   "cell_type": "code",
   "execution_count": null,
   "metadata": {},
   "outputs": [],
   "source": [
    "writer = pd.ExcelWriter(\"../data/water_in_naver_shop.xlsx\", \n",
    "                        engine='xlsxwriter')\n",
    "result_mol.to_excel(writer, sheet_name='Sheet1')\n",
    "\n",
    "workbook = writer.book\n",
    "worksheet = writer.sheets['Sheet1']\n",
    "worksheet.set_column('A:A',4)\n",
    "worksheet.set_column('B:B',65)\n",
    "worksheet.set_column('C:C',10)\n",
    "worksheet.set_column('D:D',10)\n",
    "worksheet.set_column('E:E',50)\n",
    "worksheet.set_column('F:F',15)\n",
    "\n",
    "worksheet.conditional_format('C2:C1001', {'type': '3_color_scale'})\n",
    "\n",
    "writer.close()\n"
   ]
  },
  {
   "cell_type": "code",
   "execution_count": null,
   "metadata": {},
   "outputs": [],
   "source": [
    "result_mol.info()"
   ]
  },
  {
   "cell_type": "code",
   "execution_count": null,
   "metadata": {},
   "outputs": [],
   "source": []
  }
 ],
 "metadata": {
  "kernelspec": {
   "display_name": "eda_venv",
   "language": "python",
   "name": "python3"
  },
  "language_info": {
   "codemirror_mode": {
    "name": "ipython",
    "version": 3
   },
   "file_extension": ".py",
   "mimetype": "text/x-python",
   "name": "python",
   "nbconvert_exporter": "python",
   "pygments_lexer": "ipython3",
   "version": "3.10.12"
  }
 },
 "nbformat": 4,
 "nbformat_minor": 2
}
