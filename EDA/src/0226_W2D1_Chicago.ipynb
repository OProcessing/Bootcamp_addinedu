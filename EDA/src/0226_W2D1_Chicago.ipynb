{
 "cells": [
  {
   "cell_type": "code",
   "execution_count": null,
   "metadata": {},
   "outputs": [],
   "source": [
    "from bs4 import BeautifulSoup\n",
    "from urllib.request import urlopen\n",
    "import urllib \n",
    "from urllib.request import Request\n",
    "from user_agent import generate_user_agent\n",
    "import re\n",
    "from urllib.parse import urljoin\n",
    "import pandas as pd\n",
    "import folium"
   ]
  },
  {
   "cell_type": "code",
   "execution_count": null,
   "metadata": {},
   "outputs": [],
   "source": [
    "url = \"https://www.chicagomag.com/chicago-magazine/november-2012/best-sandwiches-chicago/\"\n",
    "req = Request(url=url, headers={'User-Agent':generate_user_agent()})\n",
    "page =urlopen(req)\n",
    "soup = BeautifulSoup(page, \"html.parser\")\n",
    "print(soup.prettify())"
   ]
  },
  {
   "cell_type": "code",
   "execution_count": null,
   "metadata": {},
   "outputs": [],
   "source": [
    "prefix = \"https://www.chicagomag.com/\"\n",
    "item = soup.find_all('div', 'sammy')[0]\n",
    "for item in soup.find_all('div','sammy'):\n",
    "    print(urljoin(prefix, item.find('a')['href']))"
   ]
  },
  {
   "cell_type": "code",
   "execution_count": null,
   "metadata": {},
   "outputs": [],
   "source": [
    "rank_list = []\n",
    "menu_list = []\n",
    "cafe_list = []\n",
    "link_list = []\n",
    "\n",
    "for item in soup.find_all('div','sammy'):\n",
    "    rank_list.append(item.find(class_='sammyRank').string)\n",
    "    text_list = re.split(('\\n'), item.find(class_=\"sammyListing\").get_text())\n",
    "    menu_list.append(text_list[0])\n",
    "    cafe_list.append(text_list[1])\n",
    "    link_list.append(urljoin(prefix, item.find('a')['href']))\n",
    "\n",
    "data = {'Rank':rank_list, 'Cafe':cafe_list, 'Menu':menu_list,'URL':link_list}\n",
    "df = pd.DataFrame(data)\n",
    "df.to_csv(\"../data/chicago_sanwichs.csv\", sep=\",\", encoding=\"utf-8\")\n",
    "df.head()"
   ]
  },
  {
   "cell_type": "code",
   "execution_count": null,
   "metadata": {},
   "outputs": [],
   "source": [
    "from tqdm import tqdm\n",
    "\n",
    "price_list = []\n",
    "address_list = []\n",
    "\n",
    "for idx, row in tqdm(df[:50].iterrows(), total=len(df.index)):\n",
    "    req = Request(url=row['URL'], headers={'User-Agent':generate_user_agent()})\n",
    "    page =urlopen(req)\n",
    "    soup = BeautifulSoup(page, \"html.parser\")\n",
    "\n",
    "    text = re.split('.,', soup.find('p','addy').get_text())[0]\n",
    "    price = re.search('\\$\\d+\\.(\\d+)?', text).group()\n",
    "    address = text[len(price) + 1:]\n",
    "    \n",
    "    price_list.append(price)\n",
    "    address_list.append(address)\n",
    "\n",
    "df['Price'] = price_list\n",
    "df['Address'] = address_list\n",
    "df.set_index('Rank', inplace=True)\n",
    "df.head()\n",
    "\n"
   ]
  },
  {
   "cell_type": "code",
   "execution_count": null,
   "metadata": {},
   "outputs": [],
   "source": [
    "df = df.loc[:, ['Cafe', 'Menu', 'Price', 'Address']]\n",
    "df.to_csv(\"../data/chicago_sandwiches_50.csv\", sep=\",\", encoding=\"utf-8\")\n",
    "df.head()"
   ]
  },
  {
   "cell_type": "code",
   "execution_count": null,
   "metadata": {},
   "outputs": [],
   "source": []
  },
  {
   "cell_type": "code",
   "execution_count": null,
   "metadata": {},
   "outputs": [],
   "source": []
  }
 ],
 "metadata": {
  "kernelspec": {
   "display_name": "eda_venv",
   "language": "python",
   "name": "python3"
  },
  "language_info": {
   "codemirror_mode": {
    "name": "ipython",
    "version": 3
   },
   "file_extension": ".py",
   "mimetype": "text/x-python",
   "name": "python",
   "nbconvert_exporter": "python",
   "pygments_lexer": "ipython3",
   "version": "3.10.12"
  }
 },
 "nbformat": 4,
 "nbformat_minor": 2
}
