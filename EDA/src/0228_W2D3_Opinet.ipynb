{
 "cells": [
  {
   "cell_type": "code",
   "execution_count": null,
   "metadata": {},
   "outputs": [],
   "source": [
    "import time\n",
    "import glob\n",
    "import os\n",
    "import pandas as pd\n",
    "from selenium import webdriver\n",
    "from selenium.webdriver.chrome.service import Service\n",
    "from selenium.webdriver.common.by import By\n",
    "from selenium.webdriver.common.keys import Keys\n",
    "from selenium.webdriver.common.action_chains import ActionChains\n",
    "from selenium.webdriver.support.wait import WebDriverWait\n",
    "from selenium.webdriver.support import expected_conditions as EC\n",
    "\n",
    "from matplotlib import pyplot as plt\n",
    "from matplotlib import image as mpimg\n",
    "\n",
    "from tqdm.notebook import tqdm\n",
    "import seaborn as sns\n",
    "import koreanize_matplotlib\n"
   ]
  },
  {
   "cell_type": "code",
   "execution_count": null,
   "metadata": {},
   "outputs": [],
   "source": [
    "options = webdriver.ChromeOptions()\n",
    "\n",
    "prefs = {'download.default_directory':'/home/han/Han_ws/eda/data/gas_station/',\n",
    "         'download.prompt_for_download':False}\n",
    "options.add_experimental_option('prefs', prefs)\n"
   ]
  },
  {
   "cell_type": "code",
   "execution_count": null,
   "metadata": {},
   "outputs": [],
   "source": [
    "\n",
    "url = \"https://www.opinet.co.kr/searRgSelect.do\"\n",
    "driver = webdriver.Chrome(service=Service(\"../driver/chromedriver\"), options=options)\n",
    "driver.get(url)"
   ]
  },
  {
   "cell_type": "code",
   "execution_count": null,
   "metadata": {},
   "outputs": [],
   "source": [
    "driver.quit()"
   ]
  },
  {
   "cell_type": "code",
   "execution_count": null,
   "metadata": {},
   "outputs": [],
   "source": [
    "sido = driver.find_element(By.ID, \"SIDO_NM0\")\n",
    "sido_list = sido.find_elements(By.TAG_NAME, \"option\")\n",
    "sido_names = [sido_name.get_attribute(\"value\") for sido_name in sido_list]\n",
    "sido_names = sido_names[1:]\n",
    "sido_names"
   ]
  },
  {
   "cell_type": "code",
   "execution_count": null,
   "metadata": {},
   "outputs": [],
   "source": [
    "gu = driver.find_element(By.ID, \"SIGUNGU_NM0\")\n",
    "gu_list = gu.find_elements(By.TAG_NAME,\"option\")\n",
    "gu_names = [gu_name.get_attribute(\"value\") for gu_name in gu_list]\n",
    "gu_names = gu_names[1:]\n",
    "gu.send_keys(gu_names[5])"
   ]
  },
  {
   "cell_type": "code",
   "execution_count": null,
   "metadata": {},
   "outputs": [],
   "source": [
    "gu_names"
   ]
  },
  {
   "cell_type": "code",
   "execution_count": null,
   "metadata": {},
   "outputs": [],
   "source": [
    "for gu_name in tqdm(gu_names):\n",
    "    gu = driver.find_element(By.ID, \"SIGUNGU_NM0\")\n",
    "    gu.send_keys(gu_name)\n",
    "\n",
    "    save = WebDriverWait(driver, timeout=30).until(EC.element_to_be_clickable((By.CLASS_NAME, \"btn_type6_ex_save\")))\n",
    "    ActionChains(driver).move_to_element(save).perform()\n",
    "    save.send_keys(Keys.ENTER)\n",
    "\n",
    "    driver.implicitly_wait(3)\n"
   ]
  },
  {
   "cell_type": "code",
   "execution_count": null,
   "metadata": {},
   "outputs": [],
   "source": [
    "len(glob.glob(\"../data/gas_station/지역_*\"))"
   ]
  },
  {
   "cell_type": "code",
   "execution_count": null,
   "metadata": {},
   "outputs": [],
   "source": [
    "driver.quit()"
   ]
  },
  {
   "cell_type": "code",
   "execution_count": null,
   "metadata": {},
   "outputs": [],
   "source": [
    "import pandas as pd\n",
    "\n",
    "file_list=glob.glob(\"../data/gas_station/지역_*\")\n",
    "data = pd.read_excel(file_list[0], header=2)\n",
    "\n",
    "data_list = []\n",
    "for file in file_list:\n",
    "    data = pd.read_excel(file, header=2)\n",
    "    data_list.append(data)\n",
    "\n",
    "oil_data = pd.concat(data_list)\n",
    "oil_data = pd.DataFrame({\"상호\": oil_data[\"상호\"],\n",
    "                         \"주소\": oil_data[\"주소\"],\n",
    "                         \"가격\": oil_data[\"휘발유\"],\n",
    "                         \"셀프\": oil_data[\"셀프여부\"],\n",
    "                         \"상표\": oil_data[\"상표\"]\n",
    "                         })\n",
    "oil_data.reset_index(drop=True, inplace=True)\n",
    "oil_data[\"구\"] = [address.split()[1] for address in oil_data[\"주소\"]]\n",
    "oil_data = oil_data[oil_data[\"가격\"] != \"-\"]\n",
    "oil_data[\"가격\"] = oil_data[\"가격\"].astype(\"float\")\n",
    "oil_data.reset_index(drop=True, inplace=True)\n"
   ]
  },
  {
   "cell_type": "code",
   "execution_count": null,
   "metadata": {},
   "outputs": [],
   "source": [
    "oil_data.boxplot(column=\"가격\", by=\"셀프\", figsize=(12,8));"
   ]
  },
  {
   "cell_type": "code",
   "execution_count": null,
   "metadata": {},
   "outputs": [],
   "source": [
    "\n",
    "\n",
    "price_data = oil_data[oil_data[\"셀프\"] == \"Y\"]\n",
    "price_data = price_data[\"가격\"]\n",
    "price_data.median()\n",
    "\n",
    "\n",
    "oil_data.boxplot.text([\"Y\"],\n",
    "              price_data,\n",
    "              price_data,\n",
    "              fontsize=15)\n",
    "        "
   ]
  },
  {
   "cell_type": "code",
   "execution_count": 12,
   "metadata": {},
   "outputs": [
    {
     "data": {
      "text/html": [
       "<div>\n",
       "<style scoped>\n",
       "    .dataframe tbody tr th:only-of-type {\n",
       "        vertical-align: middle;\n",
       "    }\n",
       "\n",
       "    .dataframe tbody tr th {\n",
       "        vertical-align: top;\n",
       "    }\n",
       "\n",
       "    .dataframe thead th {\n",
       "        text-align: right;\n",
       "    }\n",
       "</style>\n",
       "<table border=\"1\" class=\"dataframe\">\n",
       "  <thead>\n",
       "    <tr style=\"text-align: right;\">\n",
       "      <th></th>\n",
       "      <th>상호</th>\n",
       "      <th>주소</th>\n",
       "      <th>가격</th>\n",
       "      <th>셀프</th>\n",
       "      <th>상표</th>\n",
       "      <th>구</th>\n",
       "    </tr>\n",
       "  </thead>\n",
       "  <tbody>\n",
       "    <tr>\n",
       "      <th>0</th>\n",
       "      <td>HD현대오일뱅크㈜직영 한남동주유소</td>\n",
       "      <td>서울 용산구 한남대로 204 (한남동)</td>\n",
       "      <td>1869.0</td>\n",
       "      <td>N</td>\n",
       "      <td>HD현대오일뱅크</td>\n",
       "      <td>용산구</td>\n",
       "    </tr>\n",
       "    <tr>\n",
       "      <th>1</th>\n",
       "      <td>(주)영원 풍기주유소</td>\n",
       "      <td>서울 용산구 원효로 178 (원효로2가)</td>\n",
       "      <td>2020.0</td>\n",
       "      <td>N</td>\n",
       "      <td>GS칼텍스</td>\n",
       "      <td>용산구</td>\n",
       "    </tr>\n",
       "    <tr>\n",
       "      <th>2</th>\n",
       "      <td>HD현대오일뱅크㈜직영 갈월동주유소</td>\n",
       "      <td>서울특별시 용산구  한강대로 322 (남영동)</td>\n",
       "      <td>2120.0</td>\n",
       "      <td>N</td>\n",
       "      <td>HD현대오일뱅크</td>\n",
       "      <td>용산구</td>\n",
       "    </tr>\n",
       "    <tr>\n",
       "      <th>3</th>\n",
       "      <td>동자동주유소</td>\n",
       "      <td>서울 용산구 한강대로104길 6 (동자동)</td>\n",
       "      <td>2120.0</td>\n",
       "      <td>N</td>\n",
       "      <td>SK에너지</td>\n",
       "      <td>용산구</td>\n",
       "    </tr>\n",
       "    <tr>\n",
       "      <th>4</th>\n",
       "      <td>HD현대오일뱅크(주)직영 소월길주유소</td>\n",
       "      <td>서울 용산구 소월로 66 (후암동)</td>\n",
       "      <td>2124.0</td>\n",
       "      <td>N</td>\n",
       "      <td>HD현대오일뱅크</td>\n",
       "      <td>용산구</td>\n",
       "    </tr>\n",
       "    <tr>\n",
       "      <th>...</th>\n",
       "      <td>...</td>\n",
       "      <td>...</td>\n",
       "      <td>...</td>\n",
       "      <td>...</td>\n",
       "      <td>...</td>\n",
       "      <td>...</td>\n",
       "    </tr>\n",
       "    <tr>\n",
       "      <th>432</th>\n",
       "      <td>국회대로주유소</td>\n",
       "      <td>서울 영등포구 국회대로 746 (여의도동)</td>\n",
       "      <td>1975.0</td>\n",
       "      <td>N</td>\n",
       "      <td>HD현대오일뱅크</td>\n",
       "      <td>영등포구</td>\n",
       "    </tr>\n",
       "    <tr>\n",
       "      <th>433</th>\n",
       "      <td>성원이앤에스(주)영등포지점</td>\n",
       "      <td>서울 영등포구 국회대로52길 9-13 (영등포동7가)</td>\n",
       "      <td>1985.0</td>\n",
       "      <td>N</td>\n",
       "      <td>GS칼텍스</td>\n",
       "      <td>영등포구</td>\n",
       "    </tr>\n",
       "    <tr>\n",
       "      <th>434</th>\n",
       "      <td>버드나룻길주유소</td>\n",
       "      <td>서울 영등포구 버드나루로 111 (당산동)</td>\n",
       "      <td>2065.0</td>\n",
       "      <td>N</td>\n",
       "      <td>SK에너지</td>\n",
       "      <td>영등포구</td>\n",
       "    </tr>\n",
       "    <tr>\n",
       "      <th>435</th>\n",
       "      <td>SK KH에너지 여의도주유소</td>\n",
       "      <td>서울 영등포구 국회대로 794 (여의도동)</td>\n",
       "      <td>2195.0</td>\n",
       "      <td>N</td>\n",
       "      <td>SK에너지</td>\n",
       "      <td>영등포구</td>\n",
       "    </tr>\n",
       "    <tr>\n",
       "      <th>436</th>\n",
       "      <td>SJ오일(주) 여의도주유소</td>\n",
       "      <td>서울 영등포구 은행로 64</td>\n",
       "      <td>2295.0</td>\n",
       "      <td>N</td>\n",
       "      <td>GS칼텍스</td>\n",
       "      <td>영등포구</td>\n",
       "    </tr>\n",
       "  </tbody>\n",
       "</table>\n",
       "<p>437 rows × 6 columns</p>\n",
       "</div>"
      ],
      "text/plain": [
       "                       상호                             주소      가격 셀프        상표  \\\n",
       "0      HD현대오일뱅크㈜직영 한남동주유소          서울 용산구 한남대로 204 (한남동)  1869.0  N  HD현대오일뱅크   \n",
       "1             (주)영원 풍기주유소         서울 용산구 원효로 178 (원효로2가)  2020.0  N     GS칼텍스   \n",
       "2      HD현대오일뱅크㈜직영 갈월동주유소      서울특별시 용산구  한강대로 322 (남영동)  2120.0  N  HD현대오일뱅크   \n",
       "3                  동자동주유소        서울 용산구 한강대로104길 6 (동자동)  2120.0  N     SK에너지   \n",
       "4    HD현대오일뱅크(주)직영 소월길주유소            서울 용산구 소월로 66 (후암동)  2124.0  N  HD현대오일뱅크   \n",
       "..                    ...                            ...     ... ..       ...   \n",
       "432               국회대로주유소        서울 영등포구 국회대로 746 (여의도동)  1975.0  N  HD현대오일뱅크   \n",
       "433        성원이앤에스(주)영등포지점  서울 영등포구 국회대로52길 9-13 (영등포동7가)  1985.0  N     GS칼텍스   \n",
       "434              버드나룻길주유소        서울 영등포구 버드나루로 111 (당산동)  2065.0  N     SK에너지   \n",
       "435       SK KH에너지 여의도주유소        서울 영등포구 국회대로 794 (여의도동)  2195.0  N     SK에너지   \n",
       "436        SJ오일(주) 여의도주유소                 서울 영등포구 은행로 64  2295.0  N     GS칼텍스   \n",
       "\n",
       "        구  \n",
       "0     용산구  \n",
       "1     용산구  \n",
       "2     용산구  \n",
       "3     용산구  \n",
       "4     용산구  \n",
       "..    ...  \n",
       "432  영등포구  \n",
       "433  영등포구  \n",
       "434  영등포구  \n",
       "435  영등포구  \n",
       "436  영등포구  \n",
       "\n",
       "[437 rows x 6 columns]"
      ]
     },
     "execution_count": 12,
     "metadata": {},
     "output_type": "execute_result"
    }
   ],
   "source": [
    "oil_data"
   ]
  },
  {
   "cell_type": "code",
   "execution_count": null,
   "metadata": {},
   "outputs": [],
   "source": []
  }
 ],
 "metadata": {
  "kernelspec": {
   "display_name": "eda_venv",
   "language": "python",
   "name": "python3"
  },
  "language_info": {
   "codemirror_mode": {
    "name": "ipython",
    "version": 3
   },
   "file_extension": ".py",
   "mimetype": "text/x-python",
   "name": "python",
   "nbconvert_exporter": "python",
   "pygments_lexer": "ipython3",
   "version": "3.10.12"
  }
 },
 "nbformat": 4,
 "nbformat_minor": 2
}
