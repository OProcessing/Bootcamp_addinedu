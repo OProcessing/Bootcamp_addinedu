{
 "cells": [
  {
   "cell_type": "code",
   "execution_count": null,
   "id": "8a30bce0-1e33-4a99-ad04-9a89b00b1c2f",
   "metadata": {},
   "outputs": [],
   "source": [
    "import pandas as pd"
   ]
  },
  {
   "cell_type": "code",
   "execution_count": null,
   "id": "8dfd1762",
   "metadata": {},
   "outputs": [],
   "source": [
    "cctv_seoul = pd.read_csv(\"../data/01. Seoul_CCTV.csv\", encoding='cp949', index_col=0)\n",
    "cctv_seoul.head()"
   ]
  },
  {
   "cell_type": "code",
   "execution_count": null,
   "id": "f53b27be",
   "metadata": {},
   "outputs": [],
   "source": [
    "cctv_seoul.reset_index(drop=True, inplace=True)\n",
    "cctv_seoul.head()"
   ]
  },
  {
   "cell_type": "code",
   "execution_count": null,
   "id": "c063b51b",
   "metadata": {},
   "outputs": [],
   "source": [
    "\n",
    "cctv_seoul.drop([0], inplace=True)\n",
    "cctv_seoul.head()"
   ]
  },
  {
   "cell_type": "code",
   "execution_count": null,
   "id": "185c54d1",
   "metadata": {},
   "outputs": [],
   "source": [
    "cctv_seoul.reset_index(drop=True, inplace=True)\n",
    "cctv_seoul.head()"
   ]
  },
  {
   "cell_type": "code",
   "execution_count": null,
   "id": "bf7c2f48",
   "metadata": {},
   "outputs": [],
   "source": [
    "cctv_seoul.columns"
   ]
  },
  {
   "cell_type": "code",
   "execution_count": null,
   "id": "51c34a96",
   "metadata": {},
   "outputs": [],
   "source": [
    "cctv_seoul.columns[2]"
   ]
  },
  {
   "cell_type": "code",
   "execution_count": null,
   "id": "2c1323df",
   "metadata": {},
   "outputs": [],
   "source": [
    "cctv_seoul.rename(columns={cctv_seoul.columns[0]:\"구별\"}, inplace=True)\n",
    "cctv_seoul.head()"
   ]
  },
  {
   "cell_type": "code",
   "execution_count": null,
   "id": "7fd5b894",
   "metadata": {},
   "outputs": [],
   "source": [
    "pop_seoul = pd.read_excel(\"../data/01. Seoul_Population.xlsx\")\n",
    "pop_seoul.head()"
   ]
  },
  {
   "cell_type": "code",
   "execution_count": null,
   "id": "c4b6f1fa",
   "metadata": {},
   "outputs": [],
   "source": [
    "pop_seoul = pd.read_excel(\"../data/01. Seoul_Population.xlsx\", header = 2, usecols=\"B,D,G,J,N\")\n",
    "pop_seoul.head()"
   ]
  },
  {
   "cell_type": "code",
   "execution_count": null,
   "id": "d8387a12",
   "metadata": {},
   "outputs": [],
   "source": [
    "pop_seoul.rename(columns={pop_seoul.columns[0]:\"구별\",\n",
    "                          pop_seoul.columns[1]:\"인구수\",\n",
    "                          pop_seoul.columns[2]:\"한국인\",\n",
    "                          pop_seoul.columns[3]:\"외국인\",\n",
    "                          pop_seoul.columns[4]:\"고령자\"},\n",
    "                 inplace=True)\n",
    "pop_seoul.head()"
   ]
  },
  {
   "cell_type": "code",
   "execution_count": null,
   "id": "56a8fa40",
   "metadata": {},
   "outputs": [],
   "source": [
    "cctv_seoul.head()"
   ]
  },
  {
   "cell_type": "code",
   "execution_count": null,
   "id": "0bc2d494",
   "metadata": {},
   "outputs": [],
   "source": [
    "cctv_seoul.sort_values(by=\"총계\", ascending=True).head()"
   ]
  },
  {
   "cell_type": "code",
   "execution_count": null,
   "id": "212d6ac1",
   "metadata": {},
   "outputs": [],
   "source": [
    "cctv_seoul.iloc[:, 2:10].dtypes"
   ]
  },
  {
   "cell_type": "code",
   "execution_count": null,
   "id": "41631630",
   "metadata": {},
   "outputs": [],
   "source": [
    "cctv_seoul['총계'] = cctv_seoul.총계.str.replace(',','')\n",
    "cctv_seoul.head()"
   ]
  },
  {
   "cell_type": "code",
   "execution_count": null,
   "id": "1dc27334",
   "metadata": {},
   "outputs": [],
   "source": [
    "convert_col_name = ['2014년 이전', '2014년', '2015년', '2016년', '2017년', '2018년', '2019년', '2020년','2021년','2022년','2023년']\n",
    "\n",
    "for name in convert_col_name :\n",
    "    cctv_seoul[name] = cctv_seoul[name].str.replace(',','')\n",
    "\n",
    "cctv_seoul.head()"
   ]
  },
  {
   "cell_type": "code",
   "execution_count": null,
   "id": "6ab148c8",
   "metadata": {},
   "outputs": [],
   "source": [
    "cctv_seoul = cctv_seoul.fillna(0)"
   ]
  },
  {
   "cell_type": "code",
   "execution_count": null,
   "id": "3427d3a1",
   "metadata": {},
   "outputs": [],
   "source": [
    "cctv_seoul = cctv_seoul.astype(dtype={'총계':'int',\n",
    "                                      '2014년 이전':'int',\n",
    "                                      '2014년':'int',\n",
    "                                      '2015년':'int',\n",
    "                                      '2016년':'int',\n",
    "                                      '2017년':'int',\n",
    "                                      '2018년':'int',\n",
    "                                      '2019년':'int',\n",
    "                                      '2020년':'int',\n",
    "                                      '2021년':'int',\n",
    "                                      '2022년':'int',\n",
    "                                      '2023년':'int'},\n",
    "                                errors='raise',\n",
    "                                copy=True)\n",
    "cctv_seoul.dtypes"
   ]
  },
  {
   "cell_type": "code",
   "execution_count": null,
   "id": "ee9d250e",
   "metadata": {},
   "outputs": [],
   "source": [
    "cctv_seoul['2020년 이전'] = cctv_seoul.iloc[:,2:10].sum(axis=1)\n",
    "cctv_seoul['2020년 이후'] = cctv_seoul.iloc[:,10:13].sum(axis=1)"
   ]
  },
  {
   "cell_type": "code",
   "execution_count": null,
   "id": "0ebb1f02",
   "metadata": {},
   "outputs": [],
   "source": [
    "cctv_seoul['최근증가율'] = (\n",
    "    (cctv_seoul['2023년'] + cctv_seoul['2022년'] + cctv_seoul['2021년'])\n",
    "    / cctv_seoul[\"2020년 이전\"] * 100\n",
    ")\n",
    "\n",
    "cctv_seoul.sort_values(by='최근증가율', ascending=True).head()"
   ]
  },
  {
   "cell_type": "code",
   "execution_count": null,
   "id": "edef04ac",
   "metadata": {},
   "outputs": [],
   "source": [
    "pop_seoul.head()"
   ]
  },
  {
   "cell_type": "code",
   "execution_count": null,
   "id": "fadec0aa",
   "metadata": {},
   "outputs": [],
   "source": [
    "pop_seoul.drop([0], inplace=True)\n",
    "pop_seoul.head()"
   ]
  },
  {
   "cell_type": "code",
   "execution_count": null,
   "id": "2e8b8705",
   "metadata": {},
   "outputs": [],
   "source": [
    "pop_seoul['구별'].unique()"
   ]
  },
  {
   "cell_type": "code",
   "execution_count": null,
   "id": "b2330b50",
   "metadata": {},
   "outputs": [],
   "source": [
    "pop_seoul[\"외국인비율\"] = pop_seoul[\"외국인\"] / pop_seoul[\"인구수\"] * 100\n",
    "pop_seoul[\"고령자비율\"] = pop_seoul[\"고령자\"] / pop_seoul[\"인구수\"] * 100"
   ]
  },
  {
   "cell_type": "code",
   "execution_count": null,
   "id": "53a87252",
   "metadata": {},
   "outputs": [],
   "source": [
    "pop_seoul.sort_values(by=\"고령자비율\", ascending=False).head()"
   ]
  },
  {
   "cell_type": "code",
   "execution_count": null,
   "id": "2ee898f5",
   "metadata": {},
   "outputs": [],
   "source": [
    "data_result = pd.merge(cctv_seoul, pop_seoul, on='구별')\n",
    "data_result.head()"
   ]
  },
  {
   "cell_type": "code",
   "execution_count": null,
   "id": "0ed2588a",
   "metadata": {},
   "outputs": [],
   "source": [
    "data_result = data_result.drop(data_result.columns[[2,3,4,5,6,7,8,9,10,11,12,13,14]], axis=1)\n",
    "data_result.head()"
   ]
  },
  {
   "cell_type": "code",
   "execution_count": null,
   "id": "e2e1411a",
   "metadata": {},
   "outputs": [],
   "source": [
    "data_result.set_index(\"구별\", inplace=True)\n",
    "data_result.head"
   ]
  },
  {
   "cell_type": "code",
   "execution_count": null,
   "id": "b92e238c",
   "metadata": {},
   "outputs": [],
   "source": [
    "data_result.corr()"
   ]
  },
  {
   "cell_type": "code",
   "execution_count": null,
   "id": "af00427e",
   "metadata": {},
   "outputs": [],
   "source": [
    "data_result[\"CCTV비율\"] = data_result['총계'] / data_result[\"인구수\"] * 100\n",
    "data_result.sort_values(by=\"CCTV비율\",ascending=False).head()"
   ]
  },
  {
   "cell_type": "code",
   "execution_count": null,
   "id": "2c568525",
   "metadata": {},
   "outputs": [],
   "source": [
    "import matplotlib.pyplot as plt\n",
    "from matplotlib import font_manager, rc\n",
    "plt.rcParams['font.family'] = 'Nanumgothic'\n",
    "plt.rcParams['axes.unicode_minus'] = False"
   ]
  },
  {
   "cell_type": "code",
   "execution_count": null,
   "id": "de8cca52",
   "metadata": {},
   "outputs": [],
   "source": [
    "data_result[\"총계\"].plot(kind=\"barh\", grid=True, figsize=(10, 10))"
   ]
  },
  {
   "cell_type": "code",
   "execution_count": null,
   "id": "fc9271ab",
   "metadata": {},
   "outputs": [],
   "source": [
    "def drawGraph6() :\n",
    "    data_result[\"총계\"].sort_values().plot(\n",
    "        kind=\"barh\", grid=True, title=\"가장 CCTV가 많은 구\", figsize=(10,6)\n",
    "    )\n",
    "    plt.show()"
   ]
  },
  {
   "cell_type": "code",
   "execution_count": null,
   "id": "d3819a7c",
   "metadata": {},
   "outputs": [],
   "source": [
    "drawGraph6()"
   ]
  },
  {
   "cell_type": "code",
   "execution_count": null,
   "id": "db98c768",
   "metadata": {},
   "outputs": [],
   "source": [
    "def drawGraph7():\n",
    "    plt.figure(figsize=(14,10))\n",
    "    plt.scatter(data_result[\"인구수\"], data_result[\"총계\"], s=50)\n",
    "    plt.xlabel(\"인구수\")\n",
    "    plt.ylabel(\"CCTV\")\n",
    "    plt.grid()\n",
    "    plt.show()"
   ]
  },
  {
   "cell_type": "code",
   "execution_count": null,
   "id": "fc6c6a54",
   "metadata": {},
   "outputs": [],
   "source": [
    "drawGraph7()"
   ]
  },
  {
   "cell_type": "code",
   "execution_count": null,
   "id": "e6c325f7",
   "metadata": {},
   "outputs": [],
   "source": [
    "import numpy as np\n",
    "fp1 = np.polyfit(data_result[\"인구수\"], data_result[\"총계\"], 1)\n",
    "fp1\n",
    "\n",
    "f1 = np.poly1d(fp1)\n",
    "f1(40000)\n",
    "\n",
    "fx = np.linspace(100000,700000,100)\n",
    "\n",
    "data_result[\"오차\"] = data_result[\"총계\"] - f1(data_result[\"인구수\"])\n",
    "\n",
    "df_descending = data_result.sort_values(by=\"오차\", ascending=False)\n",
    "df_ascending = data_result.sort_values(by=\"오차\", ascending=True)"
   ]
  },
  {
   "cell_type": "code",
   "execution_count": null,
   "id": "2996c8bc",
   "metadata": {},
   "outputs": [],
   "source": [
    "def drawGraph8():\n",
    "    plt.figure(figsize=(14,10))\n",
    "    plt.scatter(data_result[\"인구수\"], data_result[\"총계\"], s=50)\n",
    "    plt.plot(fx, f1(fx), ls='dashed', lw=3, color='g')\n",
    "    plt.xlabel(\"인구수\")\n",
    "    plt.ylabel(\"CCTV\")\n",
    "    plt.grid()\n",
    "    plt.show()"
   ]
  },
  {
   "cell_type": "code",
   "execution_count": null,
   "id": "1f85be24",
   "metadata": {},
   "outputs": [],
   "source": [
    "drawGraph8()"
   ]
  },
  {
   "cell_type": "code",
   "execution_count": null,
   "id": "2df41aa7",
   "metadata": {},
   "outputs": [],
   "source": [
    "df_descending"
   ]
  },
  {
   "cell_type": "code",
   "execution_count": null,
   "id": "71d91a42",
   "metadata": {},
   "outputs": [],
   "source": [
    "from matplotlib.colors import ListedColormap\n",
    "\n",
    "color_step = [\"#000000\", \n",
    "              \"#2f2f2f\", \n",
    "              \"#4f4f4f\", \n",
    "              \"#8f8f8f\", \n",
    "              \"#afafaf\",\n",
    "              \"#cfcfcf\",\n",
    "              \"#afafaf\",\n",
    "              \"#8f8f8f\", \n",
    "              \"#4f4f4f\", \n",
    "              \"#2f2f2f\", \n",
    "              \"#000000\"]\n",
    "my_colormap=ListedColormap(color_step)"
   ]
  },
  {
   "cell_type": "code",
   "execution_count": null,
   "id": "4540bdde",
   "metadata": {},
   "outputs": [],
   "source": [
    "def drawGraph9():\n",
    "    plt.figure(figsize=(14,10))\n",
    "    plt.scatter(data_result[\"인구수\"], data_result[\"총계\"], c=data_result[\"오차\"],\n",
    "                s=50, cmap=my_colormap)\n",
    "    plt.plot(fx, f1(fx), ls='dashed', lw=3, color='gray')\n",
    "\n",
    "    plt.clim(-2500,2500)\n",
    "\n",
    "    for n in range(5):\n",
    "\n",
    "        plt.text(df_descending[\"인구수\"][n] + 10000,\n",
    "                 df_descending[\"총계\"][n],\n",
    "                 df_descending.index[n], fontsize=15)\n",
    "        \n",
    "        plt.text(df_descending[\"인구수\"][-n] + 10000,\n",
    "                 df_descending[\"총계\"][-n],\n",
    "                 df_descending.index[-n], fontsize=15)\n",
    "        \n",
    "    plt.xlabel(\"인구수\")\n",
    "    plt.ylabel(\"CCTV\")\n",
    "    plt.colorbar()\n",
    "    plt.grid()\n",
    "    plt.show()\n",
    "\n",
    "drawGraph9()"
   ]
  },
  {
   "cell_type": "code",
   "execution_count": null,
   "id": "d011fa3a",
   "metadata": {},
   "outputs": [],
   "source": [
    "df_ascending.head()"
   ]
  },
  {
   "cell_type": "code",
   "execution_count": null,
   "id": "239ecded",
   "metadata": {},
   "outputs": [],
   "source": [
    "data_result.to_csv(\"../data/01.CCTV_result.csv\", sep=\",\", encoding=\"utf-8\")"
   ]
  },
  {
   "cell_type": "code",
   "execution_count": null,
   "id": "8ccfc0d4",
   "metadata": {},
   "outputs": [],
   "source": [
    "%ls ../data/"
   ]
  },
  {
   "cell_type": "code",
   "execution_count": null,
   "id": "30a3e534",
   "metadata": {},
   "outputs": [],
   "source": []
  }
 ],
 "metadata": {
  "kernelspec": {
   "display_name": "Python 3 (ipykernel)",
   "language": "python",
   "name": "python3"
  },
  "language_info": {
   "codemirror_mode": {
    "name": "ipython",
    "version": 3
   },
   "file_extension": ".py",
   "mimetype": "text/x-python",
   "name": "python",
   "nbconvert_exporter": "python",
   "pygments_lexer": "ipython3",
   "version": "3.10.12"
  }
 },
 "nbformat": 4,
 "nbformat_minor": 5
}
