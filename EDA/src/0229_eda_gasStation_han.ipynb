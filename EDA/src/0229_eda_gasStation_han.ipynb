{
 "cells": [
  {
   "cell_type": "markdown",
   "metadata": {},
   "source": [
    "### 주유소 데이터 수집 및 분석\n",
    "* 엑셀 데이터를 사용하지 말고\\\n",
    "상표, 주유소명, 주소, 유종별 평균 가격(보통휘발유, 경유),\\\n",
    "부가정보(세차장, 충전소, 경정비, 편의점, 영업시간)를 가져와보자. (서울시 구별)\n",
    "* 부가정보별 데이터 분석도 해보자."
   ]
  },
  {
   "cell_type": "markdown",
   "metadata": {},
   "source": [
    "* 서울 특별시 구 : 25개\n",
    "* selenium을 사용하여 서울시 구별 데이터를 습득\n",
    "* 각 구에 대한 주유소 정보를 습득하여 html 내 정보를 통해 유가, 부가정보, 영업시간, 업데이트 일시를 등록\n",
    "* 부가정보의 세차장, 충전소, 경정비 등의 정보는 파일명 \"service1_01.gif\" or \"_off.gif\" \n"
   ]
  },
  {
   "cell_type": "code",
   "execution_count": null,
   "metadata": {},
   "outputs": [],
   "source": [
    "import pandas as pd\n",
    "import json\n",
    "import folium\n",
    "import numpy as np\n",
    "\n",
    "from selenium import webdriver\n",
    "from selenium.webdriver.chrome.service import Service\n",
    "from selenium.webdriver.common.by import By\n",
    "from selenium.webdriver.common.keys import Keys\n",
    "\n",
    "from tqdm.notebook import tqdm\n",
    "\n",
    "import time"
   ]
  },
  {
   "cell_type": "code",
   "execution_count": null,
   "metadata": {},
   "outputs": [],
   "source": [
    "gasStation = webdriver.Chrome(service=Service(\"../driver/chromedriver\"))\n",
    "gasStation.maximize_window()\n",
    "gasStation.get(\"https://www.opinet.co.kr/searRgSelect.do\")\n",
    "gasStation.implicitly_wait(5)"
   ]
  },
  {
   "cell_type": "code",
   "execution_count": null,
   "metadata": {},
   "outputs": [],
   "source": [
    "sido = gasStation.find_element(By.ID,\"SIDO_NM0\")\n",
    "sido_list = sido.find_elements(By.TAG_NAME,\"option\")\n",
    "sido_names = [sido_name.get_attribute(\"value\") for sido_name in sido_list]\n",
    "sido_names = sido_names[1:]\n",
    "sido.send_keys(sido_names[0])\n",
    "\n",
    "sigungu = gasStation.find_element(By.ID, \"SIGUNGU_NM0\")   #select seoul\n",
    "sigungu_list = sigungu.find_elements(By.TAG_NAME,\"option\")\n",
    "sigungu_names = [sigungu_name.get_attribute(\"value\") for sigungu_name in sigungu_list]\n",
    "sigungu_names = sigungu_names[1:]\n",
    "\n",
    "station_info_list = []\n",
    "\n",
    "# district\n",
    "for sigungu_name in tqdm(sigungu_names) :\n",
    "    \n",
    "    sigungu = gasStation.find_element(By.ID, \"SIGUNGU_NM0\")\n",
    "    sigungu.send_keys(sigungu_name)\n",
    "    gasStation.implicitly_wait(1)\n",
    "\n",
    "    # number of gas stations\n",
    "    station_count = gasStation.find_element(By.ID,\"totCnt\")\n",
    "    station_count = int(station_count.text) \n",
    "    \n",
    "    # body1 : gasoline, body2 : premium gasoline, body3 : disel, body4 : paraffin\n",
    "    gasoline = gasStation.find_element(By.ID,\"body1\")       \n",
    "    station_list= gasoline.find_elements(By.TAG_NAME, \"a\") \n",
    "\n",
    "    for count in range(station_count): \n",
    "    \n",
    "        station_list[count].click()                                          \n",
    "\n",
    "        # information gathering\n",
    "        station_name    = gasStation.execute_script(f'return document.getElementById(\"{\"os_nm\"}\").innerHTML;')                     # name\n",
    "        station_number  = gasStation.execute_script(f'return document.getElementById(\"{\"phn_no\"}\").innerHTML;')                    # number\n",
    "        station_address = gasStation.execute_script(f'return document.getElementById(\"{\"rd_addr\"}\").innerHTML;').split(maxsplit=2) # address\n",
    "        station_brand   = gasStation.execute_script(f'return document.getElementById(\"{\"poll_div_nm\"}\").innerHTML;')               # brand\n",
    "        station_sigungu = station_address[1]\n",
    "        station_address = station_address[2]\n",
    "\n",
    "        station_price = [                                                                               # price\n",
    "            gasStation.execute_script(f'return document.getElementById(\"{\"b034_p\"}\").innerHTML;'),      # premium gasoline\n",
    "            gasStation.execute_script(f'return document.getElementById(\"{\"b027_p\"}\").innerHTML;'),      # gasoline\n",
    "            gasStation.execute_script(f'return document.getElementById(\"{\"d047_p\"}\").innerHTML;'),      # disel\n",
    "            gasStation.execute_script(f'return document.getElementById(\"{\"c004_p\"}\").innerHTML;')       # paraffin\n",
    "        ]\n",
    "\n",
    "        # popup detail information page\n",
    "        station_detail_info = gasStation.find_element(By.ID,\"os_dtail_info\")    \n",
    "\n",
    "        # additional service car wash, charging, maintenance, convenience, 24/7\n",
    "        service_list = [\"cwsh_yn\", \"lpg_yn\", \"maint_yn\", \"cvs_yn\", \"sel24_yn\"]\n",
    "        station_service = [\"X\"] * len(service_list)\n",
    "\n",
    "        for service in service_list :                                           \n",
    "            if 'off' not in station_detail_info.find_element(By.ID,service).get_attribute(\"src\"):   station_service[service_list.index(service)]=\"O\"\n",
    "\n",
    "        # data merge \n",
    "        station_info = [station_sigungu, station_brand, station_name, station_address, station_number] \n",
    "        station_info.extend(station_price)\n",
    "        station_info.extend(station_service)\n",
    "        station_info_list.append(station_info)\n"
   ]
  },
  {
   "cell_type": "code",
   "execution_count": null,
   "metadata": {},
   "outputs": [],
   "source": [
    "gasStation.quit()"
   ]
  },
  {
   "cell_type": "markdown",
   "metadata": {},
   "source": [
    "\n",
    "주유소의 세부 정보 및 가격 정보를 가져오는 과정에 팝업 정보에서 \n",
    "할인이나 행사 정보 사항이 많을 경우 팝업 창이 화면 밖으로 이탈하였고\\\n",
    "이 경우 find_element는 효과적이로 정보를 가져오지 못했다.\\\n",
    "팝업 창 display 여부를 효과적으로 변경하기 위한 방법들을 모색했다.\n",
    "\n",
    "1. HTML 정보를 변경하여 팝업창 display 여부를 변경하지 못했다.\n",
    "2. 지도화면 이동을 통해 팝업 창을 확인하는 방법은 부정확하고 안정성이 떨어진다.\n",
    "3. 줌인/아웃을 하면 팝업 창이 화면 내부로 들어오는 점을 이용했지만 지도화면 로딩 시간, 위치의 부정확함으로 인한 오차가 발생했다.\n",
    "4. HTML 정보상에 표시되는 팝업 창의 전시 위치 픽셀을 가공해서 활용하는 것은 어려워보인다.\n",
    "\n",
    "팝업창이 화면에 보이지 않아도 HTML 상에는 정보가 있는 점을 이용해서 HTML 상에서 정보를 가져왔다."
   ]
  },
  {
   "cell_type": "code",
   "execution_count": null,
   "metadata": {},
   "outputs": [],
   "source": [
    "seoul_station_data = pd.DataFrame(station_info_list)\n",
    "seoul_station_data.columns = [\"구\", \"상호\", \"이름\", \"주소\", \"번호\", \"고급유\", \"휘발유\", \"경유\", \"등유\", \"세차장\", \"충전소\", \"정비소\", \"편의점\", \"24시\"]\n",
    "\n",
    "# 기름 가격 정보를 표기하기 위해 빈 데이터를 0으로 채우고, float 형식으로 변환\n",
    "fuel_types = [\"고급유\", \"휘발유\", \"경유\", \"등유\"]\n",
    "seoul_station_data[fuel_types] = seoul_station_data[fuel_types].fillna(0).replace('', 0).apply(lambda x: x.str.replace(',', '').astype(float))\n",
    "\n",
    "writer = pd.ExcelWriter(\"../data/seoul_station_data.xlsx\", engine='xlsxwriter')\n",
    "seoul_station_data.to_excel(writer, sheet_name='Sheet1')\n",
    "writer.close()\n"
   ]
  },
  {
   "cell_type": "code",
   "execution_count": null,
   "metadata": {},
   "outputs": [],
   "source": [
    "seoul_gu_data_map = pd.pivot_table(data = seoul_station_data, index=\"구\", values=\"등유\", aggfunc=np.mean)\n",
    "\n",
    "geo_path = \"../data/skorea_municipalities_geo_simple.json\"\n",
    "geo_str = json.load(open(geo_path, encoding=\"utf-8\"))\n",
    "\n",
    "map = folium.Map(location=[37.5502, 126.982], zoom_start=10.5, tiles=\"OpenStreetMap\")\n",
    "folium.Choropleth(geo_data=geo_str,\n",
    "                  data=seoul_gu_data_map,\n",
    "                  columns=[seoul_gu_data_map.index, '등유'],\n",
    "                  key_on='feature.id',\n",
    "                  fill_color='PuRd').add_to(map)\n",
    "                              \n",
    "map"
   ]
  }
 ],
 "metadata": {
  "kernelspec": {
   "display_name": "eda_venv",
   "language": "python",
   "name": "python3"
  },
  "language_info": {
   "codemirror_mode": {
    "name": "ipython",
    "version": 3
   },
   "file_extension": ".py",
   "mimetype": "text/x-python",
   "name": "python",
   "nbconvert_exporter": "python",
   "pygments_lexer": "ipython3",
   "version": "3.10.12"
  }
 },
 "nbformat": 4,
 "nbformat_minor": 2
}
