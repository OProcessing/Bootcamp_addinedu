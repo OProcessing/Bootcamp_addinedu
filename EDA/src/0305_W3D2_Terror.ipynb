{
 "cells": [
  {
   "cell_type": "code",
   "execution_count": null,
   "metadata": {},
   "outputs": [],
   "source": [
    "import pandas as pd\n",
    "import matplotlib.pyplot as plt\n",
    "import matplotlib.patches as mpatches\n",
    "import seaborn as sns\n",
    "import numpy as np\n",
    "plt.style.use('fivethirtyeight')\n",
    "import plotly.offline as py\n",
    "py.init_notebook_mode(connected=True)\n",
    "import plotly.graph_objs as go\n",
    "import plotly.tools as tls\n",
    "from mpl_toolkits.basemap import Basemap\n",
    "import folium\n",
    "import folium.plugins\n",
    "from matplotlib import animation,rc\n",
    "import io\n",
    "import base64\n",
    "from IPython.display import HTML, display\n",
    "import warnings\n",
    "warnings.filterwarnings('ignore')\n",
    "from imageio import imread\n",
    "import codecs\n",
    "from subprocess import check_output"
   ]
  },
  {
   "cell_type": "code",
   "execution_count": null,
   "metadata": {},
   "outputs": [],
   "source": [
    "terror=pd.read_csv('../data/globalterrorismdb_0617dist.csv',encoding='ISO-8859-1')\n",
    "terror.rename(columns={'iyear':'Year','imonth':'Month','iday':'Day','country_txt':'Country','region_txt':'Region','attacktype1_txt':'AttackType','target1':'Target','nkill':'Killed','nwound':'Wounded','summary':'Summary','gname':'Group','targtype1_txt':'Target_type','weaptype1_txt':'Weapon_type','motive':'Motive'},inplace=True)\n",
    "terror=terror[['Year','Month','Day','Country','Region','city','latitude','longitude','AttackType','Killed','Wounded','Target','Summary','Group','Target_type','Weapon_type','Motive']]\n",
    "terror['casualities']=terror['Killed']+terror['Wounded']\n",
    "terror.head(3)"
   ]
  },
  {
   "cell_type": "code",
   "execution_count": null,
   "metadata": {},
   "outputs": [],
   "source": [
    "terror.isnull().sum()"
   ]
  },
  {
   "cell_type": "code",
   "execution_count": null,
   "metadata": {},
   "outputs": [],
   "source": [
    "print('Country with Highest Terrorist Attacks:',terror['Country'].value_counts().index[0])\n",
    "print('Regions with Highest Terrorist Attacks:',terror['Region'].value_counts().index[0])\n",
    "print('Maximum people killed in an attack are:',terror['Killed'].max(),'that took place in',terror.loc[terror['Killed'].idxmax()].Country)"
   ]
  },
  {
   "cell_type": "code",
   "execution_count": null,
   "metadata": {},
   "outputs": [],
   "source": [
    "plt.subplots(figsize=(15,6))\n",
    "sns.countplot(data=terror, x='Year',palette='RdYlGn_r',edgecolor=sns.color_palette('dark',7))\n",
    "plt.xticks(rotation=90)\n",
    "plt.title('Number Of Terrorist Activities Each Year')\n",
    "plt.show()"
   ]
  },
  {
   "cell_type": "code",
   "execution_count": null,
   "metadata": {},
   "outputs": [],
   "source": [
    "plt.subplots(figsize=(15,6))\n",
    "sns.countplot(x='AttackType',data=terror,palette='inferno',order=terror['AttackType'].value_counts().index)\n",
    "plt.xticks(rotation=90)\n",
    "plt.title('Attacking Methods by Terrorists')\n",
    "plt.show()"
   ]
  },
  {
   "cell_type": "code",
   "execution_count": null,
   "metadata": {},
   "outputs": [],
   "source": [
    "plt.subplots(figsize=(15,6))\n",
    "sns.countplot(x=terror['Target_type'],palette='inferno',order=terror['Target_type'].value_counts().index)\n",
    "plt.xticks(rotation=90)\n",
    "plt.title('Favorite Targets')\n",
    "plt.show()"
   ]
  },
  {
   "cell_type": "code",
   "execution_count": null,
   "metadata": {},
   "outputs": [],
   "source": [
    "m3 = Basemap(projection='mill',llcrnrlat=-80,urcrnrlat=80, llcrnrlon=-180,urcrnrlon=180,lat_ts=20,resolution='c',lat_0=True,lat_1=True)\n",
    "lat_100=list(terror[terror['casualities']>=75].latitude)\n",
    "long_100=list(terror[terror['casualities']>=75].longitude)\n",
    "x_100,y_100=m3(long_100,lat_100)\n",
    "m3.plot(x_100, y_100,'go',markersize=5,color = 'r')\n",
    "lat_=list(terror[terror['casualities']<75].latitude)\n",
    "long_=list(terror[terror['casualities']<75].longitude)\n",
    "x_,y_=m3(long_,lat_)\n",
    "m3.plot(x_, y_,'go',markersize=2,color = 'b',alpha=0.4)\n",
    "m3.drawcoastlines()\n",
    "m3.drawcountries()\n",
    "m3.fillcontinents(lake_color='aqua')\n",
    "m3.drawmapboundary(fill_color='aqua')\n",
    "fig=plt.gcf()\n",
    "fig.set_size_inches(10,6)\n",
    "plt.title('Global Terrorist Attacks')\n",
    "plt.legend(loc='lower left',handles=[mpatches.Patch(color='b', label = \"< 75 casualities\"),\n",
    "                    mpatches.Patch(color='red',label='> 75 casualities')])\n",
    "plt.show()"
   ]
  },
  {
   "cell_type": "code",
   "execution_count": null,
   "metadata": {},
   "outputs": [],
   "source": [
    "terror_fol=terror.copy()\n",
    "terror_fol.dropna(subset=['latitude','longitude'],inplace=True)\n",
    "location_fol=terror_fol[['latitude','longitude']][:5000]\n",
    "country_fol=terror_fol['Country'][:5000]\n",
    "city_fol=terror_fol['city'][:5000]\n",
    "killed_fol=terror_fol['Killed'][:5000]\n",
    "wound_fol=terror_fol['Wounded'][:5000]\n",
    "def color_point(x):\n",
    "    if x>=30:\n",
    "        color='red'\n",
    "    elif ((x>0 and x<30)):\n",
    "        color='blue'\n",
    "    else:\n",
    "        color='green'\n",
    "    return color   \n",
    "def point_size(x):\n",
    "    if (x>30 and x<100):\n",
    "        size=2\n",
    "    elif (x>=100 and x<500):\n",
    "        size=8\n",
    "    elif x>=500:\n",
    "        size=16\n",
    "    else:\n",
    "        size=0.5\n",
    "    return size   \n",
    "map2 = folium.Map(location=[30,0],tiles='CartoDB dark_matter',zoom_start=2)\n",
    "for point in location_fol.index:\n",
    "    info='<b>Country: </b>'+str(country_fol[point])+'<br><b>City: </b>: '+str(city_fol[point])+'<br><b>Killed </b>: '+str(killed_fol[point])+'<br><b>Wounded</b> : '+str(wound_fol[point])\n",
    "    iframe = folium.IFrame(html=info, width=200, height=200)\n",
    "    folium.CircleMarker(list(location_fol.loc[point].values),popup=folium.Popup(iframe),radius=point_size(killed_fol[point]),color=color_point(killed_fol[point])).add_to(map2)\n",
    "map2"
   ]
  },
  {
   "cell_type": "code",
   "execution_count": null,
   "metadata": {},
   "outputs": [],
   "source": []
  }
 ],
 "metadata": {
  "kernelspec": {
   "display_name": "eda_venv",
   "language": "python",
   "name": "python3"
  },
  "language_info": {
   "codemirror_mode": {
    "name": "ipython",
    "version": 3
   },
   "file_extension": ".py",
   "mimetype": "text/x-python",
   "name": "python",
   "nbconvert_exporter": "python",
   "pygments_lexer": "ipython3",
   "version": "3.10.12"
  }
 },
 "nbformat": 4,
 "nbformat_minor": 2
}
