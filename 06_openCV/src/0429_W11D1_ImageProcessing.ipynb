{
 "cells": [
  {
   "cell_type": "code",
   "execution_count": null,
   "metadata": {},
   "outputs": [],
   "source": [
    "import cv2\n",
    "import matplotlib.pyplot as plt\n"
   ]
  },
  {
   "cell_type": "code",
   "execution_count": null,
   "metadata": {},
   "outputs": [],
   "source": [
    "img1 = cv2.imread('../data/field.bmp')\n",
    "img1 = cv2.cvtColor(img1, cv2.COLOR_BGR2RGB)\n",
    "img2 = cv2.imread('../data/cat.bmp')\n",
    "img2 = cv2.cvtColor(img2, cv2.COLOR_BGR2RGB)"
   ]
  },
  {
   "cell_type": "code",
   "execution_count": null,
   "metadata": {},
   "outputs": [],
   "source": [
    "img1 = cv2.resize(img1, (1200, 800))\n",
    "plt.imshow(img1)"
   ]
  },
  {
   "cell_type": "code",
   "execution_count": null,
   "metadata": {},
   "outputs": [],
   "source": [
    "img1.shape, img2.shape"
   ]
  },
  {
   "cell_type": "code",
   "execution_count": null,
   "metadata": {},
   "outputs": [],
   "source": [
    "img2 = cv2.resize(img2, (img1.shape[1], img1.shape[0]))\n",
    "blended = cv2.addWeighted(src1=img1, alpha=0.6, src2= img2, beta=0.4, gamma=0)\n",
    "plt.imshow(blended);"
   ]
  },
  {
   "cell_type": "code",
   "execution_count": null,
   "metadata": {},
   "outputs": [],
   "source": [
    "img1 = cv2.imread('../data/field.bmp')\n",
    "img1 = cv2.cvtColor(img1, cv2.COLOR_BGR2RGB)\n",
    "img2 = cv2.imread('../data/cat.bmp')\n",
    "img2 = cv2.cvtColor(img2, cv2.COLOR_BGR2RGB)\n",
    "img1 = cv2.resize(img1, (1200, 800))\n",
    "large_img = img1\n",
    "small_img = img2\n",
    "\n",
    "x_offset = img1.shape[1] - img2.shape[1]\n",
    "y_offset = img1.shape[0] - img2.shape[0]\n"
   ]
  },
  {
   "cell_type": "code",
   "execution_count": null,
   "metadata": {},
   "outputs": [],
   "source": [
    "roi = img1[y_offset:img1.shape[0], x_offset:img1.shape[1]]\n",
    "plt.imshow(roi)"
   ]
  },
  {
   "cell_type": "code",
   "execution_count": null,
   "metadata": {},
   "outputs": [],
   "source": [
    "blended = cv2.addWeighted(src1=roi, alpha=0.8, src2= img2, beta=0.2, gamma=0)\n",
    "plt.imshow(blended);"
   ]
  },
  {
   "cell_type": "code",
   "execution_count": null,
   "metadata": {},
   "outputs": [],
   "source": [
    "final_roi = cv2.bitwise_and(roi, img2)\n",
    "img1[y_offset:y_offset+img2.shape[0], x_offset:x_offset+img2.shape[1]] = blended\n",
    "plt.imshow(img1);"
   ]
  },
  {
   "cell_type": "code",
   "execution_count": null,
   "metadata": {},
   "outputs": [],
   "source": [
    "img2_gray = cv2.cvtColor(img2, cv2.COLOR_RGB2GRAY)\n",
    "mask_inv = cv2.bitwise_not(img2_gray)\n",
    "plt.imshow(mask_inv, cmap='gray')"
   ]
  },
  {
   "cell_type": "code",
   "execution_count": null,
   "metadata": {},
   "outputs": [],
   "source": [
    "fg = cv2.bitwise_or(img2, img2, mask=mask_inv)\n",
    "plt.imshow(fg)"
   ]
  },
  {
   "cell_type": "code",
   "execution_count": null,
   "metadata": {},
   "outputs": [],
   "source": [
    "src = cv2.imread('../data/airplane.bmp', cv2.IMREAD_COLOR)\n",
    "mask = cv2.imread('../data/mask_plane.bmp', cv2.IMREAD_GRAYSCALE)\n",
    "dst = cv2.imread('../data/field.bmp', cv2.IMREAD_COLOR)\n",
    "plt.imshow(cv2.cvtColor(cv2.copyTo(src, mask, dst), cv2.COLOR_BGR2RGB));"
   ]
  },
  {
   "cell_type": "code",
   "execution_count": null,
   "metadata": {},
   "outputs": [],
   "source": [
    "src = cv2.cvtColor(cv2.imread('../data/airplane.bmp', cv2.IMREAD_COLOR), cv2.COLOR_BGR2RGB)\n",
    "mask = cv2.imread('../data/mask_plane.bmp', cv2.IMREAD_GRAYSCALE)\n",
    "dst = cv2.cvtColor(cv2.imread('../data/field.bmp', cv2.IMREAD_COLOR), cv2.COLOR_BGR2RGB)\n",
    "plt.imshow(cv2.copyTo(src, mask, dst));"
   ]
  },
  {
   "cell_type": "code",
   "execution_count": null,
   "metadata": {},
   "outputs": [],
   "source": [
    "src = cv2.imread('../data/airplane.bmp', cv2.IMREAD_COLOR)\n",
    "mask = cv2.imread('../data/mask_plane.bmp', cv2.IMREAD_GRAYSCALE)\n",
    "#dst = cv2.imread('../data/field.bmp', cv2.IMREAD_COLOR)\n",
    "plt.imshow(cv2.copyTo(src, mask, dst=None));"
   ]
  },
  {
   "cell_type": "code",
   "execution_count": null,
   "metadata": {},
   "outputs": [],
   "source": [
    "src = cv2.imread('../data/airplane.bmp', cv2.IMREAD_COLOR)\n",
    "mask = cv2.imread('../data/mask_plane.bmp', cv2.IMREAD_GRAYSCALE)\n",
    "#dst = cv2.imread('../data/field.bmp', cv2.IMREAD_COLOR)\n",
    "plt.imshow(cv2.cvtColor(cv2.copyTo(src, mask, dst=None), cv2.COLOR_BGR2RGB));"
   ]
  },
  {
   "cell_type": "markdown",
   "metadata": {},
   "source": []
  }
 ],
 "metadata": {
  "kernelspec": {
   "display_name": "openCV_venv",
   "language": "python",
   "name": "python3"
  },
  "language_info": {
   "codemirror_mode": {
    "name": "ipython",
    "version": 3
   },
   "file_extension": ".py",
   "mimetype": "text/x-python",
   "name": "python",
   "nbconvert_exporter": "python",
   "pygments_lexer": "ipython3",
   "version": "3.10.12"
  }
 },
 "nbformat": 4,
 "nbformat_minor": 2
}
