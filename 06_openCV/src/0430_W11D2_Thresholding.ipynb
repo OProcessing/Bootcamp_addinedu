{
 "cells": [
  {
   "cell_type": "code",
   "execution_count": null,
   "metadata": {},
   "outputs": [],
   "source": [
    "import cv2\n",
    "import numpy as np\n",
    "import matplotlib.pyplot as plt\n"
   ]
  },
  {
   "cell_type": "code",
   "execution_count": null,
   "metadata": {},
   "outputs": [],
   "source": [
    "img = cv2.imread('../data/rainbow.jpg', cv2.IMREAD_GRAYSCALE)\n",
    "ret, thresh1 = cv2.threshold(img, 127, 255, cv2.THRESH_BINARY)\n",
    "ret, thresh2 = cv2.threshold(img, 127, 255, cv2.THRESH_BINARY_INV)\n",
    "ret, thresh3 = cv2.threshold(img, 127, 255, cv2.THRESH_TRUNC)\n",
    "ret, thresh4 = cv2.threshold(img, 127, 255, cv2.THRESH_TOZERO)\n",
    "ret, thresh5 = cv2.threshold(img, 127, 255, cv2.THRESH_TOZERO_INV)\n",
    "plt.figure(figsize=(12,8))\n",
    "plt.subplot(2,3,1)\n",
    "plt.imshow(img, cmap='gray')\n",
    "plt.subplot(2,3,2)\n",
    "plt.imshow(thresh1, cmap='gray')\n",
    "plt.subplot(2,3,3)\n",
    "plt.imshow(thresh2, cmap='gray')\n",
    "plt.subplot(2,3,4)\n",
    "plt.imshow(thresh3, cmap='gray')\n",
    "plt.subplot(2,3,5)\n",
    "plt.imshow(thresh4, cmap='gray')\n",
    "plt.subplot(2,3,6)\n",
    "plt.imshow(thresh5, cmap='gray')\n",
    "plt.show()"
   ]
  },
  {
   "cell_type": "code",
   "execution_count": null,
   "metadata": {},
   "outputs": [],
   "source": [
    "def show_pic(img) :\n",
    "    fig = plt.figure(figsize=(15,15))\n",
    "    ax = fig.add_subplot(111)\n",
    "    ax.imshow(img, cmap='gray')\n",
    "img = cv2.imread('../data/crossword.jpg', cv2.IMREAD_GRAYSCALE)\n",
    "show_pic(img)"
   ]
  },
  {
   "cell_type": "code",
   "execution_count": null,
   "metadata": {},
   "outputs": [],
   "source": [
    "ret, thresh1 = cv2.threshold(img, 127, 255, cv2.THRESH_BINARY)\n",
    "thresh2 = cv2.adaptiveThreshold(img, 255, cv2.ADAPTIVE_THRESH_MEAN_C, cv2.THRESH_BINARY, 7, 8)\n",
    "thresh3 = cv2.addWeighted(src1 = thresh1, alpha = 0.6, src2 = thresh2, beta = 0.4, gamma=0)\n",
    "thresh4 = cv2.adaptiveThreshold(img, 255, cv2.ADAPTIVE_THRESH_GAUSSIAN_C, cv2.THRESH_BINARY, 11, 8)\n",
    "thresh5 = cv2.addWeighted(src1 = thresh1, alpha = 0.6, src2 = thresh4, beta = 0.4, gamma=0)\n",
    "\n",
    "plt.figure(figsize=(18 ,8))\n",
    "plt.subplot(2,3,1)\n",
    "plt.imshow(img, cmap='gray')\n",
    "plt.subplot(2,3,2)\n",
    "plt.imshow(thresh1, cmap='gray')\n",
    "plt.subplot(2,3,3)\n",
    "plt.imshow(thresh2, cmap='gray')\n",
    "plt.subplot(2,3,4)\n",
    "plt.imshow(thresh3, cmap='gray')\n",
    "plt.subplot(2,3,5)\n",
    "plt.imshow(thresh4, cmap='gray')\n",
    "plt.subplot(2,3,6)\n",
    "plt.imshow(thresh5, cmap='gray')\n",
    "plt.show()"
   ]
  },
  {
   "cell_type": "code",
   "execution_count": null,
   "metadata": {},
   "outputs": [],
   "source": [
    "def load_img() :\n",
    "    img = cv2.imread('../data/bricks.jpg').astype(np.float32) / 255\n",
    "    img = cv2.cvtColor(img, cv2.COLOR_BGR2RGB)\n",
    "    return img\n",
    "def display_img(img) :\n",
    "    fig = plt.figure(figsize=(12,10))\n",
    "    ax = fig.add_subplot(111)\n",
    "    ax.imshow(img)"
   ]
  },
  {
   "cell_type": "code",
   "execution_count": null,
   "metadata": {},
   "outputs": [],
   "source": [
    "img = load_img()\n",
    "display_img(img)\n",
    "gamma = 1/4\n",
    "result = np.power(img, gamma)\n",
    "display_img(result)"
   ]
  },
  {
   "cell_type": "code",
   "execution_count": null,
   "metadata": {},
   "outputs": [],
   "source": [
    "gamma = 2\n",
    "result = np.power(img, gamma)\n",
    "display_img(result)"
   ]
  },
  {
   "cell_type": "code",
   "execution_count": null,
   "metadata": {},
   "outputs": [],
   "source": [
    "kernel = np.ones(shape=(5,5), dtype=np.float32) / 25\n",
    "dst = cv2.filter2D(img, -1, kernel)\n",
    "display_img(dst)"
   ]
  },
  {
   "cell_type": "code",
   "execution_count": null,
   "metadata": {},
   "outputs": [],
   "source": [
    "img = load_img()\n",
    "blurred = cv2.blur(img, ksize=(10,10))\n",
    "blurred_gaus = cv2.GaussianBlur(src=img, ksize=(5,5), sigmaX=10)\n",
    "display_img(blurred_gaus)"
   ]
  },
  {
   "cell_type": "code",
   "execution_count": null,
   "metadata": {},
   "outputs": [],
   "source": [
    "def load_img() :\n",
    "    blank_img = np.zeros((600, 600))\n",
    "    font = cv2.FONT_HERSHEY_SIMPLEX\n",
    "    cv2.putText(blank_img, text='Star Wars', org=(50,300),\n",
    "                fontFace=font, fontScale=3, color=(255,255,255),\n",
    "                thickness=15, lineType=cv2.LINE_AA)\n",
    "    return blank_img\n",
    "\n",
    "def display_img(img) :\n",
    "    fig = plt.figure(figsize=(6,5))\n",
    "    ax = fig.add_subplot(111)\n",
    "    ax.imshow(img, cmap='gray')"
   ]
  },
  {
   "cell_type": "code",
   "execution_count": null,
   "metadata": {},
   "outputs": [],
   "source": [
    "img = load_img()\n",
    "kernel = np.ones((5,5), dtype=np.uint8)\n",
    "iterations = 0\n",
    "result = cv2.erode(img, kernel, iterations=iterations)\n",
    "display_img(result)"
   ]
  },
  {
   "cell_type": "code",
   "execution_count": null,
   "metadata": {},
   "outputs": [],
   "source": [
    "img = load_img()\n",
    "white_noise = np.random.randint(low=0, high=2, size=(600,600)) * 255\n",
    "noise_img = white_noise + img\n",
    "kernel = np.ones((5,5), dtype=np.uint8) \n",
    "result = cv2.dilate(noise_img, kernel)\n",
    "display_img(result)"
   ]
  },
  {
   "cell_type": "code",
   "execution_count": null,
   "metadata": {},
   "outputs": [],
   "source": [
    "opening = cv2.morphologyEx(noise_img, cv2.MORPH_OPEN, kernel)\n",
    "display_img(opening)"
   ]
  },
  {
   "cell_type": "code",
   "execution_count": null,
   "metadata": {},
   "outputs": [],
   "source": [
    "img = load_img()\n",
    "black_noise = np.random.randint(low=0, high=2, size=(600,600))\n",
    "black_noise = black_noise *(-img.max())\n",
    "black_noise_img = black_noise + img\n",
    "black_noise_img[black_noise_img == -255] = 0\n",
    "black_noise_img.min()\n",
    "display_img(black_noise_img)"
   ]
  },
  {
   "cell_type": "code",
   "execution_count": null,
   "metadata": {},
   "outputs": [],
   "source": [
    "img = load_img()\n",
    "gradient = cv2.morphologyEx(img, cv2.MORPH_GRADIENT, kernel)\n",
    "display_img(gradient)"
   ]
  },
  {
   "cell_type": "code",
   "execution_count": null,
   "metadata": {},
   "outputs": [],
   "source": []
  }
 ],
 "metadata": {
  "kernelspec": {
   "display_name": "openCV_venv",
   "language": "python",
   "name": "python3"
  },
  "language_info": {
   "codemirror_mode": {
    "name": "ipython",
    "version": 3
   },
   "file_extension": ".py",
   "mimetype": "text/x-python",
   "name": "python",
   "nbconvert_exporter": "python",
   "pygments_lexer": "ipython3",
   "version": "3.10.12"
  }
 },
 "nbformat": 4,
 "nbformat_minor": 2
}
