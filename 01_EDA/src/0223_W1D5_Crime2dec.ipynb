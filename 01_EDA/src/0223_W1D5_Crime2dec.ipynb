{
 "cells": [
  {
   "cell_type": "code",
   "execution_count": null,
   "metadata": {},
   "outputs": [],
   "source": [
    "import pandas as pd\n",
    "import numpy as np\n",
    "%matplotlib inline\n",
    "\n",
    "import matplotlib as mpl\n",
    "import matplotlib.pyplot as plt\n",
    "import koreanize_matplotlib\n",
    "\n",
    "import seaborn as sns\n",
    "import folium\n",
    "import json\n",
    "from glob import glob\n",
    "\n",
    "glob(\"../data/crime/*\")\n",
    "file_list = glob(\"../data/crime/*\")\n",
    "file_list"
   ]
  },
  {
   "cell_type": "code",
   "execution_count": null,
   "metadata": {},
   "outputs": [],
   "source": [
    "for each_file in file_list:\n",
    "    print(each_file)"
   ]
  },
  {
   "cell_type": "code",
   "execution_count": null,
   "metadata": {},
   "outputs": [],
   "source": [
    "crime_station_t = []\n",
    "\n",
    "for each_file in file_list:\n",
    "\n",
    "    crime_raw_data = pd.read_csv(each_file, usecols=[0,1,2,3], encoding='euc-kr')\n",
    "    crime_station = crime_raw_data.pivot_table(\n",
    "        crime_raw_data, index=[\"구분\"],\n",
    "        columns=[\"죄종\", \"발생검거\"], aggfunc=[np.sum]\n",
    "    )\n",
    "    crime_station.columns = ['강간검거', '강간', '강도검거', '강도', '살인검거', '살인', '절도검거', '절도', '폭력검거', '폭력']\n",
    "\n",
    "    crime_station['year']=each_file.split('/')[-1][:4]\n",
    "\n",
    "    crime_station.reset_index(inplace=True)\n",
    "    crime_station_t.append(crime_station)\n",
    "    \n",
    "crime_station_t"
   ]
  },
  {
   "cell_type": "code",
   "execution_count": null,
   "metadata": {},
   "outputs": [],
   "source": [
    "crime_total=pd.concat(crime_station_t)\n",
    "crime_total_murder = crime_total.pivot(index='구분', columns='year', values='살인')\n",
    "crime_total_murder['평균'] = np.mean(crime_total_murder, axis=1)\n",
    "crime_total_murder = crime_total_murder.sort_values(by='평균', ascending=False)\n",
    "crime_total_murder"
   ]
  },
  {
   "cell_type": "code",
   "execution_count": null,
   "metadata": {},
   "outputs": [],
   "source": [
    "plt.figure(figsize=(13,10))\n",
    "sns.heatmap(crime_total_murder, annot=True, lw=.5, cmap='RdPu')\n",
    "plt.title('2000년부터 2018년 서울시 구별 살인사건의 수')\n",
    "plt.autoscale()\n",
    "plt.tight_layout(pad=5)\n",
    "plt.show()"
   ]
  },
  {
   "cell_type": "code",
   "execution_count": null,
   "metadata": {},
   "outputs": [],
   "source": []
  }
 ],
 "metadata": {
  "kernelspec": {
   "display_name": "eda_venv",
   "language": "python",
   "name": "python3"
  },
  "language_info": {
   "codemirror_mode": {
    "name": "ipython",
    "version": 3
   },
   "file_extension": ".py",
   "mimetype": "text/x-python",
   "name": "python",
   "nbconvert_exporter": "python",
   "pygments_lexer": "ipython3",
   "version": "3.10.12"
  }
 },
 "nbformat": 4,
 "nbformat_minor": 2
}
