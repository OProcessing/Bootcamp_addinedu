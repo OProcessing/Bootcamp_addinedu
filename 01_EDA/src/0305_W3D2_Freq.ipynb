{
 "cells": [
  {
   "cell_type": "code",
   "execution_count": null,
   "metadata": {},
   "outputs": [],
   "source": [
    "import numpy as np\n",
    "import matplotlib.pyplot as plt\n"
   ]
  },
  {
   "cell_type": "code",
   "execution_count": null,
   "metadata": {},
   "outputs": [],
   "source": [
    "def sin_wave(amp, freq, time) :\n",
    "    return amp * np.sin(2*np.pi*freq*time)"
   ]
  },
  {
   "cell_type": "code",
   "execution_count": null,
   "metadata": {},
   "outputs": [],
   "source": [
    "time = np.arange(0, 10, 0.001)\n",
    "sin1 = sin_wave(1, 10, time)\n",
    "sin2 = sin_wave(2, 5, time)\n",
    "sin3 = sin_wave(4, 1, time)"
   ]
  },
  {
   "cell_type": "code",
   "execution_count": null,
   "metadata": {},
   "outputs": [],
   "source": [
    "plt.figure(figsize=(12,5))\n",
    "plt.plot(time, sin1, label=r\"$\\sin {20\\pi} t$\", color='red')\n",
    "plt.plot(time, sin2, label=r\"$2\\sin {10\\pi} t$\", color='blue')\n",
    "plt.plot(time, sin3, label=r\"$4\\sin {2\\pi} t$\", color='green')\n",
    "plt.legend(); plt.grid(); plt.show()"
   ]
  },
  {
   "cell_type": "code",
   "execution_count": null,
   "metadata": {},
   "outputs": [],
   "source": [
    "sin_sum = sin1 + sin2 + sin3\n",
    "\n",
    "plt.figure(figsize=(12,5))\n",
    "plt.plot(time, sin_sum)\n",
    "plt.grid()\n",
    "plt.show()"
   ]
  },
  {
   "cell_type": "code",
   "execution_count": null,
   "metadata": {},
   "outputs": [],
   "source": [
    "plt.figure(figsize=(12,7))\n",
    "plt.plot(time, sin1, label=r\"$\\sin {20\\pi} t$\", color='red', alpha=0.5)\n",
    "plt.plot(time, sin2, label=r\"$2\\sin {10\\pi} t$\", color='blue', alpha=0.5)\n",
    "plt.plot(time, sin3, label=r\"$4\\sin {2\\pi} t$\", color='green', alpha=0.5)\n",
    "plt.plot(time, sin_sum, label=\"sum_of_sin\", color=\"black\", lw=0.8)\n",
    "plt.legend(); plt.grid(); plt.show()"
   ]
  },
  {
   "cell_type": "code",
   "execution_count": null,
   "metadata": {},
   "outputs": [],
   "source": [
    "n = len(sin_sum)\n",
    "k = np.arange(n)\n",
    "Fs = 1/0.001\n",
    "T = n/Fs\n",
    "freq = k/T\n",
    "freq = freq[range(int(n/2))]"
   ]
  },
  {
   "cell_type": "code",
   "execution_count": null,
   "metadata": {},
   "outputs": [],
   "source": [
    "Y = np.fft.fft(sin_sum)/n\n",
    "Y = Y[range(int(n/2))]"
   ]
  },
  {
   "cell_type": "code",
   "execution_count": null,
   "metadata": {},
   "outputs": [],
   "source": [
    "fig, ax = plt.subplots(2, 1, figsize=(12,8))\n",
    "ax[0].plot(time, sin_sum)\n",
    "ax[0].set_xlabel('Time')\n",
    "ax[0].set_ylabel('Amplitude'); ax[0].grid(True)\n",
    "ax[1].plot(freq, abs(Y), 'r', linestyle=' ', marker='^')\n",
    "ax[1].set_xlabel('Freq (Hz)')\n",
    "ax[1].set_ylabel('|Y(freq)|')\n",
    "ax[1].vlines(freq, [0], abs(Y))\n",
    "ax[1].set_xlim([0, 20]); ax[1].grid(True)\n",
    "plt.show()"
   ]
  },
  {
   "cell_type": "code",
   "execution_count": null,
   "metadata": {},
   "outputs": [],
   "source": [
    "sin_concat = np.concatenate((sin1, sin2, sin3, sin_sum))\n",
    "time = np.arange(0, 40, 0.001)\n",
    "plt.figure(figsize=(12,5))\n",
    "plt.plot(time, sin_concat)\n",
    "plt.grid()\n",
    "plt.show()"
   ]
  },
  {
   "cell_type": "code",
   "execution_count": null,
   "metadata": {},
   "outputs": [],
   "source": [
    "n = len(sin_concat)\n",
    "k = np.arange(n)\n",
    "Fs = 1/0.001\n",
    "T = n/Fs\n",
    "freq = k/T\n",
    "freq = freq[range(int(n/2))]\n",
    "Y = np.fft.fft(sin_concat)/n\n",
    "Y = Y[range(int(n/2))]\n"
   ]
  },
  {
   "cell_type": "code",
   "execution_count": null,
   "metadata": {},
   "outputs": [],
   "source": [
    "fig, ax = plt.subplots(2, 1, figsize=(12,8))\n",
    "ax[0].plot(time, sin_concat)\n",
    "ax[0].set_xlabel('Time')\n",
    "ax[0].set_ylabel('Amplitude'); ax[0].grid(True)\n",
    "ax[1].plot(freq, abs(Y), 'r', linestyle=' ', marker='^')\n",
    "ax[1].set_xlabel('Freq (Hz)')\n",
    "ax[1].set_ylabel('|Y(freq)|')\n",
    "ax[1].set_xlim([0, 20])\n",
    "ax[1].vlines(freq, [0], abs(Y)); ax[1].grid(True)\n",
    "plt.show()"
   ]
  },
  {
   "cell_type": "code",
   "execution_count": null,
   "metadata": {},
   "outputs": [],
   "source": [
    "def draw_stft(f, t, Zxx):\n",
    "    plt.figure(figsize=(12,5))\n",
    "    plt.pcolormesh(t, f, np.abs(Zxx), vmin=0, vmax=1, shading='gouraud')\n",
    "    plt.title('STFT Magnitude'); plt.ylabel('Frequency [Hz]')\n",
    "    plt.xlabel('Time [sec]'); plt.ylim([0, 20]); plt.show()"
   ]
  },
  {
   "cell_type": "code",
   "execution_count": null,
   "metadata": {},
   "outputs": [],
   "source": [
    "from scipy import signal\n",
    "def calc_stft(nperseg):\n",
    "    f, t, Zxx = signal.stft(sin_concat, Fs, nperseg=nperseg)\n",
    "    draw_stft(f, t, Zxx)"
   ]
  },
  {
   "cell_type": "code",
   "execution_count": null,
   "metadata": {},
   "outputs": [],
   "source": [
    "calc_stft(10000)"
   ]
  },
  {
   "cell_type": "code",
   "execution_count": null,
   "metadata": {},
   "outputs": [],
   "source": [
    "import librosa.display, librosa\n",
    "import IPython.display\n",
    "import warnings\n",
    "import numpy as np\n",
    "warnings.simplefilter(\"ignore\")"
   ]
  },
  {
   "cell_type": "code",
   "execution_count": null,
   "metadata": {},
   "outputs": [],
   "source": [
    "def sin_wave(amp, freq, time):\n",
    "    return amp * np.sin(2*np.pi*freq*time)"
   ]
  },
  {
   "cell_type": "code",
   "execution_count": null,
   "metadata": {},
   "outputs": [],
   "source": [
    "sr = 22*1000.\n",
    "ts = 1/sr\n",
    "time = np.arange(0, 1, ts)\n",
    "DO = sin_wave(1, 261.6256, time)\n",
    "MI = sin_wave(1, 329.6276, time)\n",
    "SOL = sin_wave(1, 391.9954, time)"
   ]
  },
  {
   "cell_type": "code",
   "execution_count": null,
   "metadata": {},
   "outputs": [],
   "source": [
    "import matplotlib.pyplot as plt\n",
    "plt.figure(figsize=(12,5))\n",
    "plt.plot(time, DO, label=\"DO\", color='red')\n",
    "plt.plot(time, MI, label=\"MI\", color='blue')\n",
    "plt.plot(time, SOL, label=\"SOL\", color='green')\n",
    "plt.xlim((0, 0.01))\n",
    "plt.legend(); plt.grid(); plt.show()"
   ]
  },
  {
   "cell_type": "code",
   "execution_count": null,
   "metadata": {},
   "outputs": [],
   "source": [
    "IPython.display.Audio(data=DO, rate=sr)"
   ]
  },
  {
   "cell_type": "code",
   "execution_count": null,
   "metadata": {},
   "outputs": [],
   "source": [
    "sample_concat = np.concatenate((DO, MI, SOL))\n",
    "sample_concat.shape\n",
    "IPython.display.Audio(data=sample_concat, rate=sr)"
   ]
  },
  {
   "cell_type": "code",
   "execution_count": null,
   "metadata": {},
   "outputs": [],
   "source": [
    "import matplotlib.pyplot as plt\n",
    "def draw_wave(sample_sounds):\n",
    "    plt.figure(figsize=(12,6))\n",
    "    librosa.display.waveshow(sample_sounds, alpha=0.2)\n",
    "    plt.xlabel(\"Time (s)\"); plt.ylabel(\"Amplitude\")\n",
    "    plt.title(\"Waveform\"); plt.show()\n",
    "\n",
    "def get_stft(sample_sounds) :\n",
    "    return  librosa.stft(sample_sounds)\n",
    "\n",
    "def draw_stft(sample_sounds, ylim=(None, None)):\n",
    "    plt.figure(figsize=(12,6))\n",
    "    librosa.display.specshow(np.abs(get_stft(sample_sounds)),\n",
    "    y_axis='hz', x_axis='s')\n",
    "    plt.ylim(ylim); plt.grid(); plt.show()\n",
    "\n",
    "def get_chroma(sample_sounds, sr):\n",
    "    return librosa.feature.chroma_stft(S=np.abs(get_stft(sample_sounds)),sr=sr)\n",
    "\n",
    "def draw_chroma(sample_sounds, sr):\n",
    "    plt.figure(figsize=(12,6))\n",
    "    librosa.display.specshow(get_chroma(sample_sounds, sr),\n",
    "    y_axis='chroma', x_axis='time')\n",
    "    plt.grid(); plt.show()"
   ]
  },
  {
   "cell_type": "code",
   "execution_count": null,
   "metadata": {},
   "outputs": [],
   "source": [
    "piano, sr = librosa.core.load('../data/melody_samples/piano.wav')\n",
    "guitar, sr = librosa.core.load('../data/melody_samples/guitar.wav')\n",
    "flute, sr = librosa.core.load('../data/melody_samples/flute.wav')"
   ]
  },
  {
   "cell_type": "code",
   "execution_count": null,
   "metadata": {},
   "outputs": [],
   "source": [
    "sum_inst = sum([piano*2, guitar, flute*1.2])\n",
    "draw_stft(sum_inst, ylim=(0, 2000))"
   ]
  },
  {
   "cell_type": "code",
   "execution_count": null,
   "metadata": {},
   "outputs": [],
   "source": [
    "IPython.display.Audio(data=sum_inst, rate=sr)"
   ]
  },
  {
   "cell_type": "code",
   "execution_count": null,
   "metadata": {},
   "outputs": [],
   "source": []
  },
  {
   "cell_type": "code",
   "execution_count": null,
   "metadata": {},
   "outputs": [],
   "source": []
  }
 ],
 "metadata": {
  "kernelspec": {
   "display_name": "eda_venv",
   "language": "python",
   "name": "python3"
  },
  "language_info": {
   "codemirror_mode": {
    "name": "ipython",
    "version": 3
   },
   "file_extension": ".py",
   "mimetype": "text/x-python",
   "name": "python",
   "nbconvert_exporter": "python",
   "pygments_lexer": "ipython3",
   "version": "3.10.12"
  }
 },
 "nbformat": 4,
 "nbformat_minor": 2
}
