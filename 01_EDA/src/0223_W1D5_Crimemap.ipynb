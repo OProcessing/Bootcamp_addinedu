{
 "cells": [
  {
   "cell_type": "code",
   "execution_count": null,
   "metadata": {},
   "outputs": [],
   "source": [
    "import pandas as pd\n",
    "import numpy as np\n",
    "import matplotlib.pyplot as plt\n",
    "import koreanize_matplotlib\n",
    "%matplotlib inline\n",
    "\n",
    "import folium\n",
    "import json\n"
   ]
  },
  {
   "cell_type": "code",
   "execution_count": null,
   "metadata": {},
   "outputs": [],
   "source": [
    "crime_anal_norm = pd.read_csv(\n",
    "    \"../data/02. crime_in_Seoul_final.csv\", index_col=0, encoding=\"utf-8\"\n",
    ")\n",
    "\n",
    "geo_path = \"../data/02. skorea_municipalities_geo_simple.json\"\n",
    "geo_str = json.load(open(geo_path, encoding=\"utf-8\"))"
   ]
  },
  {
   "cell_type": "code",
   "execution_count": null,
   "metadata": {},
   "outputs": [],
   "source": [
    "my_map = folium.Map(location=[37.5502, 126.982], width=\"80%\", height=\"80%\", zoom_start=11)\n",
    "\n",
    "num = 3\n",
    "\n",
    "folium.Choropleth(\n",
    "    geo_data=geo_str,\n",
    "    data=crime_anal_norm[\"폭력\"],\n",
    "    columns=[crime_anal_norm.index, crime_anal_norm[\"폭력\"]],\n",
    "    key_on=\"feature.id\",\n",
    "    fill_color=\"PuRd\",\n",
    "    fill_opacity=0.7,\n",
    "    line_opacity=0.2,\n",
    "    legend_name=\"정규화된 범죄 발생 건수\"\n",
    ").add_to(my_map)\n",
    "\n",
    "my_map"
   ]
  },
  {
   "cell_type": "code",
   "execution_count": null,
   "metadata": {},
   "outputs": [],
   "source": [
    "my_map"
   ]
  },
  {
   "cell_type": "code",
   "execution_count": null,
   "metadata": {},
   "outputs": [],
   "source": []
  }
 ],
 "metadata": {
  "kernelspec": {
   "display_name": "eda_venv",
   "language": "python",
   "name": "python3"
  },
  "language_info": {
   "codemirror_mode": {
    "name": "ipython",
    "version": 3
   },
   "file_extension": ".py",
   "mimetype": "text/x-python",
   "name": "python",
   "nbconvert_exporter": "python",
   "pygments_lexer": "ipython3",
   "version": "3.10.12"
  }
 },
 "nbformat": 4,
 "nbformat_minor": 2
}
