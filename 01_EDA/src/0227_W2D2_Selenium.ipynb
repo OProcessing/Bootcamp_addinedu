{
 "cells": [
  {
   "cell_type": "code",
   "execution_count": null,
   "metadata": {},
   "outputs": [],
   "source": [
    "from selenium import webdriver\n",
    "from selenium.webdriver.chrome.service import Service\n",
    "from matplotlib import pyplot as plt\n",
    "from matplotlib import image as mpimg\n",
    "from selenium.webdriver.common.by import By\n",
    "from selenium.webdriver.common.keys import Keys"
   ]
  },
  {
   "cell_type": "code",
   "execution_count": null,
   "metadata": {},
   "outputs": [],
   "source": [
    "driver = webdriver.Chrome(service=Service(\"../driver/chromedriver\"))\n",
    "driver.get(\"https://www.selenium.dev/\")"
   ]
  },
  {
   "cell_type": "code",
   "execution_count": null,
   "metadata": {},
   "outputs": [],
   "source": [
    "driver.current_url"
   ]
  },
  {
   "cell_type": "code",
   "execution_count": null,
   "metadata": {},
   "outputs": [],
   "source": [
    "element = driver.find_element(By.CLASS_NAME, \"d-flex.justify-content-center.p-5.td-box--100\")\n",
    "child = element.find_element(By.CLASS_NAME,\"selenium\")\n",
    "driver.execute_script(\"arguments[0].scrollIntoView(false);\",child)"
   ]
  },
  {
   "cell_type": "code",
   "execution_count": null,
   "metadata": {},
   "outputs": [],
   "source": [
    "doc_link = driver.find_element(By.XPATH, '''//*[@id=\"main_navbar\"]/ul/li[3]/a''')\n",
    "doc_link.click()\n",
    "search_btn = driver.find_element(By.XPATH, '''//*[@id=\"docsearch-1\"]/button''')\n",
    "search_btn.click()\n",
    "search_doc = driver.find_element(By.CSS_SELECTOR, \"#docsearch-input\")\n",
    "search_doc.send_keys('find elements')\n",
    "search_doc.send_keys(Keys.ENTER)\n",
    "python_tab = driver.find_element(By.ID, \"tabs-09-02-tab\")\n",
    "driver.execute_script(\"arguments[0].scrollIntoView(false);\", python_tab)\n",
    "python_tab.click()\n",
    "python_panel = driver.find_element(By.ID, \"tabs-09-02\")\n",
    "python_code = python_panel.find_element(By.TAG_NAME, \"code\")"
   ]
  },
  {
   "cell_type": "code",
   "execution_count": null,
   "metadata": {},
   "outputs": [],
   "source": [
    "print(python_code.text)"
   ]
  },
  {
   "cell_type": "code",
   "execution_count": null,
   "metadata": {},
   "outputs": [],
   "source": [
    "driver.back()"
   ]
  },
  {
   "cell_type": "code",
   "execution_count": null,
   "metadata": {},
   "outputs": [],
   "source": [
    "driver.close()"
   ]
  },
  {
   "cell_type": "code",
   "execution_count": null,
   "metadata": {},
   "outputs": [],
   "source": [
    "driver.quit()"
   ]
  },
  {
   "cell_type": "code",
   "execution_count": null,
   "metadata": {},
   "outputs": [],
   "source": []
  }
 ],
 "metadata": {
  "kernelspec": {
   "display_name": "eda_venv",
   "language": "python",
   "name": "python3"
  },
  "language_info": {
   "codemirror_mode": {
    "name": "ipython",
    "version": 3
   },
   "file_extension": ".py",
   "mimetype": "text/x-python",
   "name": "python",
   "nbconvert_exporter": "python",
   "pygments_lexer": "ipython3",
   "version": "3.10.12"
  }
 },
 "nbformat": 4,
 "nbformat_minor": 2
}
