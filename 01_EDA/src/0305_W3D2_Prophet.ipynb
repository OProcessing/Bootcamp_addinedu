{
 "cells": [
  {
   "cell_type": "code",
   "execution_count": null,
   "metadata": {},
   "outputs": [],
   "source": [
    "import pandas as pd\n",
    "import numpy as np\n",
    "import matplotlib.pyplot as plt\n",
    "from prophet import Prophet\n",
    "import seaborn as sns"
   ]
  },
  {
   "cell_type": "code",
   "execution_count": null,
   "metadata": {},
   "outputs": [],
   "source": [
    "time = np.linspace(0, 1, 365*2)\n",
    "result = np.sin(2*np.pi*12*time)\n",
    "ds = pd.date_range(\"2017-01-01\", periods=365*2, freq=\"D\")\n",
    "df = pd.DataFrame({\"ds\":ds, \"y\":result})\n",
    "df[\"y\"].plot(figsize=(10,6));\n",
    "m = Prophet(yearly_seasonality=True, daily_seasonality=True)\n",
    "m.fit(df)\n",
    "future = m.make_future_dataframe(periods=30)\n",
    "forecast = m.predict(future)\n",
    "m.plot(forecast);"
   ]
  },
  {
   "cell_type": "code",
   "execution_count": null,
   "metadata": {},
   "outputs": [],
   "source": [
    "time = np.linspace(0, 1, 365*2)\n",
    "result = np.sin(2*np.pi*12*time) + time\n",
    "ds = pd.date_range(\"2017-01-01\", periods=365*2, freq=\"D\")\n",
    "df = pd.DataFrame({\"ds\":ds, \"y\":result})\n",
    "df[\"y\"].plot(figsize=(10,6));"
   ]
  },
  {
   "cell_type": "code",
   "execution_count": null,
   "metadata": {},
   "outputs": [],
   "source": [
    "m = Prophet(yearly_seasonality=True, daily_seasonality=True)\n",
    "m.fit(df)\n",
    "future = m.make_future_dataframe(periods=30)\n",
    "forecast = m.predict(future)\n",
    "m.plot(forecast);"
   ]
  },
  {
   "cell_type": "code",
   "execution_count": null,
   "metadata": {},
   "outputs": [],
   "source": [
    "time = np.linspace(0, 1, 365*2)\n",
    "result = np.sin(2*np.pi*12*time) + time + np.random.randn(365*2)/4\n",
    "ds = pd.date_range(\"2017-01-01\", periods=365*2, freq=\"D\")\n",
    "df = pd.DataFrame({\"ds\":ds, \"y\":result})\n",
    "df[\"y\"].plot(figsize=(10,6));"
   ]
  },
  {
   "cell_type": "code",
   "execution_count": null,
   "metadata": {},
   "outputs": [],
   "source": [
    "m = Prophet(yearly_seasonality=True, daily_seasonality=True)\n",
    "m.fit(df)\n",
    "future = m.make_future_dataframe(periods=30)\n",
    "forecast = m.predict(future)\n",
    "m.plot(forecast);"
   ]
  },
  {
   "cell_type": "code",
   "execution_count": null,
   "metadata": {},
   "outputs": [],
   "source": [
    "pinkwink_web = pd.read_excel(\"../data/pinkwink_web.xlsx\", names=[\"ds\", \"hit\"])\n",
    "df = pd.DataFrame({\"ds\":pd.to_datetime(pinkwink_web[\"ds\"], format=\"%y. %m. %d.\"),\n",
    "          \"y\":pinkwink_web[\"hit\"]})\n",
    "m = Prophet(yearly_seasonality=True, daily_seasonality=True)\n",
    "m.fit(df)\n",
    "\n",
    "future = m.make_future_dataframe(periods=31)\n",
    "forecast = m.predict(future)\n",
    "m.plot(forecast);"
   ]
  },
  {
   "cell_type": "code",
   "execution_count": null,
   "metadata": {},
   "outputs": [],
   "source": [
    "sns.set_style(\"whitegrid\")\n",
    "sns.set_palette(\"husl\")\n",
    "plt.figure(figsize=(10,6))\n",
    "for each in [\"trend\", \"yhat\", \"yhat_lower\", \"yhat_upper\"]:\n",
    "    plt.plot(forecast[\"ds\"], forecast[each], label=each)\n",
    "\n",
    "plt.legend(loc=\"best\")\n",
    "plt.show()"
   ]
  },
  {
   "cell_type": "code",
   "execution_count": null,
   "metadata": {},
   "outputs": [],
   "source": [
    "plt.figure(figsize=(10,6))\n",
    "for each in [\"trend\", \"yhat\", \"yearly\"]:\n",
    "    plt.plot(forecast[\"ds\"], forecast[each], label=each)\n",
    "\n",
    "plt.legend(loc=\"best\")\n",
    "plt.show()"
   ]
  },
  {
   "cell_type": "code",
   "execution_count": null,
   "metadata": {},
   "outputs": [],
   "source": [
    "m.plot_components(forecast);"
   ]
  },
  {
   "cell_type": "code",
   "execution_count": null,
   "metadata": {},
   "outputs": [],
   "source": [
    "import yfinance as yf"
   ]
  },
  {
   "cell_type": "code",
   "execution_count": null,
   "metadata": {},
   "outputs": [],
   "source": [
    "KIA = yf.download(\"005930.KS\",\n",
    "                  start=\"2000-01-01\",\n",
    "                  end=\"2024-03-04\")\n",
    "KIA = KIA[[\"Close\"]]\n",
    "KIA = KIA.reset_index()\n",
    "KIA.columns = [\"ds\", \"y\"]"
   ]
  },
  {
   "cell_type": "code",
   "execution_count": null,
   "metadata": {},
   "outputs": [],
   "source": [
    "m = Prophet()\n",
    "m.fit(KIA)\n",
    "future = m.make_future_dataframe(periods=300)\n",
    "future.tail()"
   ]
  },
  {
   "cell_type": "code",
   "execution_count": null,
   "metadata": {},
   "outputs": [],
   "source": [
    "forecast = m.predict(future)\n",
    "plt.figure(figsize=(12,6))\n",
    "plt.plot(KIA[\"ds\"], KIA[\"y\"])\n",
    "plt.show()"
   ]
  },
  {
   "cell_type": "code",
   "execution_count": null,
   "metadata": {},
   "outputs": [],
   "source": []
  },
  {
   "cell_type": "code",
   "execution_count": null,
   "metadata": {},
   "outputs": [],
   "source": []
  }
 ],
 "metadata": {
  "kernelspec": {
   "display_name": "eda_venv",
   "language": "python",
   "name": "python3"
  },
  "language_info": {
   "codemirror_mode": {
    "name": "ipython",
    "version": 3
   },
   "file_extension": ".py",
   "mimetype": "text/x-python",
   "name": "python",
   "nbconvert_exporter": "python",
   "pygments_lexer": "ipython3",
   "version": "3.10.12"
  }
 },
 "nbformat": 4,
 "nbformat_minor": 2
}
