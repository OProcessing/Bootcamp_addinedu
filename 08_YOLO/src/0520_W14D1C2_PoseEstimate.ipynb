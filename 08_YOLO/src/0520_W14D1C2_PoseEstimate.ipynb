{
 "cells": [
  {
   "cell_type": "code",
   "execution_count": null,
   "metadata": {},
   "outputs": [],
   "source": [
    "from ultralytics import YOLO\n",
    "model = YOLO(\"yolov8n-pose.pt\")\n",
    "results = model(\"https://ultralytics.com/images/bus.jpg\", save=True)"
   ]
  },
  {
   "cell_type": "code",
   "execution_count": null,
   "metadata": {},
   "outputs": [],
   "source": [
    "import matplotlib.pyplot as plt\n",
    "import cv2\n",
    "\n",
    "image = cv2.imread('/home/han/runs/pose/predict/bus.jpg', cv2.IMREAD_COLOR)\n",
    "\n",
    "cv2.imshow('image', image)\n",
    "while(True) :\n",
    "    if cv2.waitKey(1) & 0xFF == ord(\"q\"):\n",
    "        cv2.destroyAllWindows()\n",
    "        break"
   ]
  },
  {
   "cell_type": "code",
   "execution_count": null,
   "metadata": {},
   "outputs": [],
   "source": [
    "from ultralytics import YOLO\n",
    "model = YOLO(\"yolov8n-pose.yaml\")\n",
    "results = model.train(data=\"coco8-pose.yaml\", epochs=100, imgsz=640)"
   ]
  },
  {
   "cell_type": "code",
   "execution_count": null,
   "metadata": {},
   "outputs": [],
   "source": [
    "from ultralytics import YOLO\n",
    "model = YOLO('yolov8n-pose.pt')\n",
    "model(source='../../00.Data/08.YOLO/people_walk.mp4', save=True, imgsz=1280)"
   ]
  },
  {
   "cell_type": "code",
   "execution_count": null,
   "metadata": {},
   "outputs": [],
   "source": [
    "from ultralytics import YOLO\n",
    "model = YOLO('yolov8n-pose.pt')\n",
    "model(source='../../00.Data/08.YOLO/MV_IVE_I_WANT.webm', save=True, imgsz=160)"
   ]
  },
  {
   "cell_type": "code",
   "execution_count": null,
   "metadata": {},
   "outputs": [],
   "source": [
    "from ultralytics import YOLO\n",
    "import cv2\n",
    "import numpy as np\n",
    "\n",
    "model = YOLO('yolov8n-pose.pt')\n",
    "cap = cv2.VideoCapture('../../00.Data/08.YOLO/MV_IVE_I_WANT.webm')\n",
    "\n",
    "while True:\n",
    "    ret, frame = cap.read()\n",
    "    if not ret:\n",
    "        print(\"Video frame is empty or video processing has been successfully completed.\")\n",
    "        break\n",
    "    frame = cv2.resize(frame, (1280,720))\n",
    "    results = model(frame, stream=True)\n",
    "\n",
    "    for r in results:\n",
    "        keypoints = r.keypoints\n",
    "\n",
    "        for ks in keypoints :\n",
    "            k = np.array(ks.xy[0].cpu(), dtype=int)\n",
    "            for org in k :\n",
    "                cv2.line(frame, org, org, (0,0,255), 10)\n",
    "    cv2.imshow(\"result preview\", frame)\n",
    "    if cv2.waitKey(1) == ord('q'):\n",
    "        break\n",
    "cap.release()\n",
    "cv2.destroyAllWindows()"
   ]
  },
  {
   "cell_type": "code",
   "execution_count": null,
   "metadata": {},
   "outputs": [],
   "source": [
    "from ultralytics import YOLO\n",
    "import cv2\n",
    "import numpy as np\n",
    "model = YOLO('yolov8n-pose.pt')\n",
    "cap = cv2.VideoCapture(\"../../00.Data/08.YOLO/MV_IVE_I_WANT.webm\")\n",
    "while True:\n",
    "    ret, frame = cap.read()\n",
    "    if not ret:\n",
    "        print(\"Video frame is empty or video processing has been successfully completed.\")\n",
    "        break\n",
    "    frame = cv2.resize(frame, (1280,720))\n",
    "    results = model(frame, stream=True)\n",
    "    for r in results:\n",
    "        keypoints = r.keypoints\n",
    "        for ks in keypoints :\n",
    "            k = np.array(ks.xy[0].cpu(), dtype=int)\n",
    "            try:\n",
    "                org = k[5]\n",
    "                cv2.line(frame, org, org, (0,0,255), 10)\n",
    "                org = k[6]\n",
    "                cv2.line(frame, org, org, (255,0,0), 10)\n",
    "            except :\n",
    "                continue\n",
    "    cv2.imshow(\"result preview\", frame)\n",
    "    if cv2.waitKey(1) == ord('q'):\n",
    "        break\n",
    "cap.release()\n",
    "cv2.destroyAllWindows()"
   ]
  },
  {
   "cell_type": "code",
   "execution_count": null,
   "metadata": {},
   "outputs": [],
   "source": [
    "from ultralytics import YOLO\n",
    "import cv2\n",
    "import numpy as np\n",
    "model = YOLO('yolov8n-pose.pt')\n",
    "cap = cv2.VideoCapture(\"../../00.Data/08.YOLO/MV_IVE_I_WANT.webm\")\n",
    "w, h, fps = (int(cap.get(x)) for x in (cv2.CAP_PROP_FRAME_WIDTH, cv2.CAP_PROP_FRAME_HEIGHT, cv2.CAP_PROP_FPS))\n",
    "img1 = cv2.imread('../../00.Data/08.YOLO/doughnut.jpg')\n",
    "while True:\n",
    "    ret, frame = cap.read()\n",
    "    if not ret:\n",
    "        print(\"Video frame is empty or video processing has been successfully completed.\")\n",
    "        break\n",
    "    frame = cv2.resize(frame, (1280,720))\n",
    "    results = model(frame, stream=True)\n",
    "    for r in results:\n",
    "        keypoints = r.keypoints\n",
    "        for ks in keypoints :\n",
    "            k = np.array(ks.xy[0].cpu(), dtype=int)\n",
    "            try:\n",
    "\n",
    "                xsize = abs(k[3][0] - k[4][0])\n",
    "                img2 = cv2.resize(img1, (xsize, xsize))\n",
    "                img2H, img2W, img2C = img2.shape\n",
    "\n",
    "                x_offset = k[0][0] - int(img2W/2)\n",
    "                y_offset = k[0][1] - int(img2H/2)\n",
    "\n",
    "                roi = frame[y_offset:y_offset+img2H, x_offset:x_offset+img2W]\n",
    "                img2_gray = cv2.cvtColor(img2, cv2.COLOR_BGR2GRAY)\n",
    "                mask_inv = cv2.bitwise_not(img2_gray)\n",
    "                fg = cv2.bitwise_or(img2, img2, mask=mask_inv)\n",
    "                final_roi = cv2.bitwise_or(roi, fg)\n",
    "                frame[y_offset:y_offset+img2H, x_offset:x_offset+img2W] = final_roi\n",
    "\n",
    "            except Exception as e:\n",
    "                print(e)\n",
    "    cv2.imshow(\"result preview\", frame)\n",
    "    if cv2.waitKey(1) == ord('q'):\n",
    "        break\n",
    "cap.release()\n",
    "cv2.destroyAllWindows()"
   ]
  },
  {
   "cell_type": "code",
   "execution_count": null,
   "metadata": {},
   "outputs": [],
   "source": [
    "k[1][1]"
   ]
  },
  {
   "cell_type": "code",
   "execution_count": null,
   "metadata": {},
   "outputs": [],
   "source": []
  }
 ],
 "metadata": {
  "kernelspec": {
   "display_name": "openCV_venv",
   "language": "python",
   "name": "python3"
  },
  "language_info": {
   "codemirror_mode": {
    "name": "ipython",
    "version": 3
   },
   "file_extension": ".py",
   "mimetype": "text/x-python",
   "name": "python",
   "nbconvert_exporter": "python",
   "pygments_lexer": "ipython3",
   "version": "3.10.12"
  }
 },
 "nbformat": 4,
 "nbformat_minor": 2
}
